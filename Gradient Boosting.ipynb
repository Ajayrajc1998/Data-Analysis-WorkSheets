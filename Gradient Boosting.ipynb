{
 "cells": [
  {
   "cell_type": "markdown",
   "id": "dfc5c8d3",
   "metadata": {},
   "source": [
    "# Gradient Boosting\n",
    "# ********************"
   ]
  },
  {
   "cell_type": "markdown",
   "id": "5c127ead",
   "metadata": {},
   "source": [
    "### Pseudo Algorithm\n",
    "### ********************\n",
    "#### 1. Intialize Model with constant value $$F_{0}=argmin_{r}(L(y,r))$$\n",
    "#### 2. Iterate 1 to m\n",
    "#### --->  2.1 compute pseudo residuals $$\\gamma_{im}=[\\frac{\\partial L(y,F(x_i))}{\\partial F(x_i)}]$$\n",
    "####  ---> 2.2 Fit a Base Learner model (eg:Decision Tree) $h_{m}(x)$ where  input is  $\\{x_{i},\\gamma_{im}\\}$ which is obtained from 2.1 \n",
    "#### 3. $$\\gamma_{m}=argmin_{\\gamma}\\sum\\limits_{i=1}^{n}L(y_i,F_{m-1}(x_i)+\\gamma)$$\n",
    "#### 4. Update Model $$F_{m}(x)=F_{m-1}(x)+\\alpha h(x)$$"
   ]
  },
  {
   "cell_type": "markdown",
   "id": "a5eb98c7",
   "metadata": {},
   "source": [
    "$\\sum\\limits_{i=1}$"
   ]
  },
  {
   "cell_type": "code",
   "execution_count": null,
   "id": "04f24dfe",
   "metadata": {},
   "outputs": [],
   "source": []
  }
 ],
 "metadata": {
  "kernelspec": {
   "display_name": "dsvenv",
   "language": "python",
   "name": "dsvenv"
  },
  "language_info": {
   "codemirror_mode": {
    "name": "ipython",
    "version": 3
   },
   "file_extension": ".py",
   "mimetype": "text/x-python",
   "name": "python",
   "nbconvert_exporter": "python",
   "pygments_lexer": "ipython3",
   "version": "3.10.11"
  },
  "varInspector": {
   "cols": {
    "lenName": 16,
    "lenType": 16,
    "lenVar": 40
   },
   "kernels_config": {
    "python": {
     "delete_cmd_postfix": "",
     "delete_cmd_prefix": "del ",
     "library": "var_list.py",
     "varRefreshCmd": "print(var_dic_list())"
    },
    "r": {
     "delete_cmd_postfix": ") ",
     "delete_cmd_prefix": "rm(",
     "library": "var_list.r",
     "varRefreshCmd": "cat(var_dic_list()) "
    }
   },
   "types_to_exclude": [
    "module",
    "function",
    "builtin_function_or_method",
    "instance",
    "_Feature"
   ],
   "window_display": false
  }
 },
 "nbformat": 4,
 "nbformat_minor": 5
}
