{
 "cells": [
  {
   "cell_type": "markdown",
   "id": "f8c9e1b5",
   "metadata": {},
   "source": [
    "# Multiple Linear Regression"
   ]
  },
  {
   "cell_type": "code",
   "execution_count": 1,
   "id": "26299750",
   "metadata": {},
   "outputs": [],
   "source": [
    "#importing necessary libraries\n",
    "import pandas as pd\n",
    "import numpy as np\n",
    "import seaborn as sns\n",
    "import matplotlib.pyplot as plt\n",
    "%matplotlib inline"
   ]
  },
  {
   "cell_type": "code",
   "execution_count": 3,
   "id": "4e2c5ad2",
   "metadata": {},
   "outputs": [
    {
     "data": {
      "text/html": [
       "<div>\n",
       "<style scoped>\n",
       "    .dataframe tbody tr th:only-of-type {\n",
       "        vertical-align: middle;\n",
       "    }\n",
       "\n",
       "    .dataframe tbody tr th {\n",
       "        vertical-align: top;\n",
       "    }\n",
       "\n",
       "    .dataframe thead th {\n",
       "        text-align: right;\n",
       "    }\n",
       "</style>\n",
       "<table border=\"1\" class=\"dataframe\">\n",
       "  <thead>\n",
       "    <tr style=\"text-align: right;\">\n",
       "      <th></th>\n",
       "      <th>Unnamed: 0</th>\n",
       "      <th>id</th>\n",
       "      <th>groups</th>\n",
       "      <th>age</th>\n",
       "      <th>healthy_eating</th>\n",
       "      <th>active_lifestyle</th>\n",
       "      <th>salary</th>\n",
       "    </tr>\n",
       "  </thead>\n",
       "  <tbody>\n",
       "    <tr>\n",
       "      <th>0</th>\n",
       "      <td>0</td>\n",
       "      <td>0</td>\n",
       "      <td>A</td>\n",
       "      <td>36</td>\n",
       "      <td>5</td>\n",
       "      <td>5</td>\n",
       "      <td>2297</td>\n",
       "    </tr>\n",
       "    <tr>\n",
       "      <th>1</th>\n",
       "      <td>1</td>\n",
       "      <td>1</td>\n",
       "      <td>A</td>\n",
       "      <td>55</td>\n",
       "      <td>3</td>\n",
       "      <td>5</td>\n",
       "      <td>1134</td>\n",
       "    </tr>\n",
       "    <tr>\n",
       "      <th>2</th>\n",
       "      <td>2</td>\n",
       "      <td>2</td>\n",
       "      <td>A</td>\n",
       "      <td>61</td>\n",
       "      <td>8</td>\n",
       "      <td>1</td>\n",
       "      <td>4969</td>\n",
       "    </tr>\n",
       "    <tr>\n",
       "      <th>3</th>\n",
       "      <td>3</td>\n",
       "      <td>3</td>\n",
       "      <td>O</td>\n",
       "      <td>29</td>\n",
       "      <td>3</td>\n",
       "      <td>6</td>\n",
       "      <td>902</td>\n",
       "    </tr>\n",
       "    <tr>\n",
       "      <th>4</th>\n",
       "      <td>4</td>\n",
       "      <td>4</td>\n",
       "      <td>O</td>\n",
       "      <td>34</td>\n",
       "      <td>6</td>\n",
       "      <td>2</td>\n",
       "      <td>3574</td>\n",
       "    </tr>\n",
       "  </tbody>\n",
       "</table>\n",
       "</div>"
      ],
      "text/plain": [
       "   Unnamed: 0  id groups  age  healthy_eating  active_lifestyle  salary\n",
       "0           0   0      A   36               5                 5    2297\n",
       "1           1   1      A   55               3                 5    1134\n",
       "2           2   2      A   61               8                 1    4969\n",
       "3           3   3      O   29               3                 6     902\n",
       "4           4   4      O   34               6                 2    3574"
      ]
     },
     "execution_count": 3,
     "metadata": {},
     "output_type": "execute_result"
    }
   ],
   "source": [
    "df=pd.read_csv('employee_data.csv')\n",
    "df.head()"
   ]
  },
  {
   "cell_type": "code",
   "execution_count": 18,
   "id": "c34a1bdc",
   "metadata": {},
   "outputs": [
    {
     "name": "stdout",
     "output_type": "stream",
     "text": [
      "<class 'pandas.core.frame.DataFrame'>\n",
      "RangeIndex: 1000 entries, 0 to 999\n",
      "Data columns (total 7 columns):\n",
      " #   Column            Non-Null Count  Dtype \n",
      "---  ------            --------------  ----- \n",
      " 0   Unnamed: 0        1000 non-null   int64 \n",
      " 1   id                1000 non-null   int64 \n",
      " 2   groups            1000 non-null   object\n",
      " 3   age               1000 non-null   int64 \n",
      " 4   healthy_eating    1000 non-null   int64 \n",
      " 5   active_lifestyle  1000 non-null   int64 \n",
      " 6   salary            1000 non-null   int64 \n",
      "dtypes: int64(6), object(1)\n",
      "memory usage: 54.8+ KB\n"
     ]
    }
   ],
   "source": [
    "df.info()"
   ]
  },
  {
   "cell_type": "code",
   "execution_count": 20,
   "id": "615f2ed2",
   "metadata": {
    "scrolled": true
   },
   "outputs": [
    {
     "data": {
      "text/html": [
       "<div>\n",
       "<style scoped>\n",
       "    .dataframe tbody tr th:only-of-type {\n",
       "        vertical-align: middle;\n",
       "    }\n",
       "\n",
       "    .dataframe tbody tr th {\n",
       "        vertical-align: top;\n",
       "    }\n",
       "\n",
       "    .dataframe thead th {\n",
       "        text-align: right;\n",
       "    }\n",
       "</style>\n",
       "<table border=\"1\" class=\"dataframe\">\n",
       "  <thead>\n",
       "    <tr style=\"text-align: right;\">\n",
       "      <th></th>\n",
       "      <th>Unnamed: 0</th>\n",
       "      <th>id</th>\n",
       "      <th>age</th>\n",
       "      <th>healthy_eating</th>\n",
       "      <th>active_lifestyle</th>\n",
       "      <th>salary</th>\n",
       "    </tr>\n",
       "  </thead>\n",
       "  <tbody>\n",
       "    <tr>\n",
       "      <th>Unnamed: 0</th>\n",
       "      <td>1.000000</td>\n",
       "      <td>1.000000</td>\n",
       "      <td>-0.033595</td>\n",
       "      <td>-0.004993</td>\n",
       "      <td>0.028897</td>\n",
       "      <td>-0.012048</td>\n",
       "    </tr>\n",
       "    <tr>\n",
       "      <th>id</th>\n",
       "      <td>1.000000</td>\n",
       "      <td>1.000000</td>\n",
       "      <td>-0.033595</td>\n",
       "      <td>-0.004993</td>\n",
       "      <td>0.028897</td>\n",
       "      <td>-0.012048</td>\n",
       "    </tr>\n",
       "    <tr>\n",
       "      <th>age</th>\n",
       "      <td>-0.033595</td>\n",
       "      <td>-0.033595</td>\n",
       "      <td>1.000000</td>\n",
       "      <td>-0.014969</td>\n",
       "      <td>0.148267</td>\n",
       "      <td>-0.072231</td>\n",
       "    </tr>\n",
       "    <tr>\n",
       "      <th>healthy_eating</th>\n",
       "      <td>-0.004993</td>\n",
       "      <td>-0.004993</td>\n",
       "      <td>-0.014969</td>\n",
       "      <td>1.000000</td>\n",
       "      <td>0.031613</td>\n",
       "      <td>0.858405</td>\n",
       "    </tr>\n",
       "    <tr>\n",
       "      <th>active_lifestyle</th>\n",
       "      <td>0.028897</td>\n",
       "      <td>0.028897</td>\n",
       "      <td>0.148267</td>\n",
       "      <td>0.031613</td>\n",
       "      <td>1.000000</td>\n",
       "      <td>-0.323575</td>\n",
       "    </tr>\n",
       "    <tr>\n",
       "      <th>salary</th>\n",
       "      <td>-0.012048</td>\n",
       "      <td>-0.012048</td>\n",
       "      <td>-0.072231</td>\n",
       "      <td>0.858405</td>\n",
       "      <td>-0.323575</td>\n",
       "      <td>1.000000</td>\n",
       "    </tr>\n",
       "  </tbody>\n",
       "</table>\n",
       "</div>"
      ],
      "text/plain": [
       "                  Unnamed: 0        id       age  healthy_eating   \n",
       "Unnamed: 0          1.000000  1.000000 -0.033595       -0.004993  \\\n",
       "id                  1.000000  1.000000 -0.033595       -0.004993   \n",
       "age                -0.033595 -0.033595  1.000000       -0.014969   \n",
       "healthy_eating     -0.004993 -0.004993 -0.014969        1.000000   \n",
       "active_lifestyle    0.028897  0.028897  0.148267        0.031613   \n",
       "salary             -0.012048 -0.012048 -0.072231        0.858405   \n",
       "\n",
       "                  active_lifestyle    salary  \n",
       "Unnamed: 0                0.028897 -0.012048  \n",
       "id                        0.028897 -0.012048  \n",
       "age                       0.148267 -0.072231  \n",
       "healthy_eating            0.031613  0.858405  \n",
       "active_lifestyle          1.000000 -0.323575  \n",
       "salary                   -0.323575  1.000000  "
      ]
     },
     "execution_count": 20,
     "metadata": {},
     "output_type": "execute_result"
    }
   ],
   "source": [
    "a=df.drop('groups',axis=1)\n",
    "a.corr()"
   ]
  },
  {
   "cell_type": "markdown",
   "id": "e230f4ac",
   "metadata": {},
   "source": [
    "#### We drop the unnamed column:0 since it is same is"
   ]
  },
  {
   "cell_type": "code",
   "execution_count": 24,
   "id": "62f59920",
   "metadata": {},
   "outputs": [],
   "source": [
    "df.drop('Unnamed: 0',axis=1,inplace=True)"
   ]
  },
  {
   "cell_type": "markdown",
   "id": "c028f9b1",
   "metadata": {},
   "source": [
    "#### Now we can handle our one and only categorical feature groups"
   ]
  },
  {
   "cell_type": "code",
   "execution_count": 26,
   "id": "59c804fa",
   "metadata": {},
   "outputs": [
    {
     "data": {
      "text/plain": [
       "array(['A', 'O', 'AB', 'B'], dtype=object)"
      ]
     },
     "execution_count": 26,
     "metadata": {},
     "output_type": "execute_result"
    }
   ],
   "source": [
    "df.groups.unique()"
   ]
  },
  {
   "cell_type": "code",
   "execution_count": 32,
   "id": "a8c9f27f",
   "metadata": {},
   "outputs": [],
   "source": [
    "from sklearn.preprocessing import LabelEncoder\n",
    "label=LabelEncoder()\n",
    "df.groups=label.fit_transform(df.groups)"
   ]
  },
  {
   "cell_type": "code",
   "execution_count": 33,
   "id": "620ae9b6",
   "metadata": {},
   "outputs": [
    {
     "data": {
      "text/html": [
       "<div>\n",
       "<style scoped>\n",
       "    .dataframe tbody tr th:only-of-type {\n",
       "        vertical-align: middle;\n",
       "    }\n",
       "\n",
       "    .dataframe tbody tr th {\n",
       "        vertical-align: top;\n",
       "    }\n",
       "\n",
       "    .dataframe thead th {\n",
       "        text-align: right;\n",
       "    }\n",
       "</style>\n",
       "<table border=\"1\" class=\"dataframe\">\n",
       "  <thead>\n",
       "    <tr style=\"text-align: right;\">\n",
       "      <th></th>\n",
       "      <th>id</th>\n",
       "      <th>groups</th>\n",
       "      <th>age</th>\n",
       "      <th>healthy_eating</th>\n",
       "      <th>active_lifestyle</th>\n",
       "      <th>salary</th>\n",
       "    </tr>\n",
       "  </thead>\n",
       "  <tbody>\n",
       "    <tr>\n",
       "      <th>0</th>\n",
       "      <td>0</td>\n",
       "      <td>0</td>\n",
       "      <td>36</td>\n",
       "      <td>5</td>\n",
       "      <td>5</td>\n",
       "      <td>2297</td>\n",
       "    </tr>\n",
       "    <tr>\n",
       "      <th>1</th>\n",
       "      <td>1</td>\n",
       "      <td>0</td>\n",
       "      <td>55</td>\n",
       "      <td>3</td>\n",
       "      <td>5</td>\n",
       "      <td>1134</td>\n",
       "    </tr>\n",
       "    <tr>\n",
       "      <th>2</th>\n",
       "      <td>2</td>\n",
       "      <td>0</td>\n",
       "      <td>61</td>\n",
       "      <td>8</td>\n",
       "      <td>1</td>\n",
       "      <td>4969</td>\n",
       "    </tr>\n",
       "    <tr>\n",
       "      <th>3</th>\n",
       "      <td>3</td>\n",
       "      <td>3</td>\n",
       "      <td>29</td>\n",
       "      <td>3</td>\n",
       "      <td>6</td>\n",
       "      <td>902</td>\n",
       "    </tr>\n",
       "    <tr>\n",
       "      <th>4</th>\n",
       "      <td>4</td>\n",
       "      <td>3</td>\n",
       "      <td>34</td>\n",
       "      <td>6</td>\n",
       "      <td>2</td>\n",
       "      <td>3574</td>\n",
       "    </tr>\n",
       "  </tbody>\n",
       "</table>\n",
       "</div>"
      ],
      "text/plain": [
       "   id  groups  age  healthy_eating  active_lifestyle  salary\n",
       "0   0       0   36               5                 5    2297\n",
       "1   1       0   55               3                 5    1134\n",
       "2   2       0   61               8                 1    4969\n",
       "3   3       3   29               3                 6     902\n",
       "4   4       3   34               6                 2    3574"
      ]
     },
     "execution_count": 33,
     "metadata": {},
     "output_type": "execute_result"
    }
   ],
   "source": [
    "df.head()"
   ]
  },
  {
   "cell_type": "markdown",
   "id": "719bf366",
   "metadata": {},
   "source": [
    "#### now we can select feature selection using correlation"
   ]
  },
  {
   "cell_type": "code",
   "execution_count": 37,
   "id": "65ea915a",
   "metadata": {},
   "outputs": [
    {
     "data": {
      "text/plain": [
       "<Axes: >"
      ]
     },
     "execution_count": 37,
     "metadata": {},
     "output_type": "execute_result"
    },
    {
     "data": {
      "image/png": "[encoded data removed]",
      "text/plain": [
       "<Figure size 640x480 with 2 Axes>"
      ]
     },
     "metadata": {},
     "output_type": "display_data"
    }
   ],
   "source": [
    "a=df.drop('salary',axis=1) \n",
    "sns.heatmap(a.corr(),annot=True,cmap=plt.cm.CMRmap_r)"
   ]
  },
  {
   "cell_type": "markdown",
   "id": "47867b32",
   "metadata": {},
   "source": [
    "#### Since the mutual correlations are very low we can consider each features"
   ]
  },
  {
   "cell_type": "markdown",
   "id": "a5283d80",
   "metadata": {},
   "source": [
    "### Splitting our dataset using train test split"
   ]
  },
  {
   "cell_type": "code",
   "execution_count": 47,
   "id": "a6a8751b",
   "metadata": {},
   "outputs": [],
   "source": [
    "from sklearn.model_selection import train_test_split\n",
    "X=df.drop('salary',axis=1)\n",
    "y=df['salary']\n",
    "X_train,X_test,y_train,y_test=train_test_split(X,y,test_size=0.3,random_state=42)"
   ]
  },
  {
   "cell_type": "markdown",
   "id": "152d2ee2",
   "metadata": {},
   "source": [
    "### Modeling"
   ]
  },
  {
   "cell_type": "code",
   "execution_count": 40,
   "id": "0bb8f853",
   "metadata": {},
   "outputs": [],
   "source": [
    "from sklearn.linear_model import LinearRegression\n",
    "from sklearn.metrics import mean_squared_error,r2_score,mean_absolute_error"
   ]
  },
  {
   "cell_type": "code",
   "execution_count": 48,
   "id": "23015e15",
   "metadata": {},
   "outputs": [
    {
     "data": {
      "text/html": [
       "<style>#sk-container-id-1 {color: black;background-color: white;}#sk-container-id-1 pre{padding: 0;}#sk-container-id-1 div.sk-toggleable {background-color: white;}#sk-container-id-1 label.sk-toggleable__label {cursor: pointer;display: block;width: 100%;margin-bottom: 0;padding: 0.3em;box-sizing: border-box;text-align: center;}#sk-container-id-1 label.sk-toggleable__label-arrow:before {content: \"▸\";float: left;margin-right: 0.25em;color: #696969;}#sk-container-id-1 label.sk-toggleable__label-arrow:hover:before {color: black;}#sk-container-id-1 div.sk-estimator:hover label.sk-toggleable__label-arrow:before {color: black;}#sk-container-id-1 div.sk-toggleable__content {max-height: 0;max-width: 0;overflow: hidden;text-align: left;background-color: #f0f8ff;}#sk-container-id-1 div.sk-toggleable__content pre {margin: 0.2em;color: black;border-radius: 0.25em;background-color: #f0f8ff;}#sk-container-id-1 input.sk-toggleable__control:checked~div.sk-toggleable__content {max-height: 200px;max-width: 100%;overflow: auto;}#sk-container-id-1 input.sk-toggleable__control:checked~label.sk-toggleable__label-arrow:before {content: \"▾\";}#sk-container-id-1 div.sk-estimator input.sk-toggleable__control:checked~label.sk-toggleable__label {background-color: #d4ebff;}#sk-container-id-1 div.sk-label input.sk-toggleable__control:checked~label.sk-toggleable__label {background-color: #d4ebff;}#sk-container-id-1 input.sk-hidden--visually {border: 0;clip: rect(1px 1px 1px 1px);clip: rect(1px, 1px, 1px, 1px);height: 1px;margin: -1px;overflow: hidden;padding: 0;position: absolute;width: 1px;}#sk-container-id-1 div.sk-estimator {font-family: monospace;background-color: #f0f8ff;border: 1px dotted black;border-radius: 0.25em;box-sizing: border-box;margin-bottom: 0.5em;}#sk-container-id-1 div.sk-estimator:hover {background-color: #d4ebff;}#sk-container-id-1 div.sk-parallel-item::after {content: \"\";width: 100%;border-bottom: 1px solid gray;flex-grow: 1;}#sk-container-id-1 div.sk-label:hover label.sk-toggleable__label {background-color: #d4ebff;}#sk-container-id-1 div.sk-serial::before {content: \"\";position: absolute;border-left: 1px solid gray;box-sizing: border-box;top: 0;bottom: 0;left: 50%;z-index: 0;}#sk-container-id-1 div.sk-serial {display: flex;flex-direction: column;align-items: center;background-color: white;padding-right: 0.2em;padding-left: 0.2em;position: relative;}#sk-container-id-1 div.sk-item {position: relative;z-index: 1;}#sk-container-id-1 div.sk-parallel {display: flex;align-items: stretch;justify-content: center;background-color: white;position: relative;}#sk-container-id-1 div.sk-item::before, #sk-container-id-1 div.sk-parallel-item::before {content: \"\";position: absolute;border-left: 1px solid gray;box-sizing: border-box;top: 0;bottom: 0;left: 50%;z-index: -1;}#sk-container-id-1 div.sk-parallel-item {display: flex;flex-direction: column;z-index: 1;position: relative;background-color: white;}#sk-container-id-1 div.sk-parallel-item:first-child::after {align-self: flex-end;width: 50%;}#sk-container-id-1 div.sk-parallel-item:last-child::after {align-self: flex-start;width: 50%;}#sk-container-id-1 div.sk-parallel-item:only-child::after {width: 0;}#sk-container-id-1 div.sk-dashed-wrapped {border: 1px dashed gray;margin: 0 0.4em 0.5em 0.4em;box-sizing: border-box;padding-bottom: 0.4em;background-color: white;}#sk-container-id-1 div.sk-label label {font-family: monospace;font-weight: bold;display: inline-block;line-height: 1.2em;}#sk-container-id-1 div.sk-label-container {text-align: center;}#sk-container-id-1 div.sk-container {/* jupyter's `normalize.less` sets `[hidden] { display: none; }` but bootstrap.min.css set `[hidden] { display: none !important; }` so we also need the `!important` here to be able to override the default hidden behavior on the sphinx rendered scikit-learn.org. See: https://github.com/scikit-learn/scikit-learn/issues/21755 */display: inline-block !important;position: relative;}#sk-container-id-1 div.sk-text-repr-fallback {display: none;}</style><div id=\"sk-container-id-1\" class=\"sk-top-container\"><div class=\"sk-text-repr-fallback\"><pre>LinearRegression()</pre><b>In a Jupyter environment, please rerun this cell to show the HTML representation or trust the notebook. <br />On GitHub, the HTML representation is unable to render, please try loading this page with nbviewer.org.</b></div><div class=\"sk-container\" hidden><div class=\"sk-item\"><div class=\"sk-estimator sk-toggleable\"><input class=\"sk-toggleable__control sk-hidden--visually\" id=\"sk-estimator-id-1\" type=\"checkbox\" checked><label for=\"sk-estimator-id-1\" class=\"sk-toggleable__label sk-toggleable__label-arrow\">LinearRegression</label><div class=\"sk-toggleable__content\"><pre>LinearRegression()</pre></div></div></div></div></div>"
      ],
      "text/plain": [
       "LinearRegression()"
      ]
     },
     "execution_count": 48,
     "metadata": {},
     "output_type": "execute_result"
    }
   ],
   "source": [
    "linear=LinearRegression()\n",
    "linear.fit(X_train,y_train)"
   ]
  },
  {
   "cell_type": "code",
   "execution_count": 50,
   "id": "c290a77f",
   "metadata": {},
   "outputs": [],
   "source": [
    "pred1=linear.predict(X_test)"
   ]
  },
  {
   "cell_type": "code",
   "execution_count": 56,
   "id": "60eed6c1",
   "metadata": {},
   "outputs": [],
   "source": [
    "MSE=mean_squared_error(y_test,pred1)\n",
    "MAE=mean_absolute_error(y_test,pred1)\n",
    "R2=r2_score(y_test,pred1)"
   ]
  },
  {
   "cell_type": "code",
   "execution_count": 57,
   "id": "24fbff21",
   "metadata": {},
   "outputs": [
    {
     "data": {
      "text/plain": [
       "0.9032180190860339"
      ]
     },
     "execution_count": 57,
     "metadata": {},
     "output_type": "execute_result"
    }
   ],
   "source": [
    "R2"
   ]
  },
  {
   "cell_type": "code",
   "execution_count": 60,
   "id": "1b3e31b1",
   "metadata": {},
   "outputs": [
    {
     "data": {
      "text/plain": [
       "344.2711150500748"
      ]
     },
     "execution_count": 60,
     "metadata": {},
     "output_type": "execute_result"
    }
   ],
   "source": [
    "np.sqrt(MSE)"
   ]
  },
  {
   "cell_type": "code",
   "execution_count": 59,
   "id": "e949f9cb",
   "metadata": {},
   "outputs": [
    {
     "data": {
      "text/plain": [
       "247.82404782842877"
      ]
     },
     "execution_count": 59,
     "metadata": {},
     "output_type": "execute_result"
    }
   ],
   "source": [
    "MAE"
   ]
  },
  {
   "cell_type": "markdown",
   "id": "a2553597",
   "metadata": {},
   "source": [
    "# Decision Tree"
   ]
  },
  {
   "cell_type": "code",
   "execution_count": 79,
   "id": "370a8dde",
   "metadata": {},
   "outputs": [],
   "source": [
    "from sklearn.tree import DecisionTreeRegressor\n",
    "from sklearn import tree"
   ]
  },
  {
   "cell_type": "code",
   "execution_count": 71,
   "id": "a8cb3442",
   "metadata": {},
   "outputs": [],
   "source": [
    "tree1=DecisionTreeRegressor()"
   ]
  },
  {
   "cell_type": "code",
   "execution_count": 72,
   "id": "baee9751",
   "metadata": {},
   "outputs": [
    {
     "data": {
      "text/html": [
       "<style>#sk-container-id-2 {color: black;background-color: white;}#sk-container-id-2 pre{padding: 0;}#sk-container-id-2 div.sk-toggleable {background-color: white;}#sk-container-id-2 label.sk-toggleable__label {cursor: pointer;display: block;width: 100%;margin-bottom: 0;padding: 0.3em;box-sizing: border-box;text-align: center;}#sk-container-id-2 label.sk-toggleable__label-arrow:before {content: \"▸\";float: left;margin-right: 0.25em;color: #696969;}#sk-container-id-2 label.sk-toggleable__label-arrow:hover:before {color: black;}#sk-container-id-2 div.sk-estimator:hover label.sk-toggleable__label-arrow:before {color: black;}#sk-container-id-2 div.sk-toggleable__content {max-height: 0;max-width: 0;overflow: hidden;text-align: left;background-color: #f0f8ff;}#sk-container-id-2 div.sk-toggleable__content pre {margin: 0.2em;color: black;border-radius: 0.25em;background-color: #f0f8ff;}#sk-container-id-2 input.sk-toggleable__control:checked~div.sk-toggleable__content {max-height: 200px;max-width: 100%;overflow: auto;}#sk-container-id-2 input.sk-toggleable__control:checked~label.sk-toggleable__label-arrow:before {content: \"▾\";}#sk-container-id-2 div.sk-estimator input.sk-toggleable__control:checked~label.sk-toggleable__label {background-color: #d4ebff;}#sk-container-id-2 div.sk-label input.sk-toggleable__control:checked~label.sk-toggleable__label {background-color: #d4ebff;}#sk-container-id-2 input.sk-hidden--visually {border: 0;clip: rect(1px 1px 1px 1px);clip: rect(1px, 1px, 1px, 1px);height: 1px;margin: -1px;overflow: hidden;padding: 0;position: absolute;width: 1px;}#sk-container-id-2 div.sk-estimator {font-family: monospace;background-color: #f0f8ff;border: 1px dotted black;border-radius: 0.25em;box-sizing: border-box;margin-bottom: 0.5em;}#sk-container-id-2 div.sk-estimator:hover {background-color: #d4ebff;}#sk-container-id-2 div.sk-parallel-item::after {content: \"\";width: 100%;border-bottom: 1px solid gray;flex-grow: 1;}#sk-container-id-2 div.sk-label:hover label.sk-toggleable__label {background-color: #d4ebff;}#sk-container-id-2 div.sk-serial::before {content: \"\";position: absolute;border-left: 1px solid gray;box-sizing: border-box;top: 0;bottom: 0;left: 50%;z-index: 0;}#sk-container-id-2 div.sk-serial {display: flex;flex-direction: column;align-items: center;background-color: white;padding-right: 0.2em;padding-left: 0.2em;position: relative;}#sk-container-id-2 div.sk-item {position: relative;z-index: 1;}#sk-container-id-2 div.sk-parallel {display: flex;align-items: stretch;justify-content: center;background-color: white;position: relative;}#sk-container-id-2 div.sk-item::before, #sk-container-id-2 div.sk-parallel-item::before {content: \"\";position: absolute;border-left: 1px solid gray;box-sizing: border-box;top: 0;bottom: 0;left: 50%;z-index: -1;}#sk-container-id-2 div.sk-parallel-item {display: flex;flex-direction: column;z-index: 1;position: relative;background-color: white;}#sk-container-id-2 div.sk-parallel-item:first-child::after {align-self: flex-end;width: 50%;}#sk-container-id-2 div.sk-parallel-item:last-child::after {align-self: flex-start;width: 50%;}#sk-container-id-2 div.sk-parallel-item:only-child::after {width: 0;}#sk-container-id-2 div.sk-dashed-wrapped {border: 1px dashed gray;margin: 0 0.4em 0.5em 0.4em;box-sizing: border-box;padding-bottom: 0.4em;background-color: white;}#sk-container-id-2 div.sk-label label {font-family: monospace;font-weight: bold;display: inline-block;line-height: 1.2em;}#sk-container-id-2 div.sk-label-container {text-align: center;}#sk-container-id-2 div.sk-container {/* jupyter's `normalize.less` sets `[hidden] { display: none; }` but bootstrap.min.css set `[hidden] { display: none !important; }` so we also need the `!important` here to be able to override the default hidden behavior on the sphinx rendered scikit-learn.org. See: https://github.com/scikit-learn/scikit-learn/issues/21755 */display: inline-block !important;position: relative;}#sk-container-id-2 div.sk-text-repr-fallback {display: none;}</style><div id=\"sk-container-id-2\" class=\"sk-top-container\"><div class=\"sk-text-repr-fallback\"><pre>DecisionTreeRegressor()</pre><b>In a Jupyter environment, please rerun this cell to show the HTML representation or trust the notebook. <br />On GitHub, the HTML representation is unable to render, please try loading this page with nbviewer.org.</b></div><div class=\"sk-container\" hidden><div class=\"sk-item\"><div class=\"sk-estimator sk-toggleable\"><input class=\"sk-toggleable__control sk-hidden--visually\" id=\"sk-estimator-id-2\" type=\"checkbox\" checked><label for=\"sk-estimator-id-2\" class=\"sk-toggleable__label sk-toggleable__label-arrow\">DecisionTreeRegressor</label><div class=\"sk-toggleable__content\"><pre>DecisionTreeRegressor()</pre></div></div></div></div></div>"
      ],
      "text/plain": [
       "DecisionTreeRegressor()"
      ]
     },
     "execution_count": 72,
     "metadata": {},
     "output_type": "execute_result"
    }
   ],
   "source": [
    "tree1.fit(X_train,y_train)"
   ]
  },
  {
   "cell_type": "code",
   "execution_count": 73,
   "id": "cdfe7fe2",
   "metadata": {},
   "outputs": [],
   "source": [
    "pred2=tree1.predict(X_test)"
   ]
  },
  {
   "cell_type": "code",
   "execution_count": 74,
   "id": "0018d7e3",
   "metadata": {},
   "outputs": [
    {
     "data": {
      "text/plain": [
       "0.9943317695763337"
      ]
     },
     "execution_count": 74,
     "metadata": {},
     "output_type": "execute_result"
    }
   ],
   "source": [
    "r2_score(y_test,pred2)"
   ]
  },
  {
   "cell_type": "code",
   "execution_count": 75,
   "id": "2446494f",
   "metadata": {},
   "outputs": [
    {
     "data": {
      "text/plain": [
       "6941.513333333333"
      ]
     },
     "execution_count": 75,
     "metadata": {},
     "output_type": "execute_result"
    }
   ],
   "source": [
    "MSE=mean_squared_error(y_test,pred2)\n",
    "MSE"
   ]
  },
  {
   "cell_type": "code",
   "execution_count": 76,
   "id": "cb323cc0",
   "metadata": {},
   "outputs": [
    {
     "data": {
      "text/plain": [
       "83.31574481052986"
      ]
     },
     "execution_count": 76,
     "metadata": {},
     "output_type": "execute_result"
    }
   ],
   "source": [
    "np.sqrt(MSE)"
   ]
  },
  {
   "cell_type": "code",
   "execution_count": 77,
   "id": "2c5c6769",
   "metadata": {},
   "outputs": [
    {
     "data": {
      "text/plain": [
       "16.28"
      ]
     },
     "execution_count": 77,
     "metadata": {},
     "output_type": "execute_result"
    }
   ],
   "source": [
    "MAE=mean_absolute_error(y_test,pred2)\n",
    "MAE"
   ]
  },
  {
   "cell_type": "code",
   "execution_count": 80,
   "id": "f9d809d1",
   "metadata": {},
   "outputs": [
    {
     "data": {
      "text/plain": [
       "[Text(0.5234883957654723, 0.9583333333333334, 'x[3] <= 5.5\\nsquared_error = 1140379.653\\nsamples = 700\\nvalue = 2223.874'),\n",
       " Text(0.25748167752442996, 0.875, 'x[3] <= 3.5\\nsquared_error = 388837.679\\nsamples = 430\\nvalue = 1562.935'),\n",
       " Text(0.08906758957654723, 0.7916666666666666, 'x[3] <= 0.5\\nsquared_error = 187933.987\\nsamples = 181\\nvalue = 1128.729'),\n",
       " Text(0.03257328990228013, 0.7083333333333334, 'x[4] <= 5.5\\nsquared_error = 145013.421\\nsamples = 11\\nvalue = 1899.818'),\n",
       " Text(0.019543973941368076, 0.625, 'x[4] <= 4.5\\nsquared_error = 30141.44\\nsamples = 5\\nvalue = 1524.4'),\n",
       " Text(0.013029315960912053, 0.5416666666666666, 'x[0] <= 852.0\\nsquared_error = 11960.889\\nsamples = 3\\nvalue = 1400.667'),\n",
       " Text(0.006514657980456026, 0.4583333333333333, 'squared_error = 0.0\\nsamples = 2\\nvalue = 1478.0'),\n",
       " Text(0.019543973941368076, 0.4583333333333333, 'squared_error = 0.0\\nsamples = 1\\nvalue = 1246.0'),\n",
       " Text(0.026058631921824105, 0.5416666666666666, 'squared_error = 0.0\\nsamples = 2\\nvalue = 1710.0'),\n",
       " Text(0.04560260586319218, 0.625, 'x[4] <= 7.5\\nsquared_error = 25416.889\\nsamples = 6\\nvalue = 2212.667'),\n",
       " Text(0.03908794788273615, 0.5416666666666666, 'x[2] <= 31.5\\nsquared_error = 10092.0\\nsamples = 4\\nvalue = 2116.0'),\n",
       " Text(0.03257328990228013, 0.4583333333333333, 'squared_error = 0.0\\nsamples = 1\\nvalue = 1942.0'),\n",
       " Text(0.04560260586319218, 0.4583333333333333, 'squared_error = 0.0\\nsamples = 3\\nvalue = 2174.0'),\n",
       " Text(0.05211726384364821, 0.5416666666666666, 'squared_error = 0.0\\nsamples = 2\\nvalue = 2406.0'),\n",
       " Text(0.14556188925081434, 0.7083333333333334, 'x[4] <= 3.5\\nsquared_error = 149749.091\\nsamples = 170\\nvalue = 1078.835'),\n",
       " Text(0.08794788273615635, 0.625, 'x[3] <= 2.5\\nsquared_error = 192675.468\\nsamples = 27\\nvalue = 1451.296'),\n",
       " Text(0.06514657980456026, 0.5416666666666666, 'x[3] <= 1.5\\nsquared_error = 62644.628\\nsamples = 11\\nvalue = 1005.909'),\n",
       " Text(0.05863192182410423, 0.4583333333333333, 'squared_error = 0.0\\nsamples = 3\\nvalue = 667.0'),\n",
       " Text(0.07166123778501629, 0.4583333333333333, 'x[4] <= 2.5\\nsquared_error = 26912.0\\nsamples = 8\\nvalue = 1133.0'),\n",
       " Text(0.06514657980456026, 0.375, 'x[2] <= 47.0\\nsquared_error = 11960.889\\nsamples = 3\\nvalue = 1326.333'),\n",
       " Text(0.05863192182410423, 0.2916666666666667, 'squared_error = 0.0\\nsamples = 2\\nvalue = 1249.0'),\n",
       " Text(0.07166123778501629, 0.2916666666666667, 'squared_error = 0.0\\nsamples = 1\\nvalue = 1481.0'),\n",
       " Text(0.0781758957654723, 0.375, 'squared_error = 0.0\\nsamples = 5\\nvalue = 1017.0'),\n",
       " Text(0.11074918566775244, 0.5416666666666666, 'x[4] <= 1.5\\nsquared_error = 51931.75\\nsamples = 16\\nvalue = 1757.5'),\n",
       " Text(0.09771986970684039, 0.4583333333333333, 'x[4] <= 0.5\\nsquared_error = 10092.0\\nsamples = 4\\nvalue = 2120.0'),\n",
       " Text(0.09120521172638436, 0.375, 'squared_error = 0.0\\nsamples = 1\\nvalue = 2294.0'),\n",
       " Text(0.10423452768729642, 0.375, 'squared_error = 0.0\\nsamples = 3\\nvalue = 2062.0'),\n",
       " Text(0.1237785016286645, 0.4583333333333333, 'x[4] <= 2.5\\nsquared_error = 7475.556\\nsamples = 12\\nvalue = 1636.667'),\n",
       " Text(0.11726384364820847, 0.375, 'squared_error = 0.0\\nsamples = 2\\nvalue = 1830.0'),\n",
       " Text(0.13029315960912052, 0.375, 'squared_error = 0.0\\nsamples = 10\\nvalue = 1598.0'),\n",
       " Text(0.20317589576547232, 0.625, 'x[3] <= 1.5\\nsquared_error = 110505.285\\nsamples = 143\\nvalue = 1008.51'),\n",
       " Text(0.16612377850162866, 0.5416666666666666, 'x[4] <= 6.5\\nsquared_error = 152718.616\\nsamples = 17\\nvalue = 1482.824'),\n",
       " Text(0.1498371335504886, 0.4583333333333333, 'x[4] <= 5.5\\nsquared_error = 22067.84\\nsamples = 10\\nvalue = 1197.6'),\n",
       " Text(0.14332247557003258, 0.375, 'x[4] <= 4.5\\nsquared_error = 7475.556\\nsamples = 6\\nvalue = 1089.333'),\n",
       " Text(0.13680781758957655, 0.2916666666666667, 'squared_error = 0.0\\nsamples = 1\\nvalue = 896.0'),\n",
       " Text(0.1498371335504886, 0.2916666666666667, 'squared_error = 0.0\\nsamples = 5\\nvalue = 1128.0'),\n",
       " Text(0.1563517915309446, 0.375, 'squared_error = 0.0\\nsamples = 4\\nvalue = 1360.0'),\n",
       " Text(0.18241042345276873, 0.4583333333333333, 'x[4] <= 8.5\\nsquared_error = 57119.347\\nsamples = 7\\nvalue = 1890.286'),\n",
       " Text(0.16938110749185667, 0.375, 'x[0] <= 460.0\\nsquared_error = 13456.0\\nsamples = 4\\nvalue = 1708.0'),\n",
       " Text(0.16286644951140064, 0.2916666666666667, 'squared_error = 0.0\\nsamples = 2\\nvalue = 1824.0'),\n",
       " Text(0.1758957654723127, 0.2916666666666667, 'squared_error = 0.0\\nsamples = 2\\nvalue = 1592.0'),\n",
       " Text(0.19543973941368079, 0.375, 'x[1] <= 1.0\\nsquared_error = 11960.889\\nsamples = 3\\nvalue = 2133.333'),\n",
       " Text(0.18892508143322476, 0.2916666666666667, 'squared_error = 0.0\\nsamples = 2\\nvalue = 2056.0'),\n",
       " Text(0.20195439739413681, 0.2916666666666667, 'squared_error = 0.0\\nsamples = 1\\nvalue = 2288.0'),\n",
       " Text(0.24022801302931596, 0.5416666666666666, 'x[4] <= 4.5\\nsquared_error = 70361.043\\nsamples = 126\\nvalue = 944.516'),\n",
       " Text(0.21498371335504887, 0.4583333333333333, 'x[3] <= 2.5\\nsquared_error = 78546.05\\nsamples = 19\\nvalue = 1151.947'),\n",
       " Text(0.20846905537459284, 0.375, 'squared_error = 0.0\\nsamples = 7\\nvalue = 785.0'),\n",
       " Text(0.22149837133550487, 0.375, 'squared_error = 0.0\\nsamples = 12\\nvalue = 1366.0'),\n",
       " Text(0.26547231270358307, 0.4583333333333333, 'x[4] <= 8.5\\nsquared_error = 59910.46\\nsamples = 107\\nvalue = 907.682'),\n",
       " Text(0.23452768729641693, 0.375, 'x[4] <= 5.5\\nsquared_error = 45549.608\\nsamples = 95\\nvalue = 873.947'),\n",
       " Text(0.2182410423452769, 0.2916666666666667, 'x[3] <= 2.5\\nsquared_error = 69549.509\\nsamples = 31\\nvalue = 965.323'),\n",
       " Text(0.21172638436482086, 0.20833333333333334, 'squared_error = 0.0\\nsamples = 9\\nvalue = 553.0'),\n",
       " Text(0.2247557003257329, 0.20833333333333334, 'squared_error = 0.0\\nsamples = 22\\nvalue = 1134.0'),\n",
       " Text(0.250814332247557, 0.2916666666666667, 'x[3] <= 2.5\\nsquared_error = 27921.465\\nsamples = 64\\nvalue = 829.688'),\n",
       " Text(0.23778501628664495, 0.20833333333333334, 'x[4] <= 6.5\\nsquared_error = 37004.0\\nsamples = 20\\nvalue = 953.0'),\n",
       " Text(0.23127035830618892, 0.125, 'squared_error = 0.0\\nsamples = 10\\nvalue = 779.0'),\n",
       " Text(0.24429967426710097, 0.125, 'x[4] <= 7.5\\nsquared_error = 13456.0\\nsamples = 10\\nvalue = 1127.0'),\n",
       " Text(0.23778501628664495, 0.041666666666666664, 'squared_error = 0.0\\nsamples = 5\\nvalue = 1011.0'),\n",
       " Text(0.250814332247557, 0.041666666666666664, 'squared_error = 0.0\\nsamples = 5\\nvalue = 1243.0'),\n",
       " Text(0.26384364820846906, 0.20833333333333334, 'x[4] <= 6.5\\nsquared_error = 13739.504\\nsamples = 44\\nvalue = 773.636'),\n",
       " Text(0.25732899022801303, 0.125, 'squared_error = 0.0\\nsamples = 20\\nvalue = 902.0'),\n",
       " Text(0.2703583061889251, 0.125, 'x[4] <= 7.5\\nsquared_error = 15.556\\nsamples = 24\\nvalue = 666.667'),\n",
       " Text(0.26384364820846906, 0.041666666666666664, 'squared_error = 0.0\\nsamples = 14\\nvalue = 670.0'),\n",
       " Text(0.2768729641693811, 0.041666666666666664, 'squared_error = 0.0\\nsamples = 10\\nvalue = 662.0'),\n",
       " Text(0.2964169381107492, 0.375, 'x[3] <= 2.5\\nsquared_error = 93265.854\\nsamples = 12\\nvalue = 1174.75'),\n",
       " Text(0.28338762214983715, 0.2916666666666667, 'x[4] <= 9.5\\nsquared_error = 8611.84\\nsamples = 5\\nvalue = 1521.4'),\n",
       " Text(0.2768729641693811, 0.20833333333333334, 'squared_error = 0.0\\nsamples = 4\\nvalue = 1475.0'),\n",
       " Text(0.2899022801302932, 0.20833333333333334, 'squared_error = 0.0\\nsamples = 1\\nvalue = 1707.0'),\n",
       " Text(0.30944625407166126, 0.2916666666666667, 'x[4] <= 9.5\\nsquared_error = 6590.694\\nsamples = 7\\nvalue = 927.143'),\n",
       " Text(0.30293159609120524, 0.20833333333333334, 'squared_error = 0.0\\nsamples = 6\\nvalue = 894.0'),\n",
       " Text(0.31596091205211724, 0.20833333333333334, 'squared_error = 0.0\\nsamples = 1\\nvalue = 1126.0'),\n",
       " Text(0.4258957654723127, 0.7916666666666666, 'x[4] <= 5.5\\nsquared_error = 298208.302\\nsamples = 249\\nvalue = 1878.562'),\n",
       " Text(0.3729641693811075, 0.7083333333333334, 'x[3] <= 4.5\\nsquared_error = 135101.593\\nsamples = 111\\nvalue = 2336.045'),\n",
       " Text(0.34527687296416937, 0.625, 'x[4] <= 3.5\\nsquared_error = 119427.91\\nsamples = 50\\nvalue = 2100.64'),\n",
       " Text(0.3289902280130293, 0.5416666666666666, 'x[4] <= 1.5\\nsquared_error = 49338.667\\nsamples = 24\\nvalue = 2411.0'),\n",
       " Text(0.31596091205211724, 0.4583333333333333, 'x[4] <= 0.5\\nsquared_error = 5315.951\\nsamples = 9\\nvalue = 2668.778'),\n",
       " Text(0.30944625407166126, 0.375, 'squared_error = 0.0\\nsamples = 1\\nvalue = 2875.0'),\n",
       " Text(0.32247557003257327, 0.375, 'squared_error = 0.0\\nsamples = 8\\nvalue = 2643.0'),\n",
       " Text(0.34201954397394135, 0.4583333333333333, 'x[4] <= 2.5\\nsquared_error = 11960.889\\nsamples = 15\\nvalue = 2256.333'),\n",
       " Text(0.3355048859934853, 0.375, 'squared_error = 0.0\\nsamples = 5\\nvalue = 2411.0'),\n",
       " Text(0.3485342019543974, 0.375, 'squared_error = 0.0\\nsamples = 10\\nvalue = 2179.0'),\n",
       " Text(0.36156351791530944, 0.5416666666666666, 'x[4] <= 4.5\\nsquared_error = 13137.515\\nsamples = 26\\nvalue = 1814.154'),\n",
       " Text(0.3550488599348534, 0.4583333333333333, 'squared_error = 0.0\\nsamples = 11\\nvalue = 1948.0'),\n",
       " Text(0.36807817589576547, 0.4583333333333333, 'squared_error = 0.0\\nsamples = 15\\nvalue = 1716.0'),\n",
       " Text(0.4006514657980456, 0.625, 'x[4] <= 3.5\\nsquared_error = 65294.689\\nsamples = 61\\nvalue = 2529.0'),\n",
       " Text(0.38762214983713356, 0.5416666666666666, 'x[4] <= 2.5\\nsquared_error = 26073.91\\nsamples = 17\\nvalue = 2883.824'),\n",
       " Text(0.3811074918566775, 0.4583333333333333, 'x[4] <= 1.5\\nsquared_error = 10984.49\\nsamples = 7\\nvalue = 3059.286'),\n",
       " Text(0.3745928338762215, 0.375, 'squared_error = 0.0\\nsamples = 2\\nvalue = 3225.0'),\n",
       " Text(0.38762214983713356, 0.375, 'squared_error = 0.0\\nsamples = 5\\nvalue = 2993.0'),\n",
       " Text(0.3941368078175896, 0.4583333333333333, 'squared_error = 0.0\\nsamples = 10\\nvalue = 2761.0'),\n",
       " Text(0.41368078175895767, 0.5416666666666666, 'x[4] <= 4.5\\nsquared_error = 13011.174\\nsamples = 44\\nvalue = 2391.909'),\n",
       " Text(0.40716612377850164, 0.4583333333333333, 'squared_error = 0.0\\nsamples = 18\\nvalue = 2529.0'),\n",
       " Text(0.4201954397394137, 0.4583333333333333, 'squared_error = 0.0\\nsamples = 26\\nvalue = 2297.0'),\n",
       " Text(0.4788273615635179, 0.7083333333333334, 'x[3] <= 4.5\\nsquared_error = 125654.648\\nsamples = 138\\nvalue = 1510.587'),\n",
       " Text(0.4527687296416938, 0.625, 'x[4] <= 7.5\\nsquared_error = 51135.985\\nsamples = 65\\nvalue = 1237.723'),\n",
       " Text(0.43973941368078173, 0.5416666666666666, 'x[4] <= 6.5\\nsquared_error = 13449.355\\nsamples = 45\\nvalue = 1365.422'),\n",
       " Text(0.43322475570032576, 0.4583333333333333, 'squared_error = 0.0\\nsamples = 22\\nvalue = 1484.0'),\n",
       " Text(0.44625407166123776, 0.4583333333333333, 'squared_error = 0.0\\nsamples = 23\\nvalue = 1252.0'),\n",
       " Text(0.46579804560260585, 0.5416666666666666, 'x[4] <= 8.5\\nsquared_error = 16685.44\\nsamples = 20\\nvalue = 950.4'),\n",
       " Text(0.4592833876221498, 0.4583333333333333, 'squared_error = 0.0\\nsamples = 15\\nvalue = 1020.0'),\n",
       " Text(0.4723127035830619, 0.4583333333333333, 'x[4] <= 9.5\\nsquared_error = 8611.84\\nsamples = 5\\nvalue = 741.6'),\n",
       " Text(0.46579804560260585, 0.375, 'squared_error = 0.0\\nsamples = 4\\nvalue = 788.0'),\n",
       " Text(0.4788273615635179, 0.375, 'squared_error = 0.0\\nsamples = 1\\nvalue = 556.0'),\n",
       " Text(0.504885993485342, 0.625, 'x[4] <= 7.5\\nsquared_error = 66681.563\\nsamples = 73\\nvalue = 1753.548'),\n",
       " Text(0.49185667752442996, 0.5416666666666666, 'x[4] <= 6.5\\nsquared_error = 13344.793\\nsamples = 44\\nvalue = 1938.455'),\n",
       " Text(0.48534201954397393, 0.4583333333333333, 'squared_error = 0.0\\nsamples = 20\\nvalue = 2065.0'),\n",
       " Text(0.498371335504886, 0.4583333333333333, 'squared_error = 0.0\\nsamples = 24\\nvalue = 1833.0'),\n",
       " Text(0.5179153094462541, 0.5416666666666666, 'x[4] <= 8.5\\nsquared_error = 17024.0\\nsamples = 29\\nvalue = 1473.0'),\n",
       " Text(0.511400651465798, 0.4583333333333333, 'squared_error = 0.0\\nsamples = 14\\nvalue = 1601.0'),\n",
       " Text(0.5244299674267101, 0.4583333333333333, 'x[4] <= 9.5\\nsquared_error = 3349.049\\nsamples = 15\\nvalue = 1353.533'),\n",
       " Text(0.5179153094462541, 0.375, 'squared_error = 0.0\\nsamples = 14\\nvalue = 1369.0'),\n",
       " Text(0.5309446254071661, 0.375, 'squared_error = 0.0\\nsamples = 1\\nvalue = 1137.0'),\n",
       " Text(0.7894951140065146, 0.875, 'x[3] <= 7.5\\nsquared_error = 533588.353\\nsamples = 270\\nvalue = 3276.481'),\n",
       " Text(0.6824104234527687, 0.7916666666666666, 'x[4] <= 6.5\\nsquared_error = 305998.735\\nsamples = 193\\nvalue = 2989.922'),\n",
       " Text(0.6254071661237784, 0.7083333333333334, 'x[4] <= 4.5\\nsquared_error = 177446.532\\nsamples = 132\\nvalue = 3251.356'),\n",
       " Text(0.5895765472312704, 0.625, 'x[3] <= 6.5\\nsquared_error = 108764.268\\nsamples = 51\\nvalue = 3613.078'),\n",
       " Text(0.5635179153094463, 0.5416666666666666, 'x[4] <= 2.5\\nsquared_error = 57950.507\\nsamples = 30\\nvalue = 3411.6'),\n",
       " Text(0.5504885993485342, 0.4583333333333333, 'x[4] <= 1.5\\nsquared_error = 19746.083\\nsamples = 13\\nvalue = 3645.385'),\n",
       " Text(0.5439739413680782, 0.375, 'x[1] <= 0.5\\nsquared_error = 11960.889\\nsamples = 3\\nvalue = 3883.333'),\n",
       " Text(0.5374592833876222, 0.2916666666666667, 'squared_error = 0.0\\nsamples = 2\\nvalue = 3806.0'),\n",
       " Text(0.5504885993485342, 0.2916666666666667, 'squared_error = 0.0\\nsamples = 1\\nvalue = 4038.0'),\n",
       " Text(0.5570032573289903, 0.375, 'squared_error = 0.0\\nsamples = 10\\nvalue = 3574.0'),\n",
       " Text(0.5765472312703583, 0.4583333333333333, 'x[4] <= 3.5\\nsquared_error = 13409.439\\nsamples = 17\\nvalue = 3232.824'),\n",
       " Text(0.5700325732899023, 0.375, 'squared_error = 0.0\\nsamples = 9\\nvalue = 3342.0'),\n",
       " Text(0.5830618892508144, 0.375, 'squared_error = 0.0\\nsamples = 8\\nvalue = 3110.0'),\n",
       " Text(0.6156351791530945, 0.5416666666666666, 'x[4] <= 2.5\\nsquared_error = 40520.562\\nsamples = 21\\nvalue = 3900.905'),\n",
       " Text(0.6026058631921825, 0.4583333333333333, 'x[4] <= 1.5\\nsquared_error = 11960.889\\nsamples = 3\\nvalue = 4309.667'),\n",
       " Text(0.5960912052117264, 0.375, 'squared_error = 0.0\\nsamples = 2\\nvalue = 4387.0'),\n",
       " Text(0.6091205211726385, 0.375, 'squared_error = 0.0\\nsamples = 1\\nvalue = 4155.0'),\n",
       " Text(0.6286644951140065, 0.4583333333333333, 'x[4] <= 3.5\\nsquared_error = 12791.506\\nsamples = 18\\nvalue = 3832.778'),\n",
       " Text(0.6221498371335505, 0.375, 'squared_error = 0.0\\nsamples = 11\\nvalue = 3923.0'),\n",
       " Text(0.6351791530944625, 0.375, 'squared_error = 0.0\\nsamples = 7\\nvalue = 3691.0'),\n",
       " Text(0.6612377850162866, 0.625, 'x[3] <= 6.5\\nsquared_error = 86437.671\\nsamples = 81\\nvalue = 3023.605'),\n",
       " Text(0.6482084690553745, 0.5416666666666666, 'x[4] <= 5.5\\nsquared_error = 13456.0\\nsamples = 42\\nvalue = 2762.0'),\n",
       " Text(0.6416938110749185, 0.4583333333333333, 'squared_error = 0.0\\nsamples = 21\\nvalue = 2878.0'),\n",
       " Text(0.6547231270358306, 0.4583333333333333, 'squared_error = 0.0\\nsamples = 21\\nvalue = 2646.0'),\n",
       " Text(0.6742671009771987, 0.5416666666666666, 'x[4] <= 5.5\\nsquared_error = 11960.889\\nsamples = 39\\nvalue = 3305.333'),\n",
       " Text(0.6677524429967426, 0.4583333333333333, 'squared_error = 0.0\\nsamples = 13\\nvalue = 3460.0'),\n",
       " Text(0.6807817589576547, 0.4583333333333333, 'squared_error = 0.0\\nsamples = 26\\nvalue = 3228.0'),\n",
       " Text(0.739413680781759, 0.7083333333333334, 'x[3] <= 6.5\\nsquared_error = 116232.092\\nsamples = 61\\nvalue = 2424.197'),\n",
       " Text(0.7133550488599348, 0.625, 'x[4] <= 8.5\\nsquared_error = 40906.24\\nsamples = 40\\nvalue = 2228.4'),\n",
       " Text(0.7003257328990228, 0.5416666666666666, 'x[4] <= 7.5\\nsquared_error = 13245.75\\nsamples = 32\\nvalue = 2312.5'),\n",
       " Text(0.6938110749185668, 0.4583333333333333, 'squared_error = 0.0\\nsamples = 18\\nvalue = 2414.0'),\n",
       " Text(0.7068403908794788, 0.4583333333333333, 'squared_error = 0.0\\nsamples = 14\\nvalue = 2182.0'),\n",
       " Text(0.7263843648208469, 0.5416666666666666, 'x[4] <= 9.5\\nsquared_error = 10092.0\\nsamples = 8\\nvalue = 1892.0'),\n",
       " Text(0.7198697068403909, 0.4583333333333333, 'squared_error = 0.0\\nsamples = 6\\nvalue = 1950.0'),\n",
       " Text(0.7328990228013029, 0.4583333333333333, 'squared_error = 0.0\\nsamples = 2\\nvalue = 1718.0'),\n",
       " Text(0.7654723127035831, 0.625, 'x[4] <= 8.5\\nsquared_error = 47599.456\\nsamples = 21\\nvalue = 2797.143'),\n",
       " Text(0.752442996742671, 0.5416666666666666, 'x[4] <= 7.5\\nsquared_error = 13409.439\\nsamples = 17\\nvalue = 2886.824'),\n",
       " Text(0.745928338762215, 0.4583333333333333, 'squared_error = 0.0\\nsamples = 9\\nvalue = 2996.0'),\n",
       " Text(0.758957654723127, 0.4583333333333333, 'squared_error = 0.0\\nsamples = 8\\nvalue = 2764.0'),\n",
       " Text(0.7785016286644951, 0.5416666666666666, 'x[4] <= 9.5\\nsquared_error = 13456.0\\nsamples = 4\\nvalue = 2416.0'),\n",
       " Text(0.7719869706840391, 0.4583333333333333, 'squared_error = 0.0\\nsamples = 2\\nvalue = 2532.0'),\n",
       " Text(0.7850162866449512, 0.4583333333333333, 'squared_error = 0.0\\nsamples = 2\\nvalue = 2300.0'),\n",
       " Text(0.8965798045602605, 0.7916666666666666, 'x[3] <= 8.5\\nsquared_error = 382320.92\\nsamples = 77\\nvalue = 3994.74'),\n",
       " Text(0.8436482084690554, 0.7083333333333334, 'x[4] <= 6.5\\nsquared_error = 184007.308\\nsamples = 51\\nvalue = 3672.529'),\n",
       " Text(0.8175895765472313, 0.625, 'x[4] <= 4.5\\nsquared_error = 82885.222\\nsamples = 24\\nvalue = 4050.667'),\n",
       " Text(0.8045602605863192, 0.5416666666666666, 'x[0] <= 214.5\\nsquared_error = 61299.556\\nsamples = 6\\nvalue = 4466.333'),\n",
       " Text(0.7980456026058632, 0.4583333333333333, 'squared_error = 0.0\\nsamples = 1\\nvalue = 4969.0'),\n",
       " Text(0.8110749185667753, 0.4583333333333333, 'x[0] <= 740.5\\nsquared_error = 12917.76\\nsamples = 5\\nvalue = 4365.8'),\n",
       " Text(0.8045602605863192, 0.375, 'squared_error = 0.0\\nsamples = 3\\nvalue = 4273.0'),\n",
       " Text(0.8175895765472313, 0.375, 'squared_error = 0.0\\nsamples = 2\\nvalue = 4505.0'),\n",
       " Text(0.8306188925081434, 0.5416666666666666, 'x[4] <= 5.5\\nsquared_error = 13289.877\\nsamples = 18\\nvalue = 3912.111'),\n",
       " Text(0.8241042345276873, 0.4583333333333333, 'squared_error = 0.0\\nsamples = 8\\nvalue = 4041.0'),\n",
       " Text(0.8371335504885994, 0.4583333333333333, 'squared_error = 0.0\\nsamples = 10\\nvalue = 3809.0'),\n",
       " Text(0.8697068403908795, 0.625, 'x[4] <= 8.5\\nsquared_error = 33815.353\\nsamples = 27\\nvalue = 3336.407'),\n",
       " Text(0.8566775244299675, 0.5416666666666666, 'x[4] <= 7.5\\nsquared_error = 12244.96\\nsamples = 20\\nvalue = 3426.2'),\n",
       " Text(0.8501628664495114, 0.4583333333333333, 'squared_error = 0.0\\nsamples = 7\\nvalue = 3577.0'),\n",
       " Text(0.8631921824104235, 0.4583333333333333, 'squared_error = 0.0\\nsamples = 13\\nvalue = 3345.0'),\n",
       " Text(0.8827361563517915, 0.5416666666666666, 'x[4] <= 9.5\\nsquared_error = 6590.694\\nsamples = 7\\nvalue = 3079.857'),\n",
       " Text(0.8762214983713354, 0.4583333333333333, 'squared_error = 0.0\\nsamples = 6\\nvalue = 3113.0'),\n",
       " Text(0.8892508143322475, 0.4583333333333333, 'squared_error = 0.0\\nsamples = 1\\nvalue = 2881.0'),\n",
       " Text(0.9495114006514658, 0.7083333333333334, 'x[4] <= 4.5\\nsquared_error = 168213.485\\nsamples = 26\\nvalue = 4626.769'),\n",
       " Text(0.9315960912052117, 0.625, 'x[2] <= 42.5\\nsquared_error = 70973.265\\nsamples = 7\\nvalue = 5218.857'),\n",
       " Text(0.9153094462540716, 0.5416666666666666, 'x[2] <= 31.5\\nsquared_error = 56107.04\\nsamples = 5\\nvalue = 5109.4'),\n",
       " Text(0.9022801302931596, 0.4583333333333333, 'x[1] <= 1.5\\nsquared_error = 3422.25\\nsamples = 2\\nvalue = 5376.5'),\n",
       " Text(0.8957654723127035, 0.375, 'squared_error = 0.0\\nsamples = 1\\nvalue = 5435.0'),\n",
       " Text(0.9087947882736156, 0.375, 'squared_error = 0.0\\nsamples = 1\\nvalue = 5318.0'),\n",
       " Text(0.9283387622149837, 0.4583333333333333, 'x[4] <= 3.5\\nsquared_error = 11960.889\\nsamples = 3\\nvalue = 4931.333'),\n",
       " Text(0.9218241042345277, 0.375, 'squared_error = 0.0\\nsamples = 1\\nvalue = 5086.0'),\n",
       " Text(0.9348534201954397, 0.375, 'squared_error = 0.0\\nsamples = 2\\nvalue = 4854.0'),\n",
       " Text(0.9478827361563518, 0.5416666666666666, 'x[4] <= 2.5\\nsquared_error = 3306.25\\nsamples = 2\\nvalue = 5492.5'),\n",
       " Text(0.9413680781758957, 0.4583333333333333, 'squared_error = 0.0\\nsamples = 1\\nvalue = 5550.0'),\n",
       " Text(0.9543973941368078, 0.4583333333333333, 'squared_error = 0.0\\nsamples = 1\\nvalue = 5435.0'),\n",
       " Text(0.9674267100977199, 0.625, 'x[4] <= 5.5\\nsquared_error = 27298.127\\nsamples = 19\\nvalue = 4408.632'),\n",
       " Text(0.9609120521172638, 0.5416666666666666, 'squared_error = 0.0\\nsamples = 5\\nvalue = 4622.0'),\n",
       " Text(0.9739413680781759, 0.5416666666666666, 'x[4] <= 6.5\\nsquared_error = 14981.245\\nsamples = 14\\nvalue = 4332.429'),\n",
       " Text(0.9674267100977199, 0.4583333333333333, 'squared_error = 0.0\\nsamples = 7\\nvalue = 4390.0'),\n",
       " Text(0.9804560260586319, 0.4583333333333333, 'x[4] <= 7.5\\nsquared_error = 23333.551\\nsamples = 7\\nvalue = 4274.857'),\n",
       " Text(0.9739413680781759, 0.375, 'squared_error = 0.0\\nsamples = 4\\nvalue = 4158.0'),\n",
       " Text(0.9869706840390879, 0.375, 'x[4] <= 8.5\\nsquared_error = 11960.889\\nsamples = 3\\nvalue = 4430.667'),\n",
       " Text(0.9804560260586319, 0.2916666666666667, 'squared_error = 0.0\\nsamples = 2\\nvalue = 4508.0'),\n",
       " Text(0.993485342019544, 0.2916666666666667, 'squared_error = 0.0\\nsamples = 1\\nvalue = 4276.0')]"
      ]
     },
     "execution_count": 80,
     "metadata": {},
     "output_type": "execute_result"
    },
    {
     "data": {
      "image/png": "[encoded data removed]",
      "text/plain": [
       "<Figure size 640x480 with 1 Axes>"
      ]
     },
     "metadata": {},
     "output_type": "display_data"
    }
   ],
   "source": [
    "tree.plot_tree(tree1)"
   ]
  },
  {
   "cell_type": "markdown",
   "id": "0262a20b",
   "metadata": {},
   "source": [
    "#### Here our decision tree regressor model got more accuracy so we choose decision tree regressor"
   ]
  },
  {
   "cell_type": "code",
   "execution_count": 1,
   "id": "ba5bfd39",
   "metadata": {},
   "outputs": [],
   "source": [
    "import pandas as pd"
   ]
  },
  {
   "cell_type": "code",
   "execution_count": 2,
   "id": "75ab4a65",
   "metadata": {},
   "outputs": [
    {
     "data": {
      "text/html": [
       "<div>\n",
       "<style scoped>\n",
       "    .dataframe tbody tr th:only-of-type {\n",
       "        vertical-align: middle;\n",
       "    }\n",
       "\n",
       "    .dataframe tbody tr th {\n",
       "        vertical-align: top;\n",
       "    }\n",
       "\n",
       "    .dataframe thead th {\n",
       "        text-align: right;\n",
       "    }\n",
       "</style>\n",
       "<table border=\"1\" class=\"dataframe\">\n",
       "  <thead>\n",
       "    <tr style=\"text-align: right;\">\n",
       "      <th></th>\n",
       "      <th>PassengerId</th>\n",
       "      <th>Survived</th>\n",
       "      <th>Pclass</th>\n",
       "      <th>Name</th>\n",
       "      <th>Sex</th>\n",
       "      <th>Age</th>\n",
       "      <th>SibSp</th>\n",
       "      <th>Parch</th>\n",
       "      <th>Ticket</th>\n",
       "      <th>Fare</th>\n",
       "      <th>Cabin</th>\n",
       "      <th>Embarked</th>\n",
       "    </tr>\n",
       "  </thead>\n",
       "  <tbody>\n",
       "    <tr>\n",
       "      <th>0</th>\n",
       "      <td>1</td>\n",
       "      <td>0</td>\n",
       "      <td>3</td>\n",
       "      <td>Braund, Mr. Owen Harris</td>\n",
       "      <td>male</td>\n",
       "      <td>22.0</td>\n",
       "      <td>1</td>\n",
       "      <td>0</td>\n",
       "      <td>A/5 21171</td>\n",
       "      <td>7.2500</td>\n",
       "      <td>NaN</td>\n",
       "      <td>S</td>\n",
       "    </tr>\n",
       "    <tr>\n",
       "      <th>1</th>\n",
       "      <td>2</td>\n",
       "      <td>1</td>\n",
       "      <td>1</td>\n",
       "      <td>Cumings, Mrs. John Bradley (Florence Briggs Th...</td>\n",
       "      <td>female</td>\n",
       "      <td>38.0</td>\n",
       "      <td>1</td>\n",
       "      <td>0</td>\n",
       "      <td>PC 17599</td>\n",
       "      <td>71.2833</td>\n",
       "      <td>C85</td>\n",
       "      <td>C</td>\n",
       "    </tr>\n",
       "    <tr>\n",
       "      <th>2</th>\n",
       "      <td>3</td>\n",
       "      <td>1</td>\n",
       "      <td>3</td>\n",
       "      <td>Heikkinen, Miss. Laina</td>\n",
       "      <td>female</td>\n",
       "      <td>26.0</td>\n",
       "      <td>0</td>\n",
       "      <td>0</td>\n",
       "      <td>STON/O2. 3101282</td>\n",
       "      <td>7.9250</td>\n",
       "      <td>NaN</td>\n",
       "      <td>S</td>\n",
       "    </tr>\n",
       "    <tr>\n",
       "      <th>3</th>\n",
       "      <td>4</td>\n",
       "      <td>1</td>\n",
       "      <td>1</td>\n",
       "      <td>Futrelle, Mrs. Jacques Heath (Lily May Peel)</td>\n",
       "      <td>female</td>\n",
       "      <td>35.0</td>\n",
       "      <td>1</td>\n",
       "      <td>0</td>\n",
       "      <td>113803</td>\n",
       "      <td>53.1000</td>\n",
       "      <td>C123</td>\n",
       "      <td>S</td>\n",
       "    </tr>\n",
       "    <tr>\n",
       "      <th>4</th>\n",
       "      <td>5</td>\n",
       "      <td>0</td>\n",
       "      <td>3</td>\n",
       "      <td>Allen, Mr. William Henry</td>\n",
       "      <td>male</td>\n",
       "      <td>35.0</td>\n",
       "      <td>0</td>\n",
       "      <td>0</td>\n",
       "      <td>373450</td>\n",
       "      <td>8.0500</td>\n",
       "      <td>NaN</td>\n",
       "      <td>S</td>\n",
       "    </tr>\n",
       "  </tbody>\n",
       "</table>\n",
       "</div>"
      ],
      "text/plain": [
       "   PassengerId  Survived  Pclass  \\\n",
       "0            1         0       3   \n",
       "1            2         1       1   \n",
       "2            3         1       3   \n",
       "3            4         1       1   \n",
       "4            5         0       3   \n",
       "\n",
       "                                                Name     Sex   Age  SibSp  \\\n",
       "0                            Braund, Mr. Owen Harris    male  22.0      1   \n",
       "1  Cumings, Mrs. John Bradley (Florence Briggs Th...  female  38.0      1   \n",
       "2                             Heikkinen, Miss. Laina  female  26.0      0   \n",
       "3       Futrelle, Mrs. Jacques Heath (Lily May Peel)  female  35.0      1   \n",
       "4                           Allen, Mr. William Henry    male  35.0      0   \n",
       "\n",
       "   Parch            Ticket     Fare Cabin Embarked  \n",
       "0      0         A/5 21171   7.2500   NaN        S  \n",
       "1      0          PC 17599  71.2833   C85        C  \n",
       "2      0  STON/O2. 3101282   7.9250   NaN        S  \n",
       "3      0            113803  53.1000  C123        S  \n",
       "4      0            373450   8.0500   NaN        S  "
      ]
     },
     "execution_count": 2,
     "metadata": {},
     "output_type": "execute_result"
    }
   ],
   "source": [
    "df=pd.read_csv('titanic.csv')\n",
    "df.head()"
   ]
  },
  {
   "cell_type": "code",
   "execution_count": 10,
   "id": "4f3f329f",
   "metadata": {},
   "outputs": [
    {
     "data": {
      "text/html": [
       "<div>\n",
       "<style scoped>\n",
       "    .dataframe tbody tr th:only-of-type {\n",
       "        vertical-align: middle;\n",
       "    }\n",
       "\n",
       "    .dataframe tbody tr th {\n",
       "        vertical-align: top;\n",
       "    }\n",
       "\n",
       "    .dataframe thead tr th {\n",
       "        text-align: left;\n",
       "    }\n",
       "\n",
       "    .dataframe thead tr:last-of-type th {\n",
       "        text-align: right;\n",
       "    }\n",
       "</style>\n",
       "<table border=\"1\" class=\"dataframe\">\n",
       "  <thead>\n",
       "    <tr>\n",
       "      <th>Embarked</th>\n",
       "      <th colspan=\"3\" halign=\"left\">C</th>\n",
       "      <th colspan=\"4\" halign=\"left\">Q</th>\n",
       "      <th colspan=\"7\" halign=\"left\">S</th>\n",
       "    </tr>\n",
       "    <tr>\n",
       "      <th>SibSp</th>\n",
       "      <th>0</th>\n",
       "      <th>1</th>\n",
       "      <th>2</th>\n",
       "      <th>0</th>\n",
       "      <th>1</th>\n",
       "      <th>2</th>\n",
       "      <th>4</th>\n",
       "      <th>0</th>\n",
       "      <th>1</th>\n",
       "      <th>2</th>\n",
       "      <th>3</th>\n",
       "      <th>4</th>\n",
       "      <th>5</th>\n",
       "      <th>8</th>\n",
       "    </tr>\n",
       "    <tr>\n",
       "      <th>Sex</th>\n",
       "      <th></th>\n",
       "      <th></th>\n",
       "      <th></th>\n",
       "      <th></th>\n",
       "      <th></th>\n",
       "      <th></th>\n",
       "      <th></th>\n",
       "      <th></th>\n",
       "      <th></th>\n",
       "      <th></th>\n",
       "      <th></th>\n",
       "      <th></th>\n",
       "      <th></th>\n",
       "      <th></th>\n",
       "    </tr>\n",
       "  </thead>\n",
       "  <tbody>\n",
       "    <tr>\n",
       "      <th>female</th>\n",
       "      <td>38.0</td>\n",
       "      <td>30.0</td>\n",
       "      <td>5.0</td>\n",
       "      <td>29.0</td>\n",
       "      <td>6.0</td>\n",
       "      <td>1.0</td>\n",
       "      <td>NaN</td>\n",
       "      <td>105.0</td>\n",
       "      <td>70.0</td>\n",
       "      <td>7.0</td>\n",
       "      <td>11.0</td>\n",
       "      <td>6.0</td>\n",
       "      <td>1.0</td>\n",
       "      <td>3.0</td>\n",
       "    </tr>\n",
       "    <tr>\n",
       "      <th>male</th>\n",
       "      <td>71.0</td>\n",
       "      <td>23.0</td>\n",
       "      <td>1.0</td>\n",
       "      <td>30.0</td>\n",
       "      <td>5.0</td>\n",
       "      <td>2.0</td>\n",
       "      <td>4.0</td>\n",
       "      <td>333.0</td>\n",
       "      <td>75.0</td>\n",
       "      <td>12.0</td>\n",
       "      <td>5.0</td>\n",
       "      <td>8.0</td>\n",
       "      <td>4.0</td>\n",
       "      <td>4.0</td>\n",
       "    </tr>\n",
       "  </tbody>\n",
       "</table>\n",
       "</div>"
      ],
      "text/plain": [
       "Embarked     C                Q                     S                         \\\n",
       "SibSp        0     1    2     0    1    2    4      0     1     2     3    4   \n",
       "Sex                                                                            \n",
       "female    38.0  30.0  5.0  29.0  6.0  1.0  NaN  105.0  70.0   7.0  11.0  6.0   \n",
       "male      71.0  23.0  1.0  30.0  5.0  2.0  4.0  333.0  75.0  12.0   5.0  8.0   \n",
       "\n",
       "Embarked            \n",
       "SibSp       5    8  \n",
       "Sex                 \n",
       "female    1.0  3.0  \n",
       "male      4.0  4.0  "
      ]
     },
     "execution_count": 10,
     "metadata": {},
     "output_type": "execute_result"
    }
   ],
   "source": [
    "df.pivot_table(columns=['Embarked','SibSp'],index='Sex',values='Survived',aggfunc='count')"
   ]
  },
  {
   "cell_type": "code",
   "execution_count": 17,
   "id": "1a8be6d3",
   "metadata": {},
   "outputs": [
    {
     "data": {
      "text/html": [
       "<div>\n",
       "<style scoped>\n",
       "    .dataframe tbody tr th:only-of-type {\n",
       "        vertical-align: middle;\n",
       "    }\n",
       "\n",
       "    .dataframe tbody tr th {\n",
       "        vertical-align: top;\n",
       "    }\n",
       "\n",
       "    .dataframe thead th {\n",
       "        text-align: right;\n",
       "    }\n",
       "</style>\n",
       "<table border=\"1\" class=\"dataframe\">\n",
       "  <thead>\n",
       "    <tr style=\"text-align: right;\">\n",
       "      <th>Survived</th>\n",
       "      <th>0</th>\n",
       "      <th>1</th>\n",
       "    </tr>\n",
       "    <tr>\n",
       "      <th>Sex</th>\n",
       "      <th></th>\n",
       "      <th></th>\n",
       "    </tr>\n",
       "  </thead>\n",
       "  <tbody>\n",
       "    <tr>\n",
       "      <th>female</th>\n",
       "      <td>81</td>\n",
       "      <td>233</td>\n",
       "    </tr>\n",
       "    <tr>\n",
       "      <th>male</th>\n",
       "      <td>468</td>\n",
       "      <td>109</td>\n",
       "    </tr>\n",
       "  </tbody>\n",
       "</table>\n",
       "</div>"
      ],
      "text/plain": [
       "Survived    0    1\n",
       "Sex               \n",
       "female     81  233\n",
       "male      468  109"
      ]
     },
     "execution_count": 17,
     "metadata": {},
     "output_type": "execute_result"
    }
   ],
   "source": [
    "pd.crosstab(df['Sex'],values=df['Survived'],aggfunc='count',columns=df['Survived'])"
   ]
  },
  {
   "cell_type": "code",
   "execution_count": 18,
   "id": "4e2fde42",
   "metadata": {},
   "outputs": [],
   "source": [
    "import pandas as pd\n",
    "\n",
    "# Sample DataFrame 1\n",
    "data1 = {'ID': [1, 2, 3],\n",
    "         'Name': ['Alice', 'Bob', 'Charlie']}\n",
    "df1 = pd.DataFrame(data1)\n",
    "\n",
    "# Sample DataFrame 2\n",
    "data2 = {'ID': [4, 5, 6],\n",
    "         'Name': ['David', 'Eva', 'Frank']}\n",
    "df2 = pd.DataFrame(data2)\n"
   ]
  },
  {
   "cell_type": "code",
   "execution_count": 20,
   "id": "5636bd27",
   "metadata": {},
   "outputs": [
    {
     "data": {
      "text/html": [
       "<div>\n",
       "<style scoped>\n",
       "    .dataframe tbody tr th:only-of-type {\n",
       "        vertical-align: middle;\n",
       "    }\n",
       "\n",
       "    .dataframe tbody tr th {\n",
       "        vertical-align: top;\n",
       "    }\n",
       "\n",
       "    .dataframe thead th {\n",
       "        text-align: right;\n",
       "    }\n",
       "</style>\n",
       "<table border=\"1\" class=\"dataframe\">\n",
       "  <thead>\n",
       "    <tr style=\"text-align: right;\">\n",
       "      <th></th>\n",
       "      <th>ID</th>\n",
       "      <th>Name</th>\n",
       "    </tr>\n",
       "  </thead>\n",
       "  <tbody>\n",
       "    <tr>\n",
       "      <th>0</th>\n",
       "      <td>1</td>\n",
       "      <td>Alice</td>\n",
       "    </tr>\n",
       "    <tr>\n",
       "      <th>1</th>\n",
       "      <td>2</td>\n",
       "      <td>Bob</td>\n",
       "    </tr>\n",
       "    <tr>\n",
       "      <th>2</th>\n",
       "      <td>3</td>\n",
       "      <td>Charlie</td>\n",
       "    </tr>\n",
       "    <tr>\n",
       "      <th>3</th>\n",
       "      <td>4</td>\n",
       "      <td>David</td>\n",
       "    </tr>\n",
       "    <tr>\n",
       "      <th>4</th>\n",
       "      <td>5</td>\n",
       "      <td>Eva</td>\n",
       "    </tr>\n",
       "    <tr>\n",
       "      <th>5</th>\n",
       "      <td>6</td>\n",
       "      <td>Frank</td>\n",
       "    </tr>\n",
       "  </tbody>\n",
       "</table>\n",
       "</div>"
      ],
      "text/plain": [
       "   ID     Name\n",
       "0   1    Alice\n",
       "1   2      Bob\n",
       "2   3  Charlie\n",
       "3   4    David\n",
       "4   5      Eva\n",
       "5   6    Frank"
      ]
     },
     "execution_count": 20,
     "metadata": {},
     "output_type": "execute_result"
    }
   ],
   "source": [
    "pd.concat([df1,df2],ignore_index=True)"
   ]
  },
  {
   "cell_type": "code",
   "execution_count": 21,
   "id": "eddca732",
   "metadata": {},
   "outputs": [
    {
     "data": {
      "text/html": [
       "<div>\n",
       "<style scoped>\n",
       "    .dataframe tbody tr th:only-of-type {\n",
       "        vertical-align: middle;\n",
       "    }\n",
       "\n",
       "    .dataframe tbody tr th {\n",
       "        vertical-align: top;\n",
       "    }\n",
       "\n",
       "    .dataframe thead th {\n",
       "        text-align: right;\n",
       "    }\n",
       "</style>\n",
       "<table border=\"1\" class=\"dataframe\">\n",
       "  <thead>\n",
       "    <tr style=\"text-align: right;\">\n",
       "      <th></th>\n",
       "      <th>ID</th>\n",
       "      <th>Name</th>\n",
       "      <th>Age</th>\n",
       "    </tr>\n",
       "  </thead>\n",
       "  <tbody>\n",
       "    <tr>\n",
       "      <th>0</th>\n",
       "      <td>2</td>\n",
       "      <td>Bob</td>\n",
       "      <td>25</td>\n",
       "    </tr>\n",
       "    <tr>\n",
       "      <th>1</th>\n",
       "      <td>3</td>\n",
       "      <td>Charlie</td>\n",
       "      <td>30</td>\n",
       "    </tr>\n",
       "  </tbody>\n",
       "</table>\n",
       "</div>"
      ],
      "text/plain": [
       "   ID     Name  Age\n",
       "0   2      Bob   25\n",
       "1   3  Charlie   30"
      ]
     },
     "execution_count": 21,
     "metadata": {},
     "output_type": "execute_result"
    }
   ],
   "source": [
    "import pandas as pd\n",
    "\n",
    "# Sample DataFrame 1\n",
    "data1 = {'ID': [1, 2, 3],\n",
    "         'Name': ['Alice', 'Bob', 'Charlie']}\n",
    "df1 = pd.DataFrame(data1)\n",
    "\n",
    "# Sample DataFrame 2\n",
    "data2 = {'ID': [2, 3, 4],\n",
    "         'Age': [25, 30, 35]}\n",
    "df2 = pd.DataFrame(data2)\n",
    "\n",
    "# Merging DataFrames on the 'ID' column\n",
    "merged_df = pd.merge(df1, df2, on='ID')\n",
    "\n",
    "merged_df"
   ]
  },
  {
   "cell_type": "code",
   "execution_count": 25,
   "id": "aea6cb08",
   "metadata": {},
   "outputs": [
    {
     "data": {
      "text/html": [
       "<div>\n",
       "<style scoped>\n",
       "    .dataframe tbody tr th:only-of-type {\n",
       "        vertical-align: middle;\n",
       "    }\n",
       "\n",
       "    .dataframe tbody tr th {\n",
       "        vertical-align: top;\n",
       "    }\n",
       "\n",
       "    .dataframe thead th {\n",
       "        text-align: right;\n",
       "    }\n",
       "</style>\n",
       "<table border=\"1\" class=\"dataframe\">\n",
       "  <thead>\n",
       "    <tr style=\"text-align: right;\">\n",
       "      <th></th>\n",
       "      <th>ID</th>\n",
       "      <th>Name</th>\n",
       "      <th>EmployeeID</th>\n",
       "      <th>Age</th>\n",
       "    </tr>\n",
       "  </thead>\n",
       "  <tbody>\n",
       "    <tr>\n",
       "      <th>0</th>\n",
       "      <td>1</td>\n",
       "      <td>Alice</td>\n",
       "      <td>2</td>\n",
       "      <td>25</td>\n",
       "    </tr>\n",
       "    <tr>\n",
       "      <th>1</th>\n",
       "      <td>2</td>\n",
       "      <td>Bob</td>\n",
       "      <td>3</td>\n",
       "      <td>30</td>\n",
       "    </tr>\n",
       "    <tr>\n",
       "      <th>2</th>\n",
       "      <td>3</td>\n",
       "      <td>Charlie</td>\n",
       "      <td>4</td>\n",
       "      <td>35</td>\n",
       "    </tr>\n",
       "  </tbody>\n",
       "</table>\n",
       "</div>"
      ],
      "text/plain": [
       "   ID     Name  EmployeeID  Age\n",
       "0   1    Alice           2   25\n",
       "1   2      Bob           3   30\n",
       "2   3  Charlie           4   35"
      ]
     },
     "execution_count": 25,
     "metadata": {},
     "output_type": "execute_result"
    }
   ],
   "source": [
    "data1 = {'ID': [1, 2, 3],\n",
    "         'Name': ['Alice', 'Bob', 'Charlie']}\n",
    "df1 = pd.DataFrame(data1)\n",
    "\n",
    "# Sample DataFrame 2\n",
    "data2 = {'EmployeeID': [2, 3, 4],\n",
    "         'Age': [25, 30, 35]}\n",
    "df2 = pd.DataFrame(data2)\n",
    "df1.join(df2,how='right')"
   ]
  },
  {
   "cell_type": "code",
   "execution_count": 30,
   "id": "3aeb4680",
   "metadata": {},
   "outputs": [
    {
     "ename": "KeyError",
     "evalue": "'ID'",
     "output_type": "error",
     "traceback": [
      "\u001b[1;31m---------------------------------------------------------------------------\u001b[0m",
      "\u001b[1;31mKeyError\u001b[0m                                  Traceback (most recent call last)",
      "Cell \u001b[1;32mIn[30], line 1\u001b[0m\n\u001b[1;32m----> 1\u001b[0m \u001b[43mpd\u001b[49m\u001b[38;5;241;43m.\u001b[39;49m\u001b[43mmerge\u001b[49m\u001b[43m(\u001b[49m\u001b[43mdf1\u001b[49m\u001b[43m,\u001b[49m\u001b[43mdf2\u001b[49m\u001b[43m,\u001b[49m\u001b[43mright_on\u001b[49m\u001b[38;5;241;43m=\u001b[39;49m\u001b[38;5;124;43m'\u001b[39;49m\u001b[38;5;124;43mID\u001b[39;49m\u001b[38;5;124;43m'\u001b[39;49m\u001b[43m,\u001b[49m\u001b[43mleft_on\u001b[49m\u001b[38;5;241;43m=\u001b[39;49m\u001b[38;5;124;43m'\u001b[39;49m\u001b[38;5;124;43mEmployeeID\u001b[39;49m\u001b[38;5;124;43m'\u001b[39;49m\u001b[43m)\u001b[49m\n",
      "File \u001b[1;32mE:\\BROCAMP\\DS\\dsvenv\\lib\\site-packages\\pandas\\core\\reshape\\merge.py:110\u001b[0m, in \u001b[0;36mmerge\u001b[1;34m(left, right, how, on, left_on, right_on, left_index, right_index, sort, suffixes, copy, indicator, validate)\u001b[0m\n\u001b[0;32m     93\u001b[0m \u001b[38;5;129m@Substitution\u001b[39m(\u001b[38;5;124m\"\u001b[39m\u001b[38;5;130;01m\\n\u001b[39;00m\u001b[38;5;124mleft : DataFrame or named Series\u001b[39m\u001b[38;5;124m\"\u001b[39m)\n\u001b[0;32m     94\u001b[0m \u001b[38;5;129m@Appender\u001b[39m(_merge_doc, indents\u001b[38;5;241m=\u001b[39m\u001b[38;5;241m0\u001b[39m)\n\u001b[0;32m     95\u001b[0m \u001b[38;5;28;01mdef\u001b[39;00m \u001b[38;5;21mmerge\u001b[39m(\n\u001b[1;32m   (...)\u001b[0m\n\u001b[0;32m    108\u001b[0m     validate: \u001b[38;5;28mstr\u001b[39m \u001b[38;5;241m|\u001b[39m \u001b[38;5;28;01mNone\u001b[39;00m \u001b[38;5;241m=\u001b[39m \u001b[38;5;28;01mNone\u001b[39;00m,\n\u001b[0;32m    109\u001b[0m ) \u001b[38;5;241m-\u001b[39m\u001b[38;5;241m>\u001b[39m DataFrame:\n\u001b[1;32m--> 110\u001b[0m     op \u001b[38;5;241m=\u001b[39m \u001b[43m_MergeOperation\u001b[49m\u001b[43m(\u001b[49m\n\u001b[0;32m    111\u001b[0m \u001b[43m        \u001b[49m\u001b[43mleft\u001b[49m\u001b[43m,\u001b[49m\n\u001b[0;32m    112\u001b[0m \u001b[43m        \u001b[49m\u001b[43mright\u001b[49m\u001b[43m,\u001b[49m\n\u001b[0;32m    113\u001b[0m \u001b[43m        \u001b[49m\u001b[43mhow\u001b[49m\u001b[38;5;241;43m=\u001b[39;49m\u001b[43mhow\u001b[49m\u001b[43m,\u001b[49m\n\u001b[0;32m    114\u001b[0m \u001b[43m        \u001b[49m\u001b[43mon\u001b[49m\u001b[38;5;241;43m=\u001b[39;49m\u001b[43mon\u001b[49m\u001b[43m,\u001b[49m\n\u001b[0;32m    115\u001b[0m \u001b[43m        \u001b[49m\u001b[43mleft_on\u001b[49m\u001b[38;5;241;43m=\u001b[39;49m\u001b[43mleft_on\u001b[49m\u001b[43m,\u001b[49m\n\u001b[0;32m    116\u001b[0m \u001b[43m        \u001b[49m\u001b[43mright_on\u001b[49m\u001b[38;5;241;43m=\u001b[39;49m\u001b[43mright_on\u001b[49m\u001b[43m,\u001b[49m\n\u001b[0;32m    117\u001b[0m \u001b[43m        \u001b[49m\u001b[43mleft_index\u001b[49m\u001b[38;5;241;43m=\u001b[39;49m\u001b[43mleft_index\u001b[49m\u001b[43m,\u001b[49m\n\u001b[0;32m    118\u001b[0m \u001b[43m        \u001b[49m\u001b[43mright_index\u001b[49m\u001b[38;5;241;43m=\u001b[39;49m\u001b[43mright_index\u001b[49m\u001b[43m,\u001b[49m\n\u001b[0;32m    119\u001b[0m \u001b[43m        \u001b[49m\u001b[43msort\u001b[49m\u001b[38;5;241;43m=\u001b[39;49m\u001b[43msort\u001b[49m\u001b[43m,\u001b[49m\n\u001b[0;32m    120\u001b[0m \u001b[43m        \u001b[49m\u001b[43msuffixes\u001b[49m\u001b[38;5;241;43m=\u001b[39;49m\u001b[43msuffixes\u001b[49m\u001b[43m,\u001b[49m\n\u001b[0;32m    121\u001b[0m \u001b[43m        \u001b[49m\u001b[43mindicator\u001b[49m\u001b[38;5;241;43m=\u001b[39;49m\u001b[43mindicator\u001b[49m\u001b[43m,\u001b[49m\n\u001b[0;32m    122\u001b[0m \u001b[43m        \u001b[49m\u001b[43mvalidate\u001b[49m\u001b[38;5;241;43m=\u001b[39;49m\u001b[43mvalidate\u001b[49m\u001b[43m,\u001b[49m\n\u001b[0;32m    123\u001b[0m \u001b[43m    \u001b[49m\u001b[43m)\u001b[49m\n\u001b[0;32m    124\u001b[0m     \u001b[38;5;28;01mreturn\u001b[39;00m op\u001b[38;5;241m.\u001b[39mget_result(copy\u001b[38;5;241m=\u001b[39mcopy)\n",
      "File \u001b[1;32mE:\\BROCAMP\\DS\\dsvenv\\lib\\site-packages\\pandas\\core\\reshape\\merge.py:703\u001b[0m, in \u001b[0;36m_MergeOperation.__init__\u001b[1;34m(self, left, right, how, on, left_on, right_on, axis, left_index, right_index, sort, suffixes, indicator, validate)\u001b[0m\n\u001b[0;32m    696\u001b[0m \u001b[38;5;28mself\u001b[39m\u001b[38;5;241m.\u001b[39m_cross \u001b[38;5;241m=\u001b[39m cross_col\n\u001b[0;32m    698\u001b[0m \u001b[38;5;66;03m# note this function has side effects\u001b[39;00m\n\u001b[0;32m    699\u001b[0m (\n\u001b[0;32m    700\u001b[0m     \u001b[38;5;28mself\u001b[39m\u001b[38;5;241m.\u001b[39mleft_join_keys,\n\u001b[0;32m    701\u001b[0m     \u001b[38;5;28mself\u001b[39m\u001b[38;5;241m.\u001b[39mright_join_keys,\n\u001b[0;32m    702\u001b[0m     \u001b[38;5;28mself\u001b[39m\u001b[38;5;241m.\u001b[39mjoin_names,\n\u001b[1;32m--> 703\u001b[0m ) \u001b[38;5;241m=\u001b[39m \u001b[38;5;28;43mself\u001b[39;49m\u001b[38;5;241;43m.\u001b[39;49m\u001b[43m_get_merge_keys\u001b[49m\u001b[43m(\u001b[49m\u001b[43m)\u001b[49m\n\u001b[0;32m    705\u001b[0m \u001b[38;5;66;03m# validate the merge keys dtypes. We may need to coerce\u001b[39;00m\n\u001b[0;32m    706\u001b[0m \u001b[38;5;66;03m# to avoid incompatible dtypes\u001b[39;00m\n\u001b[0;32m    707\u001b[0m \u001b[38;5;28mself\u001b[39m\u001b[38;5;241m.\u001b[39m_maybe_coerce_merge_keys()\n",
      "File \u001b[1;32mE:\\BROCAMP\\DS\\dsvenv\\lib\\site-packages\\pandas\\core\\reshape\\merge.py:1162\u001b[0m, in \u001b[0;36m_MergeOperation._get_merge_keys\u001b[1;34m(self)\u001b[0m\n\u001b[0;32m   1160\u001b[0m rk \u001b[38;5;241m=\u001b[39m cast(Hashable, rk)\n\u001b[0;32m   1161\u001b[0m \u001b[38;5;28;01mif\u001b[39;00m rk \u001b[38;5;129;01mis\u001b[39;00m \u001b[38;5;129;01mnot\u001b[39;00m \u001b[38;5;28;01mNone\u001b[39;00m:\n\u001b[1;32m-> 1162\u001b[0m     right_keys\u001b[38;5;241m.\u001b[39mappend(\u001b[43mright\u001b[49m\u001b[38;5;241;43m.\u001b[39;49m\u001b[43m_get_label_or_level_values\u001b[49m\u001b[43m(\u001b[49m\u001b[43mrk\u001b[49m\u001b[43m)\u001b[49m)\n\u001b[0;32m   1163\u001b[0m \u001b[38;5;28;01melse\u001b[39;00m:\n\u001b[0;32m   1164\u001b[0m     \u001b[38;5;66;03m# work-around for merge_asof(right_index=True)\u001b[39;00m\n\u001b[0;32m   1165\u001b[0m     right_keys\u001b[38;5;241m.\u001b[39mappend(right\u001b[38;5;241m.\u001b[39mindex)\n",
      "File \u001b[1;32mE:\\BROCAMP\\DS\\dsvenv\\lib\\site-packages\\pandas\\core\\generic.py:1850\u001b[0m, in \u001b[0;36mNDFrame._get_label_or_level_values\u001b[1;34m(self, key, axis)\u001b[0m\n\u001b[0;32m   1844\u001b[0m     values \u001b[38;5;241m=\u001b[39m (\n\u001b[0;32m   1845\u001b[0m         \u001b[38;5;28mself\u001b[39m\u001b[38;5;241m.\u001b[39maxes[axis]\n\u001b[0;32m   1846\u001b[0m         \u001b[38;5;241m.\u001b[39mget_level_values(key)  \u001b[38;5;66;03m# type: ignore[assignment]\u001b[39;00m\n\u001b[0;32m   1847\u001b[0m         \u001b[38;5;241m.\u001b[39m_values\n\u001b[0;32m   1848\u001b[0m     )\n\u001b[0;32m   1849\u001b[0m \u001b[38;5;28;01melse\u001b[39;00m:\n\u001b[1;32m-> 1850\u001b[0m     \u001b[38;5;28;01mraise\u001b[39;00m \u001b[38;5;167;01mKeyError\u001b[39;00m(key)\n\u001b[0;32m   1852\u001b[0m \u001b[38;5;66;03m# Check for duplicates\u001b[39;00m\n\u001b[0;32m   1853\u001b[0m \u001b[38;5;28;01mif\u001b[39;00m values\u001b[38;5;241m.\u001b[39mndim \u001b[38;5;241m>\u001b[39m \u001b[38;5;241m1\u001b[39m:\n",
      "\u001b[1;31mKeyError\u001b[0m: 'ID'"
     ]
    }
   ],
   "source": [
    "pd.merge(df1,df2,right_on='ID',left_on='EmployeeID')"
   ]
  },
  {
   "cell_type": "code",
   "execution_count": null,
   "id": "ea145478",
   "metadata": {},
   "outputs": [],
   "source": [
    "\n"
   ]
  }
 ],
 "metadata": {
  "kernelspec": {
   "display_name": "Python 3 (ipykernel)",
   "language": "python",
   "name": "python3"
  },
  "language_info": {
   "codemirror_mode": {
    "name": "ipython",
    "version": 3
   },
   "file_extension": ".py",
   "mimetype": "text/x-python",
   "name": "python",
   "nbconvert_exporter": "python",
   "pygments_lexer": "ipython3",
   "version": "3.10.11"
  },
  "varInspector": {
   "cols": {
    "lenName": 16,
    "lenType": 16,
    "lenVar": 40
   },
   "kernels_config": {
    "python": {
     "delete_cmd_postfix": "",
     "delete_cmd_prefix": "del ",
     "library": "var_list.py",
     "varRefreshCmd": "print(var_dic_list())"
    },
    "r": {
     "delete_cmd_postfix": ") ",
     "delete_cmd_prefix": "rm(",
     "library": "var_list.r",
     "varRefreshCmd": "cat(var_dic_list()) "
    }
   },
   "types_to_exclude": [
    "module",
    "function",
    "builtin_function_or_method",
    "instance",
    "_Feature"
   ],
   "window_display": false
  }
 },
 "nbformat": 4,
 "nbformat_minor": 5
}
