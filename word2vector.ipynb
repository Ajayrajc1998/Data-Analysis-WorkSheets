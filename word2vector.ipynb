{
 "cells": [
  {
   "cell_type": "code",
   "execution_count": 2,
   "id": "b5bb0415",
   "metadata": {},
   "outputs": [],
   "source": [
    "import nltk"
   ]
  },
  {
   "cell_type": "code",
   "execution_count": 3,
   "id": "8d44c8a8",
   "metadata": {},
   "outputs": [],
   "source": [
    "from gensim.models import Word2Vec\n",
    "from nltk.corpus import stopwords"
   ]
  },
  {
   "cell_type": "code",
   "execution_count": 4,
   "id": "c7702032",
   "metadata": {},
   "outputs": [],
   "source": [
    "para=\"\"\"Tendulkar was born at Nirmal Nursing Home in Dadar, Bombay on 24 April 1973[30][31] to a Rajapur Saraswat Brahmin[better source needed] Maharastrian Marathi family.[32][33] His father, Ramesh Tendulkar, was a Marathi-language novelist and poet while his mother, Rajni, worked in the insurance industry.[34] Tendulkar's father named him after his favourite music director, Sachin Dev Burman.[35] Tendulkar has three older siblings: two half-brothers Nitin and Ajit, and a half-sister Savita. They were his father's children by his first wife, who died after the birth of her third child.[36][37] His brother Ajit played in Bombay's Kanga Cricket League.[38]\"\"\""
   ]
  },
  {
   "cell_type": "code",
   "execution_count": 5,
   "id": "7b3a8a03",
   "metadata": {},
   "outputs": [
    {
     "data": {
      "text/plain": [
       "\"tendulkar was born at nirmal nursing home in dadar, bombay on april to a rajapur saraswat brahmin[better source needed] maharastrian marathi family. his father, ramesh tendulkar, was a marathi-language novelist and poet while his mother, rajni, worked in the insurance industry. tendulkar's father named him after his favourite music director, sachin dev burman. tendulkar has three older siblings: two half-brothers nitin and ajit, and a half-sister savita. they were his father's children by his first wife, who died after the birth of her third child. his brother ajit played in bombay's kanga cricket league. \""
      ]
     },
     "execution_count": 5,
     "metadata": {},
     "output_type": "execute_result"
    }
   ],
   "source": [
    "import re\n",
    "text=re.sub(r'\\[[0-9]*\\]',' ',para)\n",
    "text=re.sub(r'\\s+',' ',text)\n",
    "text=text.lower()\n",
    "text=re.sub(r'\\d',' ',text)\n",
    "text=re.sub(r'\\s+',' ',text)\n",
    "text"
   ]
  },
  {
   "cell_type": "code",
   "execution_count": 6,
   "id": "a89f1753",
   "metadata": {},
   "outputs": [
    {
     "data": {
      "text/plain": [
       "['tendulkar was born at nirmal nursing home in dadar, bombay on april to a rajapur saraswat brahmin[better source needed] maharastrian marathi family.',\n",
       " 'his father, ramesh tendulkar, was a marathi-language novelist and poet while his mother, rajni, worked in the insurance industry.',\n",
       " \"tendulkar's father named him after his favourite music director, sachin dev burman.\",\n",
       " 'tendulkar has three older siblings: two half-brothers nitin and ajit, and a half-sister savita.',\n",
       " \"they were his father's children by his first wife, who died after the birth of her third child.\",\n",
       " \"his brother ajit played in bombay's kanga cricket league.\"]"
      ]
     },
     "execution_count": 6,
     "metadata": {},
     "output_type": "execute_result"
    }
   ],
   "source": [
    "from nltk import sent_tokenize\n",
    "sentences=sent_tokenize(text)\n",
    "sentences"
   ]
  },
  {
   "cell_type": "code",
   "execution_count": 7,
   "id": "1ca9b774",
   "metadata": {
    "scrolled": false
   },
   "outputs": [
    {
     "data": {
      "text/plain": [
       "[['tendulkar',\n",
       "  'was',\n",
       "  'born',\n",
       "  'at',\n",
       "  'nirmal',\n",
       "  'nursing',\n",
       "  'home',\n",
       "  'in',\n",
       "  'dadar',\n",
       "  ',',\n",
       "  'bombay',\n",
       "  'on',\n",
       "  'april',\n",
       "  'to',\n",
       "  'a',\n",
       "  'rajapur',\n",
       "  'saraswat',\n",
       "  'brahmin',\n",
       "  '[',\n",
       "  'better',\n",
       "  'source',\n",
       "  'needed',\n",
       "  ']',\n",
       "  'maharastrian',\n",
       "  'marathi',\n",
       "  'family',\n",
       "  '.'],\n",
       " ['his',\n",
       "  'father',\n",
       "  ',',\n",
       "  'ramesh',\n",
       "  'tendulkar',\n",
       "  ',',\n",
       "  'was',\n",
       "  'a',\n",
       "  'marathi-language',\n",
       "  'novelist',\n",
       "  'and',\n",
       "  'poet',\n",
       "  'while',\n",
       "  'his',\n",
       "  'mother',\n",
       "  ',',\n",
       "  'rajni',\n",
       "  ',',\n",
       "  'worked',\n",
       "  'in',\n",
       "  'the',\n",
       "  'insurance',\n",
       "  'industry',\n",
       "  '.'],\n",
       " ['tendulkar',\n",
       "  \"'s\",\n",
       "  'father',\n",
       "  'named',\n",
       "  'him',\n",
       "  'after',\n",
       "  'his',\n",
       "  'favourite',\n",
       "  'music',\n",
       "  'director',\n",
       "  ',',\n",
       "  'sachin',\n",
       "  'dev',\n",
       "  'burman',\n",
       "  '.'],\n",
       " ['tendulkar',\n",
       "  'has',\n",
       "  'three',\n",
       "  'older',\n",
       "  'siblings',\n",
       "  ':',\n",
       "  'two',\n",
       "  'half-brothers',\n",
       "  'nitin',\n",
       "  'and',\n",
       "  'ajit',\n",
       "  ',',\n",
       "  'and',\n",
       "  'a',\n",
       "  'half-sister',\n",
       "  'savita',\n",
       "  '.'],\n",
       " ['they',\n",
       "  'were',\n",
       "  'his',\n",
       "  'father',\n",
       "  \"'s\",\n",
       "  'children',\n",
       "  'by',\n",
       "  'his',\n",
       "  'first',\n",
       "  'wife',\n",
       "  ',',\n",
       "  'who',\n",
       "  'died',\n",
       "  'after',\n",
       "  'the',\n",
       "  'birth',\n",
       "  'of',\n",
       "  'her',\n",
       "  'third',\n",
       "  'child',\n",
       "  '.'],\n",
       " ['his',\n",
       "  'brother',\n",
       "  'ajit',\n",
       "  'played',\n",
       "  'in',\n",
       "  'bombay',\n",
       "  \"'s\",\n",
       "  'kanga',\n",
       "  'cricket',\n",
       "  'league',\n",
       "  '.']]"
      ]
     },
     "execution_count": 7,
     "metadata": {},
     "output_type": "execute_result"
    }
   ],
   "source": [
    "from nltk import word_tokenize\n",
    "sentences=[word_tokenize(sentence) for sentence in sentences]\n",
    "sentences"
   ]
  },
  {
   "cell_type": "code",
   "execution_count": 8,
   "id": "dd8d9ac3",
   "metadata": {},
   "outputs": [
    {
     "data": {
      "text/plain": [
       "{',': 0,\n",
       " '.': 1,\n",
       " 'tendulkar': 2,\n",
       " \"'s\": 3,\n",
       " 'father': 4,\n",
       " 'ajit': 5,\n",
       " 'bombay': 6,\n",
       " 'marathi-language': 7,\n",
       " 'needed': 8,\n",
       " 'ramesh': 9,\n",
       " 'novelist': 10,\n",
       " 'poet': 11,\n",
       " 'family': 12,\n",
       " 'marathi': 13,\n",
       " 'mother': 14,\n",
       " 'maharastrian': 15,\n",
       " ']': 16,\n",
       " 'better': 17,\n",
       " 'source': 18,\n",
       " 'worked': 19,\n",
       " '[': 20,\n",
       " 'brahmin': 21,\n",
       " 'saraswat': 22,\n",
       " 'rajapur': 23,\n",
       " 'april': 24,\n",
       " 'dadar': 25,\n",
       " 'home': 26,\n",
       " 'nursing': 27,\n",
       " 'nirmal': 28,\n",
       " 'born': 29,\n",
       " 'rajni': 30,\n",
       " 'league': 31,\n",
       " 'insurance': 32,\n",
       " 'nitin': 33,\n",
       " 'kanga': 34,\n",
       " 'played': 35,\n",
       " 'brother': 36,\n",
       " 'child': 37,\n",
       " 'third': 38,\n",
       " 'birth': 39,\n",
       " 'died': 40,\n",
       " 'wife': 41,\n",
       " 'first': 42,\n",
       " 'children': 43,\n",
       " 'savita': 44,\n",
       " 'half-sister': 45,\n",
       " 'half-brothers': 46,\n",
       " 'cricket': 47,\n",
       " 'two': 48,\n",
       " ':': 49,\n",
       " 'siblings': 50,\n",
       " 'older': 51,\n",
       " 'three': 52,\n",
       " 'burman': 53,\n",
       " 'dev': 54,\n",
       " 'sachin': 55,\n",
       " 'director': 56,\n",
       " 'music': 57,\n",
       " 'favourite': 58,\n",
       " 'named': 59,\n",
       " 'industry': 60}"
      ]
     },
     "execution_count": 8,
     "metadata": {},
     "output_type": "execute_result"
    }
   ],
   "source": [
    "from nltk.corpus import stopwords\n",
    "for i in range(len(sentences)):\n",
    "        sentences[i]=[word for word in sentences[i] if word not in stopwords.words('english')]\n",
    "model=Word2Vec(sentences,min_count=1)\n",
    "words=model.wv.key_to_index\n",
    "words"
   ]
  },
  {
   "cell_type": "code",
   "execution_count": 9,
   "id": "2c31fbf7",
   "metadata": {},
   "outputs": [
    {
     "data": {
      "text/plain": [
       "array([-6.5165679e-03,  8.9262165e-03, -1.5861272e-03, -8.2881218e-03,\n",
       "        7.9996316e-03, -2.9727092e-03, -1.3294006e-03, -6.6060602e-04,\n",
       "        2.8071965e-03, -4.7288872e-03, -2.5894571e-04, -2.8466594e-03,\n",
       "        8.7639326e-03,  6.8987189e-03,  1.1000010e-03, -6.0799811e-03,\n",
       "        3.1426498e-03,  1.1422788e-03, -6.1161397e-03, -5.7624034e-03,\n",
       "       -3.0823357e-03,  2.3830622e-03, -8.0864187e-03, -4.9887197e-03,\n",
       "        8.0996640e-03, -3.6906213e-03,  7.9394616e-03,  5.3117116e-04,\n",
       "       -5.5396482e-03, -4.9499078e-03, -2.0613433e-04,  4.5964895e-03,\n",
       "       -6.0590687e-03, -5.5364869e-03, -6.8131471e-03,  6.7504086e-03,\n",
       "       -2.4194347e-03,  4.0193228e-03, -1.6336303e-03, -7.4440073e-03,\n",
       "       -1.2729239e-03,  3.9814168e-04,  3.6007396e-03, -8.6619863e-03,\n",
       "       -6.8065370e-03, -6.5741288e-03,  2.9879820e-03, -3.7602573e-03,\n",
       "        1.0245647e-03,  4.1561816e-03,  4.5157000e-03,  2.3601917e-03,\n",
       "       -2.8799551e-03,  6.2043220e-04, -5.3752325e-03, -6.3644499e-03,\n",
       "        8.7123867e-03, -4.0460718e-03, -9.3282089e-03,  3.7346438e-03,\n",
       "        8.4669581e-03, -1.9643051e-04,  2.2747533e-03, -3.5266033e-03,\n",
       "       -4.2014383e-03, -8.6061973e-03, -7.8498693e-03, -9.0646297e-03,\n",
       "       -5.9905532e-03,  8.5051144e-03,  9.4289854e-03, -1.6743637e-03,\n",
       "        2.8066492e-05,  7.8518242e-03,  1.2957449e-03, -5.1366044e-03,\n",
       "        2.6217273e-03,  1.8185423e-03, -3.7350161e-03, -4.8965747e-03,\n",
       "        9.6466886e-03,  7.6392456e-03, -8.5848952e-03, -5.5084219e-03,\n",
       "        1.4112332e-03,  9.1043796e-04, -8.3206901e-03,  9.3292780e-03,\n",
       "       -5.3852317e-03,  4.6046381e-03,  9.2504015e-03,  1.0866965e-03,\n",
       "        4.2180531e-03, -2.7214892e-03, -9.6780322e-03,  5.9923920e-04,\n",
       "       -1.0869117e-03, -9.9105621e-03,  7.0074704e-03, -7.3866830e-03],\n",
       "      dtype=float32)"
      ]
     },
     "execution_count": 9,
     "metadata": {},
     "output_type": "execute_result"
    }
   ],
   "source": [
    "vector=model.wv['wife']\n",
    "vector"
   ]
  },
  {
   "cell_type": "code",
   "execution_count": 10,
   "id": "b430e332",
   "metadata": {},
   "outputs": [
    {
     "data": {
      "text/plain": [
       "[('tendulkar', 0.21224220097064972),\n",
       " ('april', 0.19213712215423584),\n",
       " ('nirmal', 0.14349405467510223),\n",
       " ('home', 0.12638555467128754),\n",
       " ('better', 0.12068794667720795),\n",
       " ('kanga', 0.11697656661272049),\n",
       " ('ajit', 0.11629219353199005),\n",
       " ('born', 0.11612831801176071),\n",
       " ('died', 0.11025084555149078),\n",
       " ('cricket', 0.10801973193883896)]"
      ]
     },
     "execution_count": 10,
     "metadata": {},
     "output_type": "execute_result"
    }
   ],
   "source": [
    "similar=model.wv.most_similar('wife')\n",
    "similar"
   ]
  },
  {
   "cell_type": "markdown",
   "id": "aa911739",
   "metadata": {},
   "source": [
    "# ****************************************************"
   ]
  },
  {
   "cell_type": "code",
   "execution_count": null,
   "id": "0d1caeb4",
   "metadata": {},
   "outputs": [],
   "source": []
  }
 ],
 "metadata": {
  "kernelspec": {
   "display_name": "dsvenv",
   "language": "python",
   "name": "dsvenv"
  },
  "language_info": {
   "codemirror_mode": {
    "name": "ipython",
    "version": 3
   },
   "file_extension": ".py",
   "mimetype": "text/x-python",
   "name": "python",
   "nbconvert_exporter": "python",
   "pygments_lexer": "ipython3",
   "version": "3.10.11"
  },
  "varInspector": {
   "cols": {
    "lenName": 16,
    "lenType": 16,
    "lenVar": 40
   },
   "kernels_config": {
    "python": {
     "delete_cmd_postfix": "",
     "delete_cmd_prefix": "del ",
     "library": "var_list.py",
     "varRefreshCmd": "print(var_dic_list())"
    },
    "r": {
     "delete_cmd_postfix": ") ",
     "delete_cmd_prefix": "rm(",
     "library": "var_list.r",
     "varRefreshCmd": "cat(var_dic_list()) "
    }
   },
   "types_to_exclude": [
    "module",
    "function",
    "builtin_function_or_method",
    "instance",
    "_Feature"
   ],
   "window_display": false
  }
 },
 "nbformat": 4,
 "nbformat_minor": 5
}
