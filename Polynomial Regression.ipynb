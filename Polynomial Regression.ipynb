{
 "cells": [
  {
   "cell_type": "markdown",
   "id": "fcf92266",
   "metadata": {},
   "source": [
    "#### Model Order selection:\n",
    "#### $BIC_{k}=n_{}log(SS_{\\epsilon})+k_{}log(n)$\n",
    "#### where BIC is Bayersian Information Crieterion and\n",
    "#### $n$ is the number of observations in the dataset.\n",
    "#### $k$ is the degree of the polynomial model (the number of polynomial terms used in the model).\n",
    "#### $SS_{\\epsilon}$ is the sum of squared residuals (the difference between the predicted and actual values of the dependent variable)."
   ]
  },
  {
   "cell_type": "code",
   "execution_count": 41,
   "id": "889eaa55",
   "metadata": {},
   "outputs": [],
   "source": [
    "import numpy as np\n",
    "import pandas as pd\n",
    "import sklearn\n",
    "import seaborn as sns\n",
    "import matplotlib.pyplot as plt"
   ]
  },
  {
   "cell_type": "code",
   "execution_count": 130,
   "id": "329ccdd9",
   "metadata": {},
   "outputs": [
    {
     "data": {
      "text/html": [
       "<div>\n",
       "<style scoped>\n",
       "    .dataframe tbody tr th:only-of-type {\n",
       "        vertical-align: middle;\n",
       "    }\n",
       "\n",
       "    .dataframe tbody tr th {\n",
       "        vertical-align: top;\n",
       "    }\n",
       "\n",
       "    .dataframe thead th {\n",
       "        text-align: right;\n",
       "    }\n",
       "</style>\n",
       "<table border=\"1\" class=\"dataframe\">\n",
       "  <thead>\n",
       "    <tr style=\"text-align: right;\">\n",
       "      <th></th>\n",
       "      <th>crim</th>\n",
       "      <th>zn</th>\n",
       "      <th>indus</th>\n",
       "      <th>chas</th>\n",
       "      <th>nox</th>\n",
       "      <th>rm</th>\n",
       "      <th>age</th>\n",
       "      <th>dis</th>\n",
       "      <th>rad</th>\n",
       "      <th>tax</th>\n",
       "      <th>ptratio</th>\n",
       "      <th>black</th>\n",
       "      <th>lstat</th>\n",
       "      <th>medv</th>\n",
       "    </tr>\n",
       "  </thead>\n",
       "  <tbody>\n",
       "    <tr>\n",
       "      <th>0</th>\n",
       "      <td>0.00632</td>\n",
       "      <td>18.0</td>\n",
       "      <td>2.31</td>\n",
       "      <td>0</td>\n",
       "      <td>0.538</td>\n",
       "      <td>6.575</td>\n",
       "      <td>65.2</td>\n",
       "      <td>4.0900</td>\n",
       "      <td>1</td>\n",
       "      <td>296</td>\n",
       "      <td>15.3</td>\n",
       "      <td>396.90</td>\n",
       "      <td>4.98</td>\n",
       "      <td>24.0</td>\n",
       "    </tr>\n",
       "    <tr>\n",
       "      <th>1</th>\n",
       "      <td>0.02731</td>\n",
       "      <td>0.0</td>\n",
       "      <td>7.07</td>\n",
       "      <td>0</td>\n",
       "      <td>0.469</td>\n",
       "      <td>6.421</td>\n",
       "      <td>78.9</td>\n",
       "      <td>4.9671</td>\n",
       "      <td>2</td>\n",
       "      <td>242</td>\n",
       "      <td>17.8</td>\n",
       "      <td>396.90</td>\n",
       "      <td>9.14</td>\n",
       "      <td>21.6</td>\n",
       "    </tr>\n",
       "    <tr>\n",
       "      <th>2</th>\n",
       "      <td>0.02729</td>\n",
       "      <td>0.0</td>\n",
       "      <td>7.07</td>\n",
       "      <td>0</td>\n",
       "      <td>0.469</td>\n",
       "      <td>7.185</td>\n",
       "      <td>61.1</td>\n",
       "      <td>4.9671</td>\n",
       "      <td>2</td>\n",
       "      <td>242</td>\n",
       "      <td>17.8</td>\n",
       "      <td>392.83</td>\n",
       "      <td>4.03</td>\n",
       "      <td>34.7</td>\n",
       "    </tr>\n",
       "    <tr>\n",
       "      <th>3</th>\n",
       "      <td>0.03237</td>\n",
       "      <td>0.0</td>\n",
       "      <td>2.18</td>\n",
       "      <td>0</td>\n",
       "      <td>0.458</td>\n",
       "      <td>6.998</td>\n",
       "      <td>45.8</td>\n",
       "      <td>6.0622</td>\n",
       "      <td>3</td>\n",
       "      <td>222</td>\n",
       "      <td>18.7</td>\n",
       "      <td>394.63</td>\n",
       "      <td>2.94</td>\n",
       "      <td>33.4</td>\n",
       "    </tr>\n",
       "    <tr>\n",
       "      <th>4</th>\n",
       "      <td>0.06905</td>\n",
       "      <td>0.0</td>\n",
       "      <td>2.18</td>\n",
       "      <td>0</td>\n",
       "      <td>0.458</td>\n",
       "      <td>7.147</td>\n",
       "      <td>54.2</td>\n",
       "      <td>6.0622</td>\n",
       "      <td>3</td>\n",
       "      <td>222</td>\n",
       "      <td>18.7</td>\n",
       "      <td>396.90</td>\n",
       "      <td>5.33</td>\n",
       "      <td>36.2</td>\n",
       "    </tr>\n",
       "  </tbody>\n",
       "</table>\n",
       "</div>"
      ],
      "text/plain": [
       "      crim    zn  indus  chas    nox     rm   age     dis  rad  tax  ptratio   \n",
       "0  0.00632  18.0   2.31     0  0.538  6.575  65.2  4.0900    1  296     15.3  \\\n",
       "1  0.02731   0.0   7.07     0  0.469  6.421  78.9  4.9671    2  242     17.8   \n",
       "2  0.02729   0.0   7.07     0  0.469  7.185  61.1  4.9671    2  242     17.8   \n",
       "3  0.03237   0.0   2.18     0  0.458  6.998  45.8  6.0622    3  222     18.7   \n",
       "4  0.06905   0.0   2.18     0  0.458  7.147  54.2  6.0622    3  222     18.7   \n",
       "\n",
       "    black  lstat  medv  \n",
       "0  396.90   4.98  24.0  \n",
       "1  396.90   9.14  21.6  \n",
       "2  392.83   4.03  34.7  \n",
       "3  394.63   2.94  33.4  \n",
       "4  396.90   5.33  36.2  "
      ]
     },
     "execution_count": 130,
     "metadata": {},
     "output_type": "execute_result"
    }
   ],
   "source": [
    "df=pd.read_csv('boston.csv')\n",
    "df.head()"
   ]
  },
  {
   "cell_type": "code",
   "execution_count": 43,
   "id": "73dafb1b",
   "metadata": {},
   "outputs": [],
   "source": [
    "df=df[['lstat','medv']]"
   ]
  },
  {
   "cell_type": "code",
   "execution_count": 44,
   "id": "684fa530",
   "metadata": {},
   "outputs": [
    {
     "data": {
      "text/plain": [
       "<Axes: xlabel='medv', ylabel='lstat'>"
      ]
     },
     "execution_count": 44,
     "metadata": {},
     "output_type": "execute_result"
    },
    {
     "data": {
      "image/png": "[encoded data removed]",
      "text/plain": [
       "<Figure size 640x480 with 1 Axes>"
      ]
     },
     "metadata": {},
     "output_type": "display_data"
    }
   ],
   "source": [
    "sns.scatterplot(x=df['medv'],y=df['lstat'],data=df)"
   ]
  },
  {
   "cell_type": "code",
   "execution_count": 45,
   "id": "ce27dfcb",
   "metadata": {},
   "outputs": [],
   "source": [
    "X=df['lstat']\n",
    "y=df['medv']"
   ]
  },
  {
   "cell_type": "code",
   "execution_count": 71,
   "id": "476d1bd8",
   "metadata": {},
   "outputs": [],
   "source": [
    "from sklearn.model_selection import train_test_split\n",
    "X_train,X_test,y_train,y_test=train_test_split(X,y,test_size=0.25,random_state=42)"
   ]
  },
  {
   "cell_type": "code",
   "execution_count": 73,
   "id": "2044edc4",
   "metadata": {},
   "outputs": [],
   "source": [
    "X_train,X_test,y_train,y_test=pd.DataFrame(X_train),pd.DataFrame(X_test),pd.DataFrame(y_train),pd.DataFrame(y_test)"
   ]
  },
  {
   "cell_type": "code",
   "execution_count": 48,
   "id": "195bf606",
   "metadata": {},
   "outputs": [
    {
     "data": {
      "text/html": [
       "<style>#sk-container-id-3 {color: black;background-color: white;}#sk-container-id-3 pre{padding: 0;}#sk-container-id-3 div.sk-toggleable {background-color: white;}#sk-container-id-3 label.sk-toggleable__label {cursor: pointer;display: block;width: 100%;margin-bottom: 0;padding: 0.3em;box-sizing: border-box;text-align: center;}#sk-container-id-3 label.sk-toggleable__label-arrow:before {content: \"▸\";float: left;margin-right: 0.25em;color: #696969;}#sk-container-id-3 label.sk-toggleable__label-arrow:hover:before {color: black;}#sk-container-id-3 div.sk-estimator:hover label.sk-toggleable__label-arrow:before {color: black;}#sk-container-id-3 div.sk-toggleable__content {max-height: 0;max-width: 0;overflow: hidden;text-align: left;background-color: #f0f8ff;}#sk-container-id-3 div.sk-toggleable__content pre {margin: 0.2em;color: black;border-radius: 0.25em;background-color: #f0f8ff;}#sk-container-id-3 input.sk-toggleable__control:checked~div.sk-toggleable__content {max-height: 200px;max-width: 100%;overflow: auto;}#sk-container-id-3 input.sk-toggleable__control:checked~label.sk-toggleable__label-arrow:before {content: \"▾\";}#sk-container-id-3 div.sk-estimator input.sk-toggleable__control:checked~label.sk-toggleable__label {background-color: #d4ebff;}#sk-container-id-3 div.sk-label input.sk-toggleable__control:checked~label.sk-toggleable__label {background-color: #d4ebff;}#sk-container-id-3 input.sk-hidden--visually {border: 0;clip: rect(1px 1px 1px 1px);clip: rect(1px, 1px, 1px, 1px);height: 1px;margin: -1px;overflow: hidden;padding: 0;position: absolute;width: 1px;}#sk-container-id-3 div.sk-estimator {font-family: monospace;background-color: #f0f8ff;border: 1px dotted black;border-radius: 0.25em;box-sizing: border-box;margin-bottom: 0.5em;}#sk-container-id-3 div.sk-estimator:hover {background-color: #d4ebff;}#sk-container-id-3 div.sk-parallel-item::after {content: \"\";width: 100%;border-bottom: 1px solid gray;flex-grow: 1;}#sk-container-id-3 div.sk-label:hover label.sk-toggleable__label {background-color: #d4ebff;}#sk-container-id-3 div.sk-serial::before {content: \"\";position: absolute;border-left: 1px solid gray;box-sizing: border-box;top: 0;bottom: 0;left: 50%;z-index: 0;}#sk-container-id-3 div.sk-serial {display: flex;flex-direction: column;align-items: center;background-color: white;padding-right: 0.2em;padding-left: 0.2em;position: relative;}#sk-container-id-3 div.sk-item {position: relative;z-index: 1;}#sk-container-id-3 div.sk-parallel {display: flex;align-items: stretch;justify-content: center;background-color: white;position: relative;}#sk-container-id-3 div.sk-item::before, #sk-container-id-3 div.sk-parallel-item::before {content: \"\";position: absolute;border-left: 1px solid gray;box-sizing: border-box;top: 0;bottom: 0;left: 50%;z-index: -1;}#sk-container-id-3 div.sk-parallel-item {display: flex;flex-direction: column;z-index: 1;position: relative;background-color: white;}#sk-container-id-3 div.sk-parallel-item:first-child::after {align-self: flex-end;width: 50%;}#sk-container-id-3 div.sk-parallel-item:last-child::after {align-self: flex-start;width: 50%;}#sk-container-id-3 div.sk-parallel-item:only-child::after {width: 0;}#sk-container-id-3 div.sk-dashed-wrapped {border: 1px dashed gray;margin: 0 0.4em 0.5em 0.4em;box-sizing: border-box;padding-bottom: 0.4em;background-color: white;}#sk-container-id-3 div.sk-label label {font-family: monospace;font-weight: bold;display: inline-block;line-height: 1.2em;}#sk-container-id-3 div.sk-label-container {text-align: center;}#sk-container-id-3 div.sk-container {/* jupyter's `normalize.less` sets `[hidden] { display: none; }` but bootstrap.min.css set `[hidden] { display: none !important; }` so we also need the `!important` here to be able to override the default hidden behavior on the sphinx rendered scikit-learn.org. See: https://github.com/scikit-learn/scikit-learn/issues/21755 */display: inline-block !important;position: relative;}#sk-container-id-3 div.sk-text-repr-fallback {display: none;}</style><div id=\"sk-container-id-3\" class=\"sk-top-container\"><div class=\"sk-text-repr-fallback\"><pre>LinearRegression()</pre><b>In a Jupyter environment, please rerun this cell to show the HTML representation or trust the notebook. <br />On GitHub, the HTML representation is unable to render, please try loading this page with nbviewer.org.</b></div><div class=\"sk-container\" hidden><div class=\"sk-item\"><div class=\"sk-estimator sk-toggleable\"><input class=\"sk-toggleable__control sk-hidden--visually\" id=\"sk-estimator-id-3\" type=\"checkbox\" checked><label for=\"sk-estimator-id-3\" class=\"sk-toggleable__label sk-toggleable__label-arrow\">LinearRegression</label><div class=\"sk-toggleable__content\"><pre>LinearRegression()</pre></div></div></div></div></div>"
      ],
      "text/plain": [
       "LinearRegression()"
      ]
     },
     "execution_count": 48,
     "metadata": {},
     "output_type": "execute_result"
    }
   ],
   "source": [
    "from sklearn.linear_model import LinearRegression\n",
    "linear=LinearRegression()\n",
    "linear.fit(X_train,y_train)"
   ]
  },
  {
   "cell_type": "code",
   "execution_count": 49,
   "id": "0e42bdb2",
   "metadata": {},
   "outputs": [],
   "source": [
    "pred1=linear.predict(X_test)"
   ]
  },
  {
   "cell_type": "code",
   "execution_count": 50,
   "id": "7395733a",
   "metadata": {},
   "outputs": [],
   "source": [
    "from sklearn.metrics import r2_score,mean_squared_error,mean_absolute_error"
   ]
  },
  {
   "cell_type": "code",
   "execution_count": 51,
   "id": "26fa10f7",
   "metadata": {},
   "outputs": [
    {
     "data": {
      "text/plain": [
       "35.50838282425953"
      ]
     },
     "execution_count": 51,
     "metadata": {},
     "output_type": "execute_result"
    }
   ],
   "source": [
    "mean_squared_error(y_test,pred1)"
   ]
  },
  {
   "cell_type": "code",
   "execution_count": 84,
   "id": "834571cf",
   "metadata": {},
   "outputs": [
    {
     "data": {
      "text/plain": [
       "5.958891073367555"
      ]
     },
     "execution_count": 84,
     "metadata": {},
     "output_type": "execute_result"
    }
   ],
   "source": [
    "np.sqrt(mean_squared_error(y_test,pred1))"
   ]
  },
  {
   "cell_type": "code",
   "execution_count": 52,
   "id": "a59f8a12",
   "metadata": {},
   "outputs": [
    {
     "data": {
      "text/plain": [
       "4.5560507624182005"
      ]
     },
     "execution_count": 52,
     "metadata": {},
     "output_type": "execute_result"
    }
   ],
   "source": [
    "mean_absolute_error(y_test,pred1)"
   ]
  },
  {
   "cell_type": "code",
   "execution_count": 53,
   "id": "c14ef629",
   "metadata": {},
   "outputs": [
    {
     "data": {
      "text/plain": [
       "0.4929340114233606"
      ]
     },
     "execution_count": 53,
     "metadata": {},
     "output_type": "execute_result"
    }
   ],
   "source": [
    "r2_score(y_test,pred1)"
   ]
  },
  {
   "cell_type": "code",
   "execution_count": 103,
   "id": "b23f87aa",
   "metadata": {},
   "outputs": [],
   "source": [
    "b=linear.intercept_\n",
    "m=linear.coef_"
   ]
  },
  {
   "cell_type": "code",
   "execution_count": 107,
   "id": "ede95abc",
   "metadata": {
    "scrolled": true
   },
   "outputs": [
    {
     "data": {
      "text/plain": [
       "array([35.18640571])"
      ]
     },
     "execution_count": 107,
     "metadata": {},
     "output_type": "execute_result"
    }
   ],
   "source": [
    "b"
   ]
  },
  {
   "cell_type": "code",
   "execution_count": 108,
   "id": "c66d8520",
   "metadata": {},
   "outputs": [
    {
     "data": {
      "text/plain": [
       "array([[-0.98123532]])"
      ]
     },
     "execution_count": 108,
     "metadata": {},
     "output_type": "execute_result"
    }
   ],
   "source": [
    "m"
   ]
  },
  {
   "cell_type": "code",
   "execution_count": 120,
   "id": "91a3cb72",
   "metadata": {},
   "outputs": [
    {
     "data": {
      "text/plain": [
       "[<matplotlib.lines.Line2D at 0x21166333610>]"
      ]
     },
     "execution_count": 120,
     "metadata": {},
     "output_type": "execute_result"
    },
    {
     "data": {
      "image/png": "[encoded data removed]",
      "text/plain": [
       "<Figure size 640x480 with 1 Axes>"
      ]
     },
     "metadata": {},
     "output_type": "display_data"
    }
   ],
   "source": [
    "x_axis=np.arange(2,35,0.1)\n",
    "response1=m[0][0]*x_axis+b\n",
    "plt.scatter(df['lstat'],df['medv'],color='b')\n",
    "plt.plot(x_axis,response1,color='r')"
   ]
  },
  {
   "cell_type": "markdown",
   "id": "5ecf5d59",
   "metadata": {},
   "source": [
    "#### This model has a low r2 score when we used linear regression"
   ]
  },
  {
   "cell_type": "markdown",
   "id": "081a1af0",
   "metadata": {},
   "source": [
    "#### Implementing polynomial regression"
   ]
  },
  {
   "cell_type": "code",
   "execution_count": 74,
   "id": "ddc52ee6",
   "metadata": {},
   "outputs": [
    {
     "data": {
      "text/plain": [
       "array([[  1.    ,   4.82  ,  23.2324],\n",
       "       [  1.    ,  15.02  , 225.6004],\n",
       "       [  1.    ,   3.76  ,  14.1376],\n",
       "       ...,\n",
       "       [  1.    ,   5.99  ,  35.8801],\n",
       "       [  1.    ,  23.27  , 541.4929],\n",
       "       [  1.    ,  10.63  , 112.9969]])"
      ]
     },
     "execution_count": 74,
     "metadata": {},
     "output_type": "execute_result"
    }
   ],
   "source": [
    "from sklearn.preprocessing import PolynomialFeatures\n",
    "poly=PolynomialFeatures(degree=2)\n",
    "X_train_poly=poly.fit_transform(X_train)\n",
    "X_train_poly"
   ]
  },
  {
   "cell_type": "code",
   "execution_count": 75,
   "id": "e8ca7f18",
   "metadata": {},
   "outputs": [
    {
     "data": {
      "text/html": [
       "<div>\n",
       "<style scoped>\n",
       "    .dataframe tbody tr th:only-of-type {\n",
       "        vertical-align: middle;\n",
       "    }\n",
       "\n",
       "    .dataframe tbody tr th {\n",
       "        vertical-align: top;\n",
       "    }\n",
       "\n",
       "    .dataframe thead th {\n",
       "        text-align: right;\n",
       "    }\n",
       "</style>\n",
       "<table border=\"1\" class=\"dataframe\">\n",
       "  <thead>\n",
       "    <tr style=\"text-align: right;\">\n",
       "      <th></th>\n",
       "      <th>lstat</th>\n",
       "    </tr>\n",
       "  </thead>\n",
       "  <tbody>\n",
       "    <tr>\n",
       "      <th>182</th>\n",
       "      <td>4.82</td>\n",
       "    </tr>\n",
       "    <tr>\n",
       "      <th>155</th>\n",
       "      <td>15.02</td>\n",
       "    </tr>\n",
       "    <tr>\n",
       "      <th>280</th>\n",
       "      <td>3.76</td>\n",
       "    </tr>\n",
       "    <tr>\n",
       "      <th>126</th>\n",
       "      <td>27.26</td>\n",
       "    </tr>\n",
       "    <tr>\n",
       "      <th>329</th>\n",
       "      <td>7.34</td>\n",
       "    </tr>\n",
       "    <tr>\n",
       "      <th>...</th>\n",
       "      <td>...</td>\n",
       "    </tr>\n",
       "    <tr>\n",
       "      <th>106</th>\n",
       "      <td>18.66</td>\n",
       "    </tr>\n",
       "    <tr>\n",
       "      <th>270</th>\n",
       "      <td>13.00</td>\n",
       "    </tr>\n",
       "    <tr>\n",
       "      <th>348</th>\n",
       "      <td>5.99</td>\n",
       "    </tr>\n",
       "    <tr>\n",
       "      <th>435</th>\n",
       "      <td>23.27</td>\n",
       "    </tr>\n",
       "    <tr>\n",
       "      <th>102</th>\n",
       "      <td>10.63</td>\n",
       "    </tr>\n",
       "  </tbody>\n",
       "</table>\n",
       "<p>379 rows × 1 columns</p>\n",
       "</div>"
      ],
      "text/plain": [
       "     lstat\n",
       "182   4.82\n",
       "155  15.02\n",
       "280   3.76\n",
       "126  27.26\n",
       "329   7.34\n",
       "..     ...\n",
       "106  18.66\n",
       "270  13.00\n",
       "348   5.99\n",
       "435  23.27\n",
       "102  10.63\n",
       "\n",
       "[379 rows x 1 columns]"
      ]
     },
     "execution_count": 75,
     "metadata": {},
     "output_type": "execute_result"
    }
   ],
   "source": [
    "X_train"
   ]
  },
  {
   "cell_type": "code",
   "execution_count": 76,
   "id": "1577feca",
   "metadata": {},
   "outputs": [
    {
     "data": {
      "text/html": [
       "<div>\n",
       "<style scoped>\n",
       "    .dataframe tbody tr th:only-of-type {\n",
       "        vertical-align: middle;\n",
       "    }\n",
       "\n",
       "    .dataframe tbody tr th {\n",
       "        vertical-align: top;\n",
       "    }\n",
       "\n",
       "    .dataframe thead th {\n",
       "        text-align: right;\n",
       "    }\n",
       "</style>\n",
       "<table border=\"1\" class=\"dataframe\">\n",
       "  <thead>\n",
       "    <tr style=\"text-align: right;\">\n",
       "      <th></th>\n",
       "      <th>lstat</th>\n",
       "    </tr>\n",
       "  </thead>\n",
       "  <tbody>\n",
       "    <tr>\n",
       "      <th>173</th>\n",
       "      <td>9.04</td>\n",
       "    </tr>\n",
       "    <tr>\n",
       "      <th>274</th>\n",
       "      <td>3.53</td>\n",
       "    </tr>\n",
       "    <tr>\n",
       "      <th>491</th>\n",
       "      <td>18.07</td>\n",
       "    </tr>\n",
       "    <tr>\n",
       "      <th>72</th>\n",
       "      <td>5.52</td>\n",
       "    </tr>\n",
       "    <tr>\n",
       "      <th>452</th>\n",
       "      <td>17.27</td>\n",
       "    </tr>\n",
       "    <tr>\n",
       "      <th>...</th>\n",
       "      <td>...</td>\n",
       "    </tr>\n",
       "    <tr>\n",
       "      <th>418</th>\n",
       "      <td>20.62</td>\n",
       "    </tr>\n",
       "    <tr>\n",
       "      <th>117</th>\n",
       "      <td>10.30</td>\n",
       "    </tr>\n",
       "    <tr>\n",
       "      <th>42</th>\n",
       "      <td>5.81</td>\n",
       "    </tr>\n",
       "    <tr>\n",
       "      <th>322</th>\n",
       "      <td>7.70</td>\n",
       "    </tr>\n",
       "    <tr>\n",
       "      <th>347</th>\n",
       "      <td>6.36</td>\n",
       "    </tr>\n",
       "  </tbody>\n",
       "</table>\n",
       "<p>127 rows × 1 columns</p>\n",
       "</div>"
      ],
      "text/plain": [
       "     lstat\n",
       "173   9.04\n",
       "274   3.53\n",
       "491  18.07\n",
       "72    5.52\n",
       "452  17.27\n",
       "..     ...\n",
       "418  20.62\n",
       "117  10.30\n",
       "42    5.81\n",
       "322   7.70\n",
       "347   6.36\n",
       "\n",
       "[127 rows x 1 columns]"
      ]
     },
     "execution_count": 76,
     "metadata": {},
     "output_type": "execute_result"
    }
   ],
   "source": [
    "X_test"
   ]
  },
  {
   "cell_type": "code",
   "execution_count": 77,
   "id": "24d81f53",
   "metadata": {},
   "outputs": [
    {
     "data": {
      "text/plain": [
       "array([[1.0000000e+00, 9.0400000e+00, 8.1721600e+01],\n",
       "       [1.0000000e+00, 3.5300000e+00, 1.2460900e+01],\n",
       "       [1.0000000e+00, 1.8070000e+01, 3.2652490e+02],\n",
       "       [1.0000000e+00, 5.5200000e+00, 3.0470400e+01],\n",
       "       [1.0000000e+00, 1.7270000e+01, 2.9825290e+02],\n",
       "       [1.0000000e+00, 1.1970000e+01, 1.4328090e+02],\n",
       "       [1.0000000e+00, 1.8330000e+01, 3.3598890e+02],\n",
       "       [1.0000000e+00, 2.4160000e+01, 5.8370560e+02],\n",
       "       [1.0000000e+00, 1.2870000e+01, 1.6563690e+02],\n",
       "       [1.0000000e+00, 1.4330000e+01, 2.0534890e+02],\n",
       "       [1.0000000e+00, 1.7920000e+01, 3.2112640e+02],\n",
       "       [1.0000000e+00, 1.7100000e+01, 2.9241000e+02],\n",
       "       [1.0000000e+00, 3.6980000e+01, 1.3675204e+03],\n",
       "       [1.0000000e+00, 1.2340000e+01, 1.5227560e+02],\n",
       "       [1.0000000e+00, 1.1740000e+01, 1.3782760e+02],\n",
       "       [1.0000000e+00, 1.1660000e+01, 1.3595560e+02],\n",
       "       [1.0000000e+00, 1.7580000e+01, 3.0905640e+02],\n",
       "       [1.0000000e+00, 3.0620000e+01, 9.3758440e+02],\n",
       "       [1.0000000e+00, 2.9700000e+00, 8.8209000e+00],\n",
       "       [1.0000000e+00, 1.8130000e+01, 3.2869690e+02],\n",
       "       [1.0000000e+00, 6.5900000e+00, 4.3428100e+01],\n",
       "       [1.0000000e+00, 7.1900000e+00, 5.1696100e+01],\n",
       "       [1.0000000e+00, 2.2600000e+01, 5.1076000e+02],\n",
       "       [1.0000000e+00, 9.6700000e+00, 9.3508900e+01],\n",
       "       [1.0000000e+00, 1.5700000e+01, 2.4649000e+02],\n",
       "       [1.0000000e+00, 1.8140000e+01, 3.2905960e+02],\n",
       "       [1.0000000e+00, 9.1000000e+00, 8.2810000e+01],\n",
       "       [1.0000000e+00, 1.8710000e+01, 3.5006410e+02],\n",
       "       [1.0000000e+00, 1.7270000e+01, 2.9825290e+02],\n",
       "       [1.0000000e+00, 1.4100000e+01, 1.9881000e+02],\n",
       "       [1.0000000e+00, 1.4690000e+01, 2.1579610e+02],\n",
       "       [1.0000000e+00, 7.2000000e+00, 5.1840000e+01],\n",
       "       [1.0000000e+00, 1.3440000e+01, 1.8063360e+02],\n",
       "       [1.0000000e+00, 1.0190000e+01, 1.0383610e+02],\n",
       "       [1.0000000e+00, 2.1320000e+01, 4.5454240e+02],\n",
       "       [1.0000000e+00, 1.5790000e+01, 2.4932410e+02],\n",
       "       [1.0000000e+00, 4.0300000e+00, 1.6240900e+01],\n",
       "       [1.0000000e+00, 9.8000000e+00, 9.6040000e+01],\n",
       "       [1.0000000e+00, 1.4660000e+01, 2.1491560e+02],\n",
       "       [1.0000000e+00, 7.5400000e+00, 5.6851600e+01],\n",
       "       [1.0000000e+00, 2.1140000e+01, 4.4689960e+02],\n",
       "       [1.0000000e+00, 7.5300000e+00, 5.6700900e+01],\n",
       "       [1.0000000e+00, 2.8800000e+00, 8.2944000e+00],\n",
       "       [1.0000000e+00, 1.3090000e+01, 1.7134810e+02],\n",
       "       [1.0000000e+00, 8.8100000e+00, 7.7616100e+01],\n",
       "       [1.0000000e+00, 1.7110000e+01, 2.9275210e+02],\n",
       "       [1.0000000e+00, 1.8350000e+01, 3.3672250e+02],\n",
       "       [1.0000000e+00, 6.7200000e+00, 4.5158400e+01],\n",
       "       [1.0000000e+00, 1.6290000e+01, 2.6536410e+02],\n",
       "       [1.0000000e+00, 4.9800000e+00, 2.4800400e+01],\n",
       "       [1.0000000e+00, 1.3270000e+01, 1.7609290e+02],\n",
       "       [1.0000000e+00, 4.5900000e+00, 2.1068100e+01],\n",
       "       [1.0000000e+00, 1.8720000e+01, 3.5043840e+02],\n",
       "       [1.0000000e+00, 7.6700000e+00, 5.8828900e+01],\n",
       "       [1.0000000e+00, 3.1600000e+00, 9.9856000e+00],\n",
       "       [1.0000000e+00, 1.0580000e+01, 1.1193640e+02],\n",
       "       [1.0000000e+00, 1.6590000e+01, 2.7522810e+02],\n",
       "       [1.0000000e+00, 3.3300000e+00, 1.1088900e+01],\n",
       "       [1.0000000e+00, 9.6200000e+00, 9.2544400e+01],\n",
       "       [1.0000000e+00, 1.8460000e+01, 3.4077160e+02],\n",
       "       [1.0000000e+00, 9.5000000e+00, 9.0250000e+01],\n",
       "       [1.0000000e+00, 4.8100000e+00, 2.3136100e+01],\n",
       "       [1.0000000e+00, 3.7600000e+00, 1.4137600e+01],\n",
       "       [1.0000000e+00, 1.1690000e+01, 1.3665610e+02],\n",
       "       [1.0000000e+00, 5.4900000e+00, 3.0140100e+01],\n",
       "       [1.0000000e+00, 2.3090000e+01, 5.3314810e+02],\n",
       "       [1.0000000e+00, 1.7120000e+01, 2.9309440e+02],\n",
       "       [1.0000000e+00, 6.7200000e+00, 4.5158400e+01],\n",
       "       [1.0000000e+00, 4.3200000e+00, 1.8662400e+01],\n",
       "       [1.0000000e+00, 1.9010000e+01, 3.6138010e+02],\n",
       "       [1.0000000e+00, 1.4150000e+01, 2.0022250e+02],\n",
       "       [1.0000000e+00, 7.7400000e+00, 5.9907600e+01],\n",
       "       [1.0000000e+00, 2.3790000e+01, 5.6596410e+02],\n",
       "       [1.0000000e+00, 5.5700000e+00, 3.1024900e+01],\n",
       "       [1.0000000e+00, 1.0270000e+01, 1.0547290e+02],\n",
       "       [1.0000000e+00, 3.0590000e+01, 9.3574810e+02],\n",
       "       [1.0000000e+00, 1.2330000e+01, 1.5202890e+02],\n",
       "       [1.0000000e+00, 3.8100000e+00, 1.4516100e+01],\n",
       "       [1.0000000e+00, 2.1080000e+01, 4.4436640e+02],\n",
       "       [1.0000000e+00, 2.3970000e+01, 5.7456090e+02],\n",
       "       [1.0000000e+00, 8.7900000e+00, 7.7264100e+01],\n",
       "       [1.0000000e+00, 2.6400000e+01, 6.9696000e+02],\n",
       "       [1.0000000e+00, 9.2500000e+00, 8.5562500e+01],\n",
       "       [1.0000000e+00, 2.5680000e+01, 6.5946240e+02],\n",
       "       [1.0000000e+00, 1.1720000e+01, 1.3735840e+02],\n",
       "       [1.0000000e+00, 8.0500000e+00, 6.4802500e+01],\n",
       "       [1.0000000e+00, 1.6420000e+01, 2.6961640e+02],\n",
       "       [1.0000000e+00, 6.1200000e+00, 3.7454400e+01],\n",
       "       [1.0000000e+00, 6.2100000e+00, 3.8564100e+01],\n",
       "       [1.0000000e+00, 1.4590000e+01, 2.1286810e+02],\n",
       "       [1.0000000e+00, 1.0110000e+01, 1.0221210e+02],\n",
       "       [1.0000000e+00, 2.6640000e+01, 7.0968960e+02],\n",
       "       [1.0000000e+00, 1.2260000e+01, 1.5030760e+02],\n",
       "       [1.0000000e+00, 1.2670000e+01, 1.6052890e+02],\n",
       "       [1.0000000e+00, 7.1200000e+00, 5.0694400e+01],\n",
       "       [1.0000000e+00, 1.1120000e+01, 1.2365440e+02],\n",
       "       [1.0000000e+00, 9.5300000e+00, 9.0820900e+01],\n",
       "       [1.0000000e+00, 3.4370000e+01, 1.1812969e+03],\n",
       "       [1.0000000e+00, 1.8050000e+01, 3.2580250e+02],\n",
       "       [1.0000000e+00, 2.1220000e+01, 4.5028840e+02],\n",
       "       [1.0000000e+00, 1.2860000e+01, 1.6537960e+02],\n",
       "       [1.0000000e+00, 8.9400000e+00, 7.9923600e+01],\n",
       "       [1.0000000e+00, 2.4910000e+01, 6.2050810e+02],\n",
       "       [1.0000000e+00, 8.4700000e+00, 7.1740900e+01],\n",
       "       [1.0000000e+00, 7.8300000e+00, 6.1308900e+01],\n",
       "       [1.0000000e+00, 2.3290000e+01, 5.4242410e+02],\n",
       "       [1.0000000e+00, 1.1280000e+01, 1.2723840e+02],\n",
       "       [1.0000000e+00, 5.0800000e+00, 2.5806400e+01],\n",
       "       [1.0000000e+00, 8.0100000e+00, 6.4160100e+01],\n",
       "       [1.0000000e+00, 5.7700000e+00, 3.3292900e+01],\n",
       "       [1.0000000e+00, 2.6450000e+01, 6.9960250e+02],\n",
       "       [1.0000000e+00, 1.9780000e+01, 3.9124840e+02],\n",
       "       [1.0000000e+00, 6.7500000e+00, 4.5562500e+01],\n",
       "       [1.0000000e+00, 9.4500000e+00, 8.9302500e+01],\n",
       "       [1.0000000e+00, 6.3600000e+00, 4.0449600e+01],\n",
       "       [1.0000000e+00, 1.5170000e+01, 2.3012890e+02],\n",
       "       [1.0000000e+00, 7.5600000e+00, 5.7153600e+01],\n",
       "       [1.0000000e+00, 1.6510000e+01, 2.7258010e+02],\n",
       "       [1.0000000e+00, 1.2010000e+01, 1.4424010e+02],\n",
       "       [1.0000000e+00, 6.3600000e+00, 4.0449600e+01],\n",
       "       [1.0000000e+00, 1.2500000e+01, 1.5625000e+02],\n",
       "       [1.0000000e+00, 5.9000000e+00, 3.4810000e+01],\n",
       "       [1.0000000e+00, 2.0620000e+01, 4.2518440e+02],\n",
       "       [1.0000000e+00, 1.0300000e+01, 1.0609000e+02],\n",
       "       [1.0000000e+00, 5.8100000e+00, 3.3756100e+01],\n",
       "       [1.0000000e+00, 7.7000000e+00, 5.9290000e+01],\n",
       "       [1.0000000e+00, 6.3600000e+00, 4.0449600e+01]])"
      ]
     },
     "execution_count": 77,
     "metadata": {},
     "output_type": "execute_result"
    }
   ],
   "source": [
    "X_test_poly=poly.fit_transform(X_test)\n",
    "X_test_poly"
   ]
  },
  {
   "cell_type": "code",
   "execution_count": 78,
   "id": "24f4393b",
   "metadata": {},
   "outputs": [
    {
     "data": {
      "text/html": [
       "<style>#sk-container-id-5 {color: black;background-color: white;}#sk-container-id-5 pre{padding: 0;}#sk-container-id-5 div.sk-toggleable {background-color: white;}#sk-container-id-5 label.sk-toggleable__label {cursor: pointer;display: block;width: 100%;margin-bottom: 0;padding: 0.3em;box-sizing: border-box;text-align: center;}#sk-container-id-5 label.sk-toggleable__label-arrow:before {content: \"▸\";float: left;margin-right: 0.25em;color: #696969;}#sk-container-id-5 label.sk-toggleable__label-arrow:hover:before {color: black;}#sk-container-id-5 div.sk-estimator:hover label.sk-toggleable__label-arrow:before {color: black;}#sk-container-id-5 div.sk-toggleable__content {max-height: 0;max-width: 0;overflow: hidden;text-align: left;background-color: #f0f8ff;}#sk-container-id-5 div.sk-toggleable__content pre {margin: 0.2em;color: black;border-radius: 0.25em;background-color: #f0f8ff;}#sk-container-id-5 input.sk-toggleable__control:checked~div.sk-toggleable__content {max-height: 200px;max-width: 100%;overflow: auto;}#sk-container-id-5 input.sk-toggleable__control:checked~label.sk-toggleable__label-arrow:before {content: \"▾\";}#sk-container-id-5 div.sk-estimator input.sk-toggleable__control:checked~label.sk-toggleable__label {background-color: #d4ebff;}#sk-container-id-5 div.sk-label input.sk-toggleable__control:checked~label.sk-toggleable__label {background-color: #d4ebff;}#sk-container-id-5 input.sk-hidden--visually {border: 0;clip: rect(1px 1px 1px 1px);clip: rect(1px, 1px, 1px, 1px);height: 1px;margin: -1px;overflow: hidden;padding: 0;position: absolute;width: 1px;}#sk-container-id-5 div.sk-estimator {font-family: monospace;background-color: #f0f8ff;border: 1px dotted black;border-radius: 0.25em;box-sizing: border-box;margin-bottom: 0.5em;}#sk-container-id-5 div.sk-estimator:hover {background-color: #d4ebff;}#sk-container-id-5 div.sk-parallel-item::after {content: \"\";width: 100%;border-bottom: 1px solid gray;flex-grow: 1;}#sk-container-id-5 div.sk-label:hover label.sk-toggleable__label {background-color: #d4ebff;}#sk-container-id-5 div.sk-serial::before {content: \"\";position: absolute;border-left: 1px solid gray;box-sizing: border-box;top: 0;bottom: 0;left: 50%;z-index: 0;}#sk-container-id-5 div.sk-serial {display: flex;flex-direction: column;align-items: center;background-color: white;padding-right: 0.2em;padding-left: 0.2em;position: relative;}#sk-container-id-5 div.sk-item {position: relative;z-index: 1;}#sk-container-id-5 div.sk-parallel {display: flex;align-items: stretch;justify-content: center;background-color: white;position: relative;}#sk-container-id-5 div.sk-item::before, #sk-container-id-5 div.sk-parallel-item::before {content: \"\";position: absolute;border-left: 1px solid gray;box-sizing: border-box;top: 0;bottom: 0;left: 50%;z-index: -1;}#sk-container-id-5 div.sk-parallel-item {display: flex;flex-direction: column;z-index: 1;position: relative;background-color: white;}#sk-container-id-5 div.sk-parallel-item:first-child::after {align-self: flex-end;width: 50%;}#sk-container-id-5 div.sk-parallel-item:last-child::after {align-self: flex-start;width: 50%;}#sk-container-id-5 div.sk-parallel-item:only-child::after {width: 0;}#sk-container-id-5 div.sk-dashed-wrapped {border: 1px dashed gray;margin: 0 0.4em 0.5em 0.4em;box-sizing: border-box;padding-bottom: 0.4em;background-color: white;}#sk-container-id-5 div.sk-label label {font-family: monospace;font-weight: bold;display: inline-block;line-height: 1.2em;}#sk-container-id-5 div.sk-label-container {text-align: center;}#sk-container-id-5 div.sk-container {/* jupyter's `normalize.less` sets `[hidden] { display: none; }` but bootstrap.min.css set `[hidden] { display: none !important; }` so we also need the `!important` here to be able to override the default hidden behavior on the sphinx rendered scikit-learn.org. See: https://github.com/scikit-learn/scikit-learn/issues/21755 */display: inline-block !important;position: relative;}#sk-container-id-5 div.sk-text-repr-fallback {display: none;}</style><div id=\"sk-container-id-5\" class=\"sk-top-container\"><div class=\"sk-text-repr-fallback\"><pre>LinearRegression()</pre><b>In a Jupyter environment, please rerun this cell to show the HTML representation or trust the notebook. <br />On GitHub, the HTML representation is unable to render, please try loading this page with nbviewer.org.</b></div><div class=\"sk-container\" hidden><div class=\"sk-item\"><div class=\"sk-estimator sk-toggleable\"><input class=\"sk-toggleable__control sk-hidden--visually\" id=\"sk-estimator-id-5\" type=\"checkbox\" checked><label for=\"sk-estimator-id-5\" class=\"sk-toggleable__label sk-toggleable__label-arrow\">LinearRegression</label><div class=\"sk-toggleable__content\"><pre>LinearRegression()</pre></div></div></div></div></div>"
      ],
      "text/plain": [
       "LinearRegression()"
      ]
     },
     "execution_count": 78,
     "metadata": {},
     "output_type": "execute_result"
    }
   ],
   "source": [
    "poly_model=LinearRegression()\n",
    "poly_model.fit(X_train_poly,y_train)"
   ]
  },
  {
   "cell_type": "code",
   "execution_count": 79,
   "id": "991939e7",
   "metadata": {},
   "outputs": [
    {
     "data": {
      "text/plain": [
       "array([[ 0.        , -2.46332438,  0.0468934 ]])"
      ]
     },
     "execution_count": 79,
     "metadata": {},
     "output_type": "execute_result"
    }
   ],
   "source": [
    "poly_model.coef_"
   ]
  },
  {
   "cell_type": "code",
   "execution_count": 80,
   "id": "75dd9605",
   "metadata": {},
   "outputs": [],
   "source": [
    "pred_poly=poly_model.predict(X_test_poly)"
   ]
  },
  {
   "cell_type": "code",
   "execution_count": 81,
   "id": "79b4ac65",
   "metadata": {},
   "outputs": [
    {
     "data": {
      "text/plain": [
       "0.5555828390062716"
      ]
     },
     "execution_count": 81,
     "metadata": {},
     "output_type": "execute_result"
    }
   ],
   "source": [
    "r2_score(y_test,pred_poly)"
   ]
  },
  {
   "cell_type": "code",
   "execution_count": 83,
   "id": "8eafabb9",
   "metadata": {},
   "outputs": [
    {
     "data": {
      "text/plain": [
       "5.578643596371643"
      ]
     },
     "execution_count": 83,
     "metadata": {},
     "output_type": "execute_result"
    }
   ],
   "source": [
    "np.sqrt(mean_squared_error(y_test,pred_poly))"
   ]
  },
  {
   "cell_type": "code",
   "execution_count": 85,
   "id": "aad0098c",
   "metadata": {},
   "outputs": [
    {
     "data": {
      "text/plain": [
       "4.1827653936822955"
      ]
     },
     "execution_count": 85,
     "metadata": {},
     "output_type": "execute_result"
    }
   ],
   "source": [
    "mean_absolute_error(y_test,pred_poly)"
   ]
  },
  {
   "cell_type": "code",
   "execution_count": 91,
   "id": "7891cd35",
   "metadata": {},
   "outputs": [],
   "source": [
    "coefficient=poly_model.coef_\n",
    "intercept=poly_model.intercept_"
   ]
  },
  {
   "cell_type": "code",
   "execution_count": 95,
   "id": "0e33e5b0",
   "metadata": {},
   "outputs": [
    {
     "data": {
      "text/plain": [
       "array([[ 0.        , -2.46332438,  0.0468934 ]])"
      ]
     },
     "execution_count": 95,
     "metadata": {},
     "output_type": "execute_result"
    }
   ],
   "source": [
    "coefficient"
   ]
  },
  {
   "cell_type": "code",
   "execution_count": 100,
   "id": "e74b44b9",
   "metadata": {},
   "outputs": [
    {
     "data": {
      "text/plain": [
       "array([ 0.        , -2.46332438,  0.0468934 ])"
      ]
     },
     "execution_count": 100,
     "metadata": {},
     "output_type": "execute_result"
    }
   ],
   "source": [
    "coefficient[0]"
   ]
  },
  {
   "cell_type": "code",
   "execution_count": 116,
   "id": "778b31f0",
   "metadata": {},
   "outputs": [
    {
     "data": {
      "text/plain": [
       "[<matplotlib.lines.Line2D at 0x21165c17eb0>]"
      ]
     },
     "execution_count": 116,
     "metadata": {},
     "output_type": "execute_result"
    },
    {
     "data": {
      "image/png": "[encoded data removed]",
      "text/plain": [
       "<Figure size 640x480 with 1 Axes>"
      ]
     },
     "metadata": {},
     "output_type": "display_data"
    }
   ],
   "source": [
    "x_axis=np.arange(2,35,0.1)\n",
    "response=intercept+(coefficient[0][1]*x_axis)+(coefficient[0][2]*(x_axis**2))\n",
    "plt.scatter(df['lstat'],df['medv'],color='b')\n",
    "plt.plot(x_axis,response,color='r')"
   ]
  },
  {
   "cell_type": "code",
   "execution_count": 127,
   "id": "7c9b6fba",
   "metadata": {},
   "outputs": [
    {
     "data": {
      "text/html": [
       "<style>#sk-container-id-7 {color: black;background-color: white;}#sk-container-id-7 pre{padding: 0;}#sk-container-id-7 div.sk-toggleable {background-color: white;}#sk-container-id-7 label.sk-toggleable__label {cursor: pointer;display: block;width: 100%;margin-bottom: 0;padding: 0.3em;box-sizing: border-box;text-align: center;}#sk-container-id-7 label.sk-toggleable__label-arrow:before {content: \"▸\";float: left;margin-right: 0.25em;color: #696969;}#sk-container-id-7 label.sk-toggleable__label-arrow:hover:before {color: black;}#sk-container-id-7 div.sk-estimator:hover label.sk-toggleable__label-arrow:before {color: black;}#sk-container-id-7 div.sk-toggleable__content {max-height: 0;max-width: 0;overflow: hidden;text-align: left;background-color: #f0f8ff;}#sk-container-id-7 div.sk-toggleable__content pre {margin: 0.2em;color: black;border-radius: 0.25em;background-color: #f0f8ff;}#sk-container-id-7 input.sk-toggleable__control:checked~div.sk-toggleable__content {max-height: 200px;max-width: 100%;overflow: auto;}#sk-container-id-7 input.sk-toggleable__control:checked~label.sk-toggleable__label-arrow:before {content: \"▾\";}#sk-container-id-7 div.sk-estimator input.sk-toggleable__control:checked~label.sk-toggleable__label {background-color: #d4ebff;}#sk-container-id-7 div.sk-label input.sk-toggleable__control:checked~label.sk-toggleable__label {background-color: #d4ebff;}#sk-container-id-7 input.sk-hidden--visually {border: 0;clip: rect(1px 1px 1px 1px);clip: rect(1px, 1px, 1px, 1px);height: 1px;margin: -1px;overflow: hidden;padding: 0;position: absolute;width: 1px;}#sk-container-id-7 div.sk-estimator {font-family: monospace;background-color: #f0f8ff;border: 1px dotted black;border-radius: 0.25em;box-sizing: border-box;margin-bottom: 0.5em;}#sk-container-id-7 div.sk-estimator:hover {background-color: #d4ebff;}#sk-container-id-7 div.sk-parallel-item::after {content: \"\";width: 100%;border-bottom: 1px solid gray;flex-grow: 1;}#sk-container-id-7 div.sk-label:hover label.sk-toggleable__label {background-color: #d4ebff;}#sk-container-id-7 div.sk-serial::before {content: \"\";position: absolute;border-left: 1px solid gray;box-sizing: border-box;top: 0;bottom: 0;left: 50%;z-index: 0;}#sk-container-id-7 div.sk-serial {display: flex;flex-direction: column;align-items: center;background-color: white;padding-right: 0.2em;padding-left: 0.2em;position: relative;}#sk-container-id-7 div.sk-item {position: relative;z-index: 1;}#sk-container-id-7 div.sk-parallel {display: flex;align-items: stretch;justify-content: center;background-color: white;position: relative;}#sk-container-id-7 div.sk-item::before, #sk-container-id-7 div.sk-parallel-item::before {content: \"\";position: absolute;border-left: 1px solid gray;box-sizing: border-box;top: 0;bottom: 0;left: 50%;z-index: -1;}#sk-container-id-7 div.sk-parallel-item {display: flex;flex-direction: column;z-index: 1;position: relative;background-color: white;}#sk-container-id-7 div.sk-parallel-item:first-child::after {align-self: flex-end;width: 50%;}#sk-container-id-7 div.sk-parallel-item:last-child::after {align-self: flex-start;width: 50%;}#sk-container-id-7 div.sk-parallel-item:only-child::after {width: 0;}#sk-container-id-7 div.sk-dashed-wrapped {border: 1px dashed gray;margin: 0 0.4em 0.5em 0.4em;box-sizing: border-box;padding-bottom: 0.4em;background-color: white;}#sk-container-id-7 div.sk-label label {font-family: monospace;font-weight: bold;display: inline-block;line-height: 1.2em;}#sk-container-id-7 div.sk-label-container {text-align: center;}#sk-container-id-7 div.sk-container {/* jupyter's `normalize.less` sets `[hidden] { display: none; }` but bootstrap.min.css set `[hidden] { display: none !important; }` so we also need the `!important` here to be able to override the default hidden behavior on the sphinx rendered scikit-learn.org. See: https://github.com/scikit-learn/scikit-learn/issues/21755 */display: inline-block !important;position: relative;}#sk-container-id-7 div.sk-text-repr-fallback {display: none;}</style><div id=\"sk-container-id-7\" class=\"sk-top-container\"><div class=\"sk-text-repr-fallback\"><pre>LinearRegression()</pre><b>In a Jupyter environment, please rerun this cell to show the HTML representation or trust the notebook. <br />On GitHub, the HTML representation is unable to render, please try loading this page with nbviewer.org.</b></div><div class=\"sk-container\" hidden><div class=\"sk-item\"><div class=\"sk-estimator sk-toggleable\"><input class=\"sk-toggleable__control sk-hidden--visually\" id=\"sk-estimator-id-7\" type=\"checkbox\" checked><label for=\"sk-estimator-id-7\" class=\"sk-toggleable__label sk-toggleable__label-arrow\">LinearRegression</label><div class=\"sk-toggleable__content\"><pre>LinearRegression()</pre></div></div></div></div></div>"
      ],
      "text/plain": [
       "LinearRegression()"
      ]
     },
     "execution_count": 127,
     "metadata": {},
     "output_type": "execute_result"
    }
   ],
   "source": [
    "poly1=PolynomialFeatures(degree=4)\n",
    "X_train_poly1=poly1.fit_transform(X_train)\n",
    "X_test_poly1=poly1.fit_transform(X_test)\n",
    "poly_model.fit(X_train_poly1,y_train)"
   ]
  },
  {
   "cell_type": "code",
   "execution_count": 128,
   "id": "adba5e31",
   "metadata": {},
   "outputs": [
    {
     "data": {
      "text/plain": [
       "[<matplotlib.lines.Line2D at 0x21168dd2470>]"
      ]
     },
     "execution_count": 128,
     "metadata": {},
     "output_type": "execute_result"
    },
    {
     "data": {
      "image/png": "[encoded data removed]",
      "text/plain": [
       "<Figure size 640x480 with 1 Axes>"
      ]
     },
     "metadata": {},
     "output_type": "display_data"
    }
   ],
   "source": [
    "coefficient=poly_model.coef_\n",
    "intercept=poly_model.intercept_\n",
    "x_axis=np.arange(2,40,0.1)\n",
    "response=intercept+(coefficient[0][1]*x_axis)+(coefficient[0][2]*(x_axis**2))\n",
    "plt.scatter(df['lstat'],df['medv'],color='b')\n",
    "plt.plot(x_axis,response,color='r')"
   ]
  },
  {
   "cell_type": "code",
   "execution_count": 141,
   "id": "c201e277",
   "metadata": {},
   "outputs": [],
   "source": [
    "orders = list(range(1, 6))\n",
    "BICs = []\n",
    "# Fit polynomial regression models and calculate BICs for each order\n",
    "for order in orders:\n",
    "    poly = PolynomialFeatures(degree=order)\n",
    "    X_poly = poly.fit_transform(X_train)\n",
    "    model = sm.OLS(y_train, X_poly).fit()# fits an ordinary least squares (OLS) regression model using the sm.OLS()\n",
    "    bic = model.bic\n",
    "    BICs.append(bic)"
   ]
  },
  {
   "cell_type": "code",
   "execution_count": 142,
   "id": "948ff125",
   "metadata": {
    "scrolled": true
   },
   "outputs": [
    {
     "data": {
      "text/plain": [
       "[2481.911623022106,\n",
       " 2385.1839727249885,\n",
       " 2374.1970594112295,\n",
       " 2364.03985830658,\n",
       " 2362.1386602295024]"
      ]
     },
     "execution_count": 142,
     "metadata": {},
     "output_type": "execute_result"
    }
   ],
   "source": [
    "BICs"
   ]
  },
  {
   "cell_type": "code",
   "execution_count": 143,
   "id": "dca05bee",
   "metadata": {},
   "outputs": [
    {
     "name": "stdout",
     "output_type": "stream",
     "text": [
      "Best order: 5\n"
     ]
    }
   ],
   "source": [
    "best_order = np.argmin(BICs) + 1\n",
    "print(\"Best order:\", best_order)"
   ]
  },
  {
   "cell_type": "code",
   "execution_count": 151,
   "id": "7225a5ae",
   "metadata": {},
   "outputs": [
    {
     "data": {
      "text/html": [
       "<style>#sk-container-id-9 {color: black;background-color: white;}#sk-container-id-9 pre{padding: 0;}#sk-container-id-9 div.sk-toggleable {background-color: white;}#sk-container-id-9 label.sk-toggleable__label {cursor: pointer;display: block;width: 100%;margin-bottom: 0;padding: 0.3em;box-sizing: border-box;text-align: center;}#sk-container-id-9 label.sk-toggleable__label-arrow:before {content: \"▸\";float: left;margin-right: 0.25em;color: #696969;}#sk-container-id-9 label.sk-toggleable__label-arrow:hover:before {color: black;}#sk-container-id-9 div.sk-estimator:hover label.sk-toggleable__label-arrow:before {color: black;}#sk-container-id-9 div.sk-toggleable__content {max-height: 0;max-width: 0;overflow: hidden;text-align: left;background-color: #f0f8ff;}#sk-container-id-9 div.sk-toggleable__content pre {margin: 0.2em;color: black;border-radius: 0.25em;background-color: #f0f8ff;}#sk-container-id-9 input.sk-toggleable__control:checked~div.sk-toggleable__content {max-height: 200px;max-width: 100%;overflow: auto;}#sk-container-id-9 input.sk-toggleable__control:checked~label.sk-toggleable__label-arrow:before {content: \"▾\";}#sk-container-id-9 div.sk-estimator input.sk-toggleable__control:checked~label.sk-toggleable__label {background-color: #d4ebff;}#sk-container-id-9 div.sk-label input.sk-toggleable__control:checked~label.sk-toggleable__label {background-color: #d4ebff;}#sk-container-id-9 input.sk-hidden--visually {border: 0;clip: rect(1px 1px 1px 1px);clip: rect(1px, 1px, 1px, 1px);height: 1px;margin: -1px;overflow: hidden;padding: 0;position: absolute;width: 1px;}#sk-container-id-9 div.sk-estimator {font-family: monospace;background-color: #f0f8ff;border: 1px dotted black;border-radius: 0.25em;box-sizing: border-box;margin-bottom: 0.5em;}#sk-container-id-9 div.sk-estimator:hover {background-color: #d4ebff;}#sk-container-id-9 div.sk-parallel-item::after {content: \"\";width: 100%;border-bottom: 1px solid gray;flex-grow: 1;}#sk-container-id-9 div.sk-label:hover label.sk-toggleable__label {background-color: #d4ebff;}#sk-container-id-9 div.sk-serial::before {content: \"\";position: absolute;border-left: 1px solid gray;box-sizing: border-box;top: 0;bottom: 0;left: 50%;z-index: 0;}#sk-container-id-9 div.sk-serial {display: flex;flex-direction: column;align-items: center;background-color: white;padding-right: 0.2em;padding-left: 0.2em;position: relative;}#sk-container-id-9 div.sk-item {position: relative;z-index: 1;}#sk-container-id-9 div.sk-parallel {display: flex;align-items: stretch;justify-content: center;background-color: white;position: relative;}#sk-container-id-9 div.sk-item::before, #sk-container-id-9 div.sk-parallel-item::before {content: \"\";position: absolute;border-left: 1px solid gray;box-sizing: border-box;top: 0;bottom: 0;left: 50%;z-index: -1;}#sk-container-id-9 div.sk-parallel-item {display: flex;flex-direction: column;z-index: 1;position: relative;background-color: white;}#sk-container-id-9 div.sk-parallel-item:first-child::after {align-self: flex-end;width: 50%;}#sk-container-id-9 div.sk-parallel-item:last-child::after {align-self: flex-start;width: 50%;}#sk-container-id-9 div.sk-parallel-item:only-child::after {width: 0;}#sk-container-id-9 div.sk-dashed-wrapped {border: 1px dashed gray;margin: 0 0.4em 0.5em 0.4em;box-sizing: border-box;padding-bottom: 0.4em;background-color: white;}#sk-container-id-9 div.sk-label label {font-family: monospace;font-weight: bold;display: inline-block;line-height: 1.2em;}#sk-container-id-9 div.sk-label-container {text-align: center;}#sk-container-id-9 div.sk-container {/* jupyter's `normalize.less` sets `[hidden] { display: none; }` but bootstrap.min.css set `[hidden] { display: none !important; }` so we also need the `!important` here to be able to override the default hidden behavior on the sphinx rendered scikit-learn.org. See: https://github.com/scikit-learn/scikit-learn/issues/21755 */display: inline-block !important;position: relative;}#sk-container-id-9 div.sk-text-repr-fallback {display: none;}</style><div id=\"sk-container-id-9\" class=\"sk-top-container\"><div class=\"sk-text-repr-fallback\"><pre>LinearRegression()</pre><b>In a Jupyter environment, please rerun this cell to show the HTML representation or trust the notebook. <br />On GitHub, the HTML representation is unable to render, please try loading this page with nbviewer.org.</b></div><div class=\"sk-container\" hidden><div class=\"sk-item\"><div class=\"sk-estimator sk-toggleable\"><input class=\"sk-toggleable__control sk-hidden--visually\" id=\"sk-estimator-id-9\" type=\"checkbox\" checked><label for=\"sk-estimator-id-9\" class=\"sk-toggleable__label sk-toggleable__label-arrow\">LinearRegression</label><div class=\"sk-toggleable__content\"><pre>LinearRegression()</pre></div></div></div></div></div>"
      ],
      "text/plain": [
       "LinearRegression()"
      ]
     },
     "execution_count": 151,
     "metadata": {},
     "output_type": "execute_result"
    }
   ],
   "source": [
    "poly = PolynomialFeatures(degree=5)\n",
    "Xnew_train=poly.fit_transform(X_train)\n",
    "Xnew_test=poly.fit_transform(X_test)\n",
    "poly_model=LinearRegression()\n",
    "poly_model.fit(Xnew_train,y_train)"
   ]
  },
  {
   "cell_type": "code",
   "execution_count": 152,
   "id": "76f551fa",
   "metadata": {},
   "outputs": [],
   "source": [
    "poly5_pred=poly_model.predict(Xnew_test)"
   ]
  },
  {
   "cell_type": "code",
   "execution_count": 153,
   "id": "9c746eaa",
   "metadata": {},
   "outputs": [
    {
     "data": {
      "text/plain": [
       "0.6221234420055586"
      ]
     },
     "execution_count": 153,
     "metadata": {},
     "output_type": "execute_result"
    }
   ],
   "source": [
    "r2_score(y_test,poly5_pred)"
   ]
  },
  {
   "cell_type": "code",
   "execution_count": 156,
   "id": "61a9ca5e",
   "metadata": {},
   "outputs": [
    {
     "data": {
      "text/plain": [
       "5.1440855368339635"
      ]
     },
     "execution_count": 156,
     "metadata": {},
     "output_type": "execute_result"
    }
   ],
   "source": [
    "np.sqrt(mean_squared_error(y_test,poly5_pred))#the polynomial regression model of order "
   ]
  },
  {
   "cell_type": "code",
   "execution_count": 154,
   "id": "ae88d97f",
   "metadata": {},
   "outputs": [
    {
     "data": {
      "text/plain": [
       "array([[ 0.00000000e+00, -1.11048263e+01,  1.14003754e+00,\n",
       "        -6.00419461e-02,  1.49783711e-03, -1.39721246e-05]])"
      ]
     },
     "execution_count": 154,
     "metadata": {},
     "output_type": "execute_result"
    }
   ],
   "source": [
    "coefficient=poly_model.coef_\n",
    "coefficient"
   ]
  },
  {
   "cell_type": "code",
   "execution_count": 155,
   "id": "165ba5b0",
   "metadata": {},
   "outputs": [
    {
     "data": {
      "text/plain": [
       "[<matplotlib.lines.Line2D at 0x211019b7850>]"
      ]
     },
     "execution_count": 155,
     "metadata": {},
     "output_type": "execute_result"
    },
    {
     "data": {
      "image/png": "[encoded data removed]",
      "text/plain": [
       "<Figure size 640x480 with 1 Axes>"
      ]
     },
     "metadata": {},
     "output_type": "display_data"
    }
   ],
   "source": [
    "coefficient=poly_model.coef_\n",
    "intercept=poly_model.intercept_\n",
    "x_axis=np.arange(2,40,0.1)\n",
    "response=intercept+(coefficient[0][1]*x_axis)+(coefficient[0][2]*(x_axis**2))+(coefficient[0][3]*(x_axis**3))+(coefficient[0][4]*(x_axis**4))\n",
    "plt.scatter(df['lstat'],df['medv'],color='b')\n",
    "plt.plot(x_axis,response,color='r')"
   ]
  },
  {
   "cell_type": "markdown",
   "id": "6e362bf9",
   "metadata": {},
   "source": [
    "### Observations\n",
    "### ***************\n",
    "#### When we use Bayersian Information Criterion to find the best order in our polynomial regression model, we improved out models performance"
   ]
  },
  {
   "cell_type": "code",
   "execution_count": null,
   "id": "ab27d111",
   "metadata": {},
   "outputs": [],
   "source": []
  }
 ],
 "metadata": {
  "kernelspec": {
   "display_name": "dsvenv",
   "language": "python",
   "name": "dsvenv"
  },
  "language_info": {
   "codemirror_mode": {
    "name": "ipython",
    "version": 3
   },
   "file_extension": ".py",
   "mimetype": "text/x-python",
   "name": "python",
   "nbconvert_exporter": "python",
   "pygments_lexer": "ipython3",
   "version": "3.10.11"
  },
  "varInspector": {
   "cols": {
    "lenName": 16,
    "lenType": 16,
    "lenVar": 40
   },
   "kernels_config": {
    "python": {
     "delete_cmd_postfix": "",
     "delete_cmd_prefix": "del ",
     "library": "var_list.py",
     "varRefreshCmd": "print(var_dic_list())"
    },
    "r": {
     "delete_cmd_postfix": ") ",
     "delete_cmd_prefix": "rm(",
     "library": "var_list.r",
     "varRefreshCmd": "cat(var_dic_list()) "
    }
   },
   "types_to_exclude": [
    "module",
    "function",
    "builtin_function_or_method",
    "instance",
    "_Feature"
   ],
   "window_display": false
  }
 },
 "nbformat": 4,
 "nbformat_minor": 5
}
