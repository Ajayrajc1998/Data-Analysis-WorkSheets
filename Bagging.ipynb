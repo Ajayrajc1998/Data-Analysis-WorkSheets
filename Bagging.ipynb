{
 "cells": [
  {
   "cell_type": "markdown",
   "id": "985a5e35",
   "metadata": {},
   "source": [
    "### Bagging Regressor"
   ]
  },
  {
   "cell_type": "code",
   "execution_count": 1,
   "id": "89c65076",
   "metadata": {},
   "outputs": [],
   "source": [
    "import pandas as pd\n",
    "import numpy as np"
   ]
  },
  {
   "cell_type": "code",
   "execution_count": 17,
   "id": "41f5e0de",
   "metadata": {},
   "outputs": [
    {
     "data": {
      "text/html": [
       "<div>\n",
       "<style scoped>\n",
       "    .dataframe tbody tr th:only-of-type {\n",
       "        vertical-align: middle;\n",
       "    }\n",
       "\n",
       "    .dataframe tbody tr th {\n",
       "        vertical-align: top;\n",
       "    }\n",
       "\n",
       "    .dataframe thead th {\n",
       "        text-align: right;\n",
       "    }\n",
       "</style>\n",
       "<table border=\"1\" class=\"dataframe\">\n",
       "  <thead>\n",
       "    <tr style=\"text-align: right;\">\n",
       "      <th></th>\n",
       "      <th>Date</th>\n",
       "      <th>Global Revenue</th>\n",
       "      <th>UACN Revenue</th>\n",
       "      <th>EMEA Revenue</th>\n",
       "      <th>LATM Revenue</th>\n",
       "      <th>APAC Revenue</th>\n",
       "      <th>UACN Members</th>\n",
       "      <th>EMEA  Members</th>\n",
       "      <th>LATM Members</th>\n",
       "      <th>APAC Members</th>\n",
       "      <th>...</th>\n",
       "      <th>EMEA RPU</th>\n",
       "      <th>LATM  RPU</th>\n",
       "      <th>APAC  RPU</th>\n",
       "      <th>Domestic Members</th>\n",
       "      <th>Domestic Revenue</th>\n",
       "      <th>International Members</th>\n",
       "      <th>International Revenue</th>\n",
       "      <th>Domestic Free Trialers</th>\n",
       "      <th>Interntaional Free Trialers</th>\n",
       "      <th>Netflix Global Users</th>\n",
       "    </tr>\n",
       "  </thead>\n",
       "  <tbody>\n",
       "    <tr>\n",
       "      <th>0</th>\n",
       "      <td>31-03-2012</td>\n",
       "      <td>869791000</td>\n",
       "      <td>NaN</td>\n",
       "      <td>NaN</td>\n",
       "      <td>NaN</td>\n",
       "      <td>NaN</td>\n",
       "      <td>NaN</td>\n",
       "      <td>NaN</td>\n",
       "      <td>NaN</td>\n",
       "      <td>NaN</td>\n",
       "      <td>...</td>\n",
       "      <td>NaN</td>\n",
       "      <td>NaN</td>\n",
       "      <td>NaN</td>\n",
       "      <td>506665000.0</td>\n",
       "      <td>506665000.0</td>\n",
       "      <td>2409000.0</td>\n",
       "      <td>43425000.0</td>\n",
       "      <td>NaN</td>\n",
       "      <td>NaN</td>\n",
       "      <td>50,90,74,000</td>\n",
       "    </tr>\n",
       "    <tr>\n",
       "      <th>1</th>\n",
       "      <td>30-06-2012</td>\n",
       "      <td>889163000</td>\n",
       "      <td>NaN</td>\n",
       "      <td>NaN</td>\n",
       "      <td>NaN</td>\n",
       "      <td>NaN</td>\n",
       "      <td>NaN</td>\n",
       "      <td>NaN</td>\n",
       "      <td>NaN</td>\n",
       "      <td>NaN</td>\n",
       "      <td>...</td>\n",
       "      <td>NaN</td>\n",
       "      <td>NaN</td>\n",
       "      <td>NaN</td>\n",
       "      <td>532705000.0</td>\n",
       "      <td>532705000.0</td>\n",
       "      <td>3024000.0</td>\n",
       "      <td>64973000.0</td>\n",
       "      <td>NaN</td>\n",
       "      <td>NaN</td>\n",
       "      <td>53,57,29,000</td>\n",
       "    </tr>\n",
       "    <tr>\n",
       "      <th>2</th>\n",
       "      <td>30-09-2012</td>\n",
       "      <td>905089000</td>\n",
       "      <td>NaN</td>\n",
       "      <td>NaN</td>\n",
       "      <td>NaN</td>\n",
       "      <td>NaN</td>\n",
       "      <td>NaN</td>\n",
       "      <td>NaN</td>\n",
       "      <td>NaN</td>\n",
       "      <td>NaN</td>\n",
       "      <td>...</td>\n",
       "      <td>NaN</td>\n",
       "      <td>NaN</td>\n",
       "      <td>NaN</td>\n",
       "      <td>556027000.0</td>\n",
       "      <td>556027000.0</td>\n",
       "      <td>3689000.0</td>\n",
       "      <td>77744000.0</td>\n",
       "      <td>NaN</td>\n",
       "      <td>NaN</td>\n",
       "      <td>55,97,16,000</td>\n",
       "    </tr>\n",
       "    <tr>\n",
       "      <th>3</th>\n",
       "      <td>31-12-2012</td>\n",
       "      <td>945239000</td>\n",
       "      <td>NaN</td>\n",
       "      <td>NaN</td>\n",
       "      <td>NaN</td>\n",
       "      <td>NaN</td>\n",
       "      <td>NaN</td>\n",
       "      <td>NaN</td>\n",
       "      <td>NaN</td>\n",
       "      <td>NaN</td>\n",
       "      <td>...</td>\n",
       "      <td>NaN</td>\n",
       "      <td>NaN</td>\n",
       "      <td>NaN</td>\n",
       "      <td>589471000.0</td>\n",
       "      <td>589471000.0</td>\n",
       "      <td>4892000.0</td>\n",
       "      <td>101400000.0</td>\n",
       "      <td>NaN</td>\n",
       "      <td>NaN</td>\n",
       "      <td>59,43,63,000</td>\n",
       "    </tr>\n",
       "    <tr>\n",
       "      <th>4</th>\n",
       "      <td>31-03-2013</td>\n",
       "      <td>1023961000</td>\n",
       "      <td>NaN</td>\n",
       "      <td>NaN</td>\n",
       "      <td>NaN</td>\n",
       "      <td>NaN</td>\n",
       "      <td>NaN</td>\n",
       "      <td>NaN</td>\n",
       "      <td>NaN</td>\n",
       "      <td>NaN</td>\n",
       "      <td>...</td>\n",
       "      <td>NaN</td>\n",
       "      <td>NaN</td>\n",
       "      <td>NaN</td>\n",
       "      <td>638649000.0</td>\n",
       "      <td>638649000.0</td>\n",
       "      <td>6331000.0</td>\n",
       "      <td>142019000.0</td>\n",
       "      <td>NaN</td>\n",
       "      <td>NaN</td>\n",
       "      <td>64,49,80,000</td>\n",
       "    </tr>\n",
       "  </tbody>\n",
       "</table>\n",
       "<p>5 rows × 21 columns</p>\n",
       "</div>"
      ],
      "text/plain": [
       "         Date  Global Revenue  UACN Revenue  EMEA Revenue  LATM Revenue   \n",
       "0  31-03-2012       869791000           NaN           NaN           NaN  \\\n",
       "1  30-06-2012       889163000           NaN           NaN           NaN   \n",
       "2  30-09-2012       905089000           NaN           NaN           NaN   \n",
       "3  31-12-2012       945239000           NaN           NaN           NaN   \n",
       "4  31-03-2013      1023961000           NaN           NaN           NaN   \n",
       "\n",
       "   APAC Revenue  UACN Members  EMEA  Members  LATM Members  APAC Members  ...   \n",
       "0           NaN           NaN            NaN           NaN           NaN  ...  \\\n",
       "1           NaN           NaN            NaN           NaN           NaN  ...   \n",
       "2           NaN           NaN            NaN           NaN           NaN  ...   \n",
       "3           NaN           NaN            NaN           NaN           NaN  ...   \n",
       "4           NaN           NaN            NaN           NaN           NaN  ...   \n",
       "\n",
       "   EMEA RPU  LATM  RPU  APAC  RPU  Domestic Members  Domestic Revenue   \n",
       "0       NaN        NaN        NaN       506665000.0       506665000.0  \\\n",
       "1       NaN        NaN        NaN       532705000.0       532705000.0   \n",
       "2       NaN        NaN        NaN       556027000.0       556027000.0   \n",
       "3       NaN        NaN        NaN       589471000.0       589471000.0   \n",
       "4       NaN        NaN        NaN       638649000.0       638649000.0   \n",
       "\n",
       "   International Members  International Revenue  Domestic Free Trialers   \n",
       "0              2409000.0             43425000.0                     NaN  \\\n",
       "1              3024000.0             64973000.0                     NaN   \n",
       "2              3689000.0             77744000.0                     NaN   \n",
       "3              4892000.0            101400000.0                     NaN   \n",
       "4              6331000.0            142019000.0                     NaN   \n",
       "\n",
       "   Interntaional Free Trialers  Netflix Global Users  \n",
       "0                          NaN          50,90,74,000  \n",
       "1                          NaN          53,57,29,000  \n",
       "2                          NaN          55,97,16,000  \n",
       "3                          NaN          59,43,63,000  \n",
       "4                          NaN          64,49,80,000  \n",
       "\n",
       "[5 rows x 21 columns]"
      ]
     },
     "execution_count": 17,
     "metadata": {},
     "output_type": "execute_result"
    }
   ],
   "source": [
    "df=pd.read_csv('Netflix Revenue.csv')\n",
    "df.head()"
   ]
  },
  {
   "cell_type": "code",
   "execution_count": 18,
   "id": "3be155d8",
   "metadata": {},
   "outputs": [
    {
     "name": "stdout",
     "output_type": "stream",
     "text": [
      "<class 'pandas.core.frame.DataFrame'>\n",
      "RangeIndex: 45 entries, 0 to 44\n",
      "Data columns (total 21 columns):\n",
      " #   Column                       Non-Null Count  Dtype  \n",
      "---  ------                       --------------  -----  \n",
      " 0   Date                         45 non-null     object \n",
      " 1   Global Revenue               45 non-null     int64  \n",
      " 2   UACN Revenue                 17 non-null     float64\n",
      " 3   EMEA Revenue                 17 non-null     float64\n",
      " 4   LATM Revenue                 17 non-null     float64\n",
      " 5   APAC Revenue                 17 non-null     float64\n",
      " 6   UACN Members                 17 non-null     float64\n",
      " 7   EMEA  Members                17 non-null     float64\n",
      " 8   LATM Members                 17 non-null     float64\n",
      " 9   APAC Members                 17 non-null     float64\n",
      " 10  UACN RPU                     17 non-null     float64\n",
      " 11  EMEA RPU                     17 non-null     float64\n",
      " 12  LATM  RPU                    17 non-null     float64\n",
      " 13  APAC  RPU                    17 non-null     float64\n",
      " 14  Domestic Members             28 non-null     float64\n",
      " 15  Domestic Revenue             28 non-null     float64\n",
      " 16  International Members        28 non-null     float64\n",
      " 17  International Revenue        28 non-null     float64\n",
      " 18  Domestic Free Trialers       12 non-null     float64\n",
      " 19  Interntaional Free Trialers  12 non-null     float64\n",
      " 20  Netflix Global Users         45 non-null     object \n",
      "dtypes: float64(18), int64(1), object(2)\n",
      "memory usage: 7.5+ KB\n"
     ]
    }
   ],
   "source": [
    "df.info()"
   ]
  },
  {
   "cell_type": "code",
   "execution_count": 19,
   "id": "4b00f91d",
   "metadata": {},
   "outputs": [
    {
     "data": {
      "text/plain": [
       "array([5.066650e+08, 5.327050e+08, 5.560270e+08, 5.894710e+08,\n",
       "       6.386490e+08, 6.710890e+08, 7.010830e+08, 7.405540e+08,\n",
       "       7.986170e+08, 8.382250e+08, 8.771500e+08, 9.174420e+08,\n",
       "       9.845320e+08, 1.025913e+09, 1.063961e+09, 1.105933e+09,\n",
       "       1.161241e+09, 1.208271e+09, 1.304333e+09, 1.403462e+09,\n",
       "       1.046199e+09, 1.165228e+09, 1.327435e+09, 1.550329e+09,\n",
       "       1.820019e+09, 1.893222e+09, 1.937314e+09, 1.996092e+09,\n",
       "                nan])"
      ]
     },
     "execution_count": 19,
     "metadata": {},
     "output_type": "execute_result"
    }
   ],
   "source": [
    "df['Domestic Members'].unique()"
   ]
  },
  {
   "cell_type": "code",
   "execution_count": 20,
   "id": "bfedc8d1",
   "metadata": {},
   "outputs": [
    {
     "name": "stderr",
     "output_type": "stream",
     "text": [
      "C:\\Users\\aksha\\AppData\\Local\\Temp\\ipykernel_11308\\3023999556.py:1: UserWarning: Parsing dates in %d-%m-%Y format when dayfirst=False (the default) was specified. Pass `dayfirst=True` or specify a format to silence this warning.\n",
      "  df['Date']=pd.to_datetime(df['Date'])\n"
     ]
    }
   ],
   "source": [
    "df['Date']=pd.to_datetime(df['Date'])"
   ]
  },
  {
   "cell_type": "code",
   "execution_count": 21,
   "id": "1da75d82",
   "metadata": {},
   "outputs": [
    {
     "data": {
      "text/plain": [
       "0   2012-03-31\n",
       "1   2012-06-30\n",
       "2   2012-09-30\n",
       "3   2012-12-31\n",
       "4   2013-03-31\n",
       "Name: Date, dtype: datetime64[ns]"
      ]
     },
     "execution_count": 21,
     "metadata": {},
     "output_type": "execute_result"
    }
   ],
   "source": [
    "df['Date'].head()"
   ]
  },
  {
   "cell_type": "code",
   "execution_count": 22,
   "id": "30d13a36",
   "metadata": {},
   "outputs": [],
   "source": [
    "df['day'] = df['Date'].dt.day\n",
    "df['month'] = df['Date'].dt.month\n",
    "df['year'] = df['Date'].dt.year"
   ]
  },
  {
   "cell_type": "code",
   "execution_count": 23,
   "id": "d56d7bc1",
   "metadata": {},
   "outputs": [],
   "source": [
    "from sklearn.preprocessing import LabelEncoder\n",
    "label=LabelEncoder()\n",
    "df['day']=label.fit_transform(df['day'])\n",
    "df['month']=label.fit_transform(df['month'])\n",
    "df['year']=label.fit_transform(df['year'])"
   ]
  },
  {
   "cell_type": "code",
   "execution_count": 24,
   "id": "9bd32079",
   "metadata": {},
   "outputs": [],
   "source": [
    "df['day'].fillna(df['day'].mode()[0],inplace=True)\n",
    "df['month'].fillna(df['month'].mode()[0],inplace=True)\n",
    "df['year'].fillna(df['year'].mode()[0],inplace=True)"
   ]
  },
  {
   "cell_type": "code",
   "execution_count": 25,
   "id": "31322c35",
   "metadata": {},
   "outputs": [
    {
     "name": "stdout",
     "output_type": "stream",
     "text": [
      "<class 'pandas.core.frame.DataFrame'>\n",
      "RangeIndex: 45 entries, 0 to 44\n",
      "Data columns (total 24 columns):\n",
      " #   Column                       Non-Null Count  Dtype         \n",
      "---  ------                       --------------  -----         \n",
      " 0   Date                         45 non-null     datetime64[ns]\n",
      " 1   Global Revenue               45 non-null     int64         \n",
      " 2   UACN Revenue                 17 non-null     float64       \n",
      " 3   EMEA Revenue                 17 non-null     float64       \n",
      " 4   LATM Revenue                 17 non-null     float64       \n",
      " 5   APAC Revenue                 17 non-null     float64       \n",
      " 6   UACN Members                 17 non-null     float64       \n",
      " 7   EMEA  Members                17 non-null     float64       \n",
      " 8   LATM Members                 17 non-null     float64       \n",
      " 9   APAC Members                 17 non-null     float64       \n",
      " 10  UACN RPU                     17 non-null     float64       \n",
      " 11  EMEA RPU                     17 non-null     float64       \n",
      " 12  LATM  RPU                    17 non-null     float64       \n",
      " 13  APAC  RPU                    17 non-null     float64       \n",
      " 14  Domestic Members             28 non-null     float64       \n",
      " 15  Domestic Revenue             28 non-null     float64       \n",
      " 16  International Members        28 non-null     float64       \n",
      " 17  International Revenue        28 non-null     float64       \n",
      " 18  Domestic Free Trialers       12 non-null     float64       \n",
      " 19  Interntaional Free Trialers  12 non-null     float64       \n",
      " 20  Netflix Global Users         45 non-null     object        \n",
      " 21  day                          45 non-null     int64         \n",
      " 22  month                        45 non-null     int64         \n",
      " 23  year                         45 non-null     int64         \n",
      "dtypes: datetime64[ns](1), float64(18), int64(4), object(1)\n",
      "memory usage: 8.6+ KB\n"
     ]
    }
   ],
   "source": [
    "df.info()"
   ]
  },
  {
   "cell_type": "code",
   "execution_count": 36,
   "id": "31a852a8",
   "metadata": {},
   "outputs": [],
   "source": [
    "l=['Global Revenue','UACN Revenue','EMEA Revenue','LATM Revenue','APAC Revenue','International Revenue','Domestic Revenue']\n",
    "for i in l:\n",
    "    df[i].fillna(df[i].mode()[0],inplace=True)"
   ]
  },
  {
   "cell_type": "code",
   "execution_count": 27,
   "id": "e7e7fd72",
   "metadata": {},
   "outputs": [
    {
     "name": "stdout",
     "output_type": "stream",
     "text": [
      "<class 'pandas.core.frame.DataFrame'>\n",
      "RangeIndex: 45 entries, 0 to 44\n",
      "Data columns (total 24 columns):\n",
      " #   Column                       Non-Null Count  Dtype         \n",
      "---  ------                       --------------  -----         \n",
      " 0   Date                         45 non-null     datetime64[ns]\n",
      " 1   Global Revenue               45 non-null     int64         \n",
      " 2   UACN Revenue                 45 non-null     float64       \n",
      " 3   EMEA Revenue                 45 non-null     float64       \n",
      " 4   LATM Revenue                 45 non-null     float64       \n",
      " 5   APAC Revenue                 45 non-null     float64       \n",
      " 6   UACN Members                 17 non-null     float64       \n",
      " 7   EMEA  Members                17 non-null     float64       \n",
      " 8   LATM Members                 17 non-null     float64       \n",
      " 9   APAC Members                 17 non-null     float64       \n",
      " 10  UACN RPU                     17 non-null     float64       \n",
      " 11  EMEA RPU                     17 non-null     float64       \n",
      " 12  LATM  RPU                    17 non-null     float64       \n",
      " 13  APAC  RPU                    17 non-null     float64       \n",
      " 14  Domestic Members             28 non-null     float64       \n",
      " 15  Domestic Revenue             28 non-null     float64       \n",
      " 16  International Members        28 non-null     float64       \n",
      " 17  International Revenue        45 non-null     float64       \n",
      " 18  Domestic Free Trialers       12 non-null     float64       \n",
      " 19  Interntaional Free Trialers  12 non-null     float64       \n",
      " 20  Netflix Global Users         45 non-null     object        \n",
      " 21  day                          45 non-null     int64         \n",
      " 22  month                        45 non-null     int64         \n",
      " 23  year                         45 non-null     int64         \n",
      "dtypes: datetime64[ns](1), float64(18), int64(4), object(1)\n",
      "memory usage: 8.6+ KB\n"
     ]
    }
   ],
   "source": [
    "df.info()"
   ]
  },
  {
   "cell_type": "code",
   "execution_count": 29,
   "id": "1701ca55",
   "metadata": {},
   "outputs": [],
   "source": [
    "a=['UACN Members','EMEA  Members','LATM Members','APAC Members','Domestic Members','International Members']\n",
    "for i in a:\n",
    "    df[i].fillna(df[i].mode()[0],inplace=True)"
   ]
  },
  {
   "cell_type": "code",
   "execution_count": 30,
   "id": "dacabad1",
   "metadata": {},
   "outputs": [
    {
     "name": "stdout",
     "output_type": "stream",
     "text": [
      "<class 'pandas.core.frame.DataFrame'>\n",
      "RangeIndex: 45 entries, 0 to 44\n",
      "Data columns (total 24 columns):\n",
      " #   Column                       Non-Null Count  Dtype         \n",
      "---  ------                       --------------  -----         \n",
      " 0   Date                         45 non-null     datetime64[ns]\n",
      " 1   Global Revenue               45 non-null     int64         \n",
      " 2   UACN Revenue                 45 non-null     float64       \n",
      " 3   EMEA Revenue                 45 non-null     float64       \n",
      " 4   LATM Revenue                 45 non-null     float64       \n",
      " 5   APAC Revenue                 45 non-null     float64       \n",
      " 6   UACN Members                 45 non-null     float64       \n",
      " 7   EMEA  Members                45 non-null     float64       \n",
      " 8   LATM Members                 45 non-null     float64       \n",
      " 9   APAC Members                 45 non-null     float64       \n",
      " 10  UACN RPU                     17 non-null     float64       \n",
      " 11  EMEA RPU                     17 non-null     float64       \n",
      " 12  LATM  RPU                    17 non-null     float64       \n",
      " 13  APAC  RPU                    17 non-null     float64       \n",
      " 14  Domestic Members             45 non-null     float64       \n",
      " 15  Domestic Revenue             28 non-null     float64       \n",
      " 16  International Members        45 non-null     float64       \n",
      " 17  International Revenue        45 non-null     float64       \n",
      " 18  Domestic Free Trialers       12 non-null     float64       \n",
      " 19  Interntaional Free Trialers  12 non-null     float64       \n",
      " 20  Netflix Global Users         45 non-null     object        \n",
      " 21  day                          45 non-null     int64         \n",
      " 22  month                        45 non-null     int64         \n",
      " 23  year                         45 non-null     int64         \n",
      "dtypes: datetime64[ns](1), float64(18), int64(4), object(1)\n",
      "memory usage: 8.6+ KB\n"
     ]
    }
   ],
   "source": [
    "df.info()"
   ]
  },
  {
   "cell_type": "code",
   "execution_count": 31,
   "id": "ddef5754",
   "metadata": {},
   "outputs": [],
   "source": [
    "a=['UACN RPU','EMEA RPU','LATM  RPU','APAC  RPU']\n",
    "for i in a:\n",
    "    df[i].fillna(df[i].mean(),inplace=True)"
   ]
  },
  {
   "cell_type": "code",
   "execution_count": 32,
   "id": "5c4c1daa",
   "metadata": {},
   "outputs": [
    {
     "name": "stdout",
     "output_type": "stream",
     "text": [
      "<class 'pandas.core.frame.DataFrame'>\n",
      "RangeIndex: 45 entries, 0 to 44\n",
      "Data columns (total 24 columns):\n",
      " #   Column                       Non-Null Count  Dtype         \n",
      "---  ------                       --------------  -----         \n",
      " 0   Date                         45 non-null     datetime64[ns]\n",
      " 1   Global Revenue               45 non-null     int64         \n",
      " 2   UACN Revenue                 45 non-null     float64       \n",
      " 3   EMEA Revenue                 45 non-null     float64       \n",
      " 4   LATM Revenue                 45 non-null     float64       \n",
      " 5   APAC Revenue                 45 non-null     float64       \n",
      " 6   UACN Members                 45 non-null     float64       \n",
      " 7   EMEA  Members                45 non-null     float64       \n",
      " 8   LATM Members                 45 non-null     float64       \n",
      " 9   APAC Members                 45 non-null     float64       \n",
      " 10  UACN RPU                     45 non-null     float64       \n",
      " 11  EMEA RPU                     45 non-null     float64       \n",
      " 12  LATM  RPU                    45 non-null     float64       \n",
      " 13  APAC  RPU                    45 non-null     float64       \n",
      " 14  Domestic Members             45 non-null     float64       \n",
      " 15  Domestic Revenue             28 non-null     float64       \n",
      " 16  International Members        45 non-null     float64       \n",
      " 17  International Revenue        45 non-null     float64       \n",
      " 18  Domestic Free Trialers       12 non-null     float64       \n",
      " 19  Interntaional Free Trialers  12 non-null     float64       \n",
      " 20  Netflix Global Users         45 non-null     object        \n",
      " 21  day                          45 non-null     int64         \n",
      " 22  month                        45 non-null     int64         \n",
      " 23  year                         45 non-null     int64         \n",
      "dtypes: datetime64[ns](1), float64(18), int64(4), object(1)\n",
      "memory usage: 8.6+ KB\n"
     ]
    }
   ],
   "source": [
    "df.info()"
   ]
  },
  {
   "cell_type": "code",
   "execution_count": 55,
   "id": "5ee36f9e",
   "metadata": {
    "scrolled": true
   },
   "outputs": [
    {
     "data": {
      "text/plain": [
       "array(['50,90,74,000', '53,57,29,000', '55,97,16,000', '59,43,63,000',\n",
       "       '64,49,80,000', '67,81,03,000', '70,91,67,000', '75,02,76,000',\n",
       "       '81,03,72,000', '85,11,32,000', '89,15,39,000', '93,42,20,000',\n",
       "       '1,00,38,36,000', '1,04,75,62,000', '1,08,79,12,000',\n",
       "       '1,13,33,71,000', '1,19,32,34,000', '1,24,21,63,000',\n",
       "       '1,34,11,32,000', '1,44,46,47,000', '1,09,11,87,000',\n",
       "       '1,21,39,41,000', '1,38,01,13,000', '1,60,81,63,000',\n",
       "       '1,88,38,34,000', '1,96,16,17,000', '2,01,07,79,000',\n",
       "       '2,07,68,65,000', '14,88,63,000', '15,15,62,000', '15,83,34,000',\n",
       "       '16,70,90,000', '18,28,56,000', '19,29,47,000', '19,51,51,000',\n",
       "       '20,36,63,000', '20,76,39,000', '20,91,80,000', '21,35,63,000',\n",
       "       '22,18,44,000', '22,16,41,000', '22,06,72,000', '22,30,85,000',\n",
       "       '23,07,47,000', '23,24,98,000'], dtype=object)"
      ]
     },
     "execution_count": 55,
     "metadata": {},
     "output_type": "execute_result"
    }
   ],
   "source": [
    "df['Netflix Global Users'].values"
   ]
  },
  {
   "cell_type": "code",
   "execution_count": 58,
   "id": "6d55858e",
   "metadata": {},
   "outputs": [
    {
     "data": {
      "text/plain": [
       "array(['509074000', '535729000', '559716000', '594363000', '644980000',\n",
       "       '678103000', '709167000', '750276000', '810372000', '851132000',\n",
       "       '891539000', '934220000', '1003836000', '1047562000', '1087912000',\n",
       "       '1133371000', '1193234000', '1242163000', '1341132000',\n",
       "       '1444647000', '1091187000', '1213941000', '1380113000',\n",
       "       '1608163000', '1883834000', '1961617000', '2010779000',\n",
       "       '2076865000', '148863000', '151562000', '158334000', '167090000',\n",
       "       '182856000', '192947000', '195151000', '203663000', '207639000',\n",
       "       '209180000', '213563000', '221844000', '221641000', '220672000',\n",
       "       '223085000', '230747000', '232498000'], dtype=object)"
      ]
     },
     "execution_count": 58,
     "metadata": {},
     "output_type": "execute_result"
    }
   ],
   "source": [
    "df['Netflix Global Users']=df['Netflix Global Users'].str.replace(',','')\n",
    "df['Netflix Global Users'].values"
   ]
  },
  {
   "cell_type": "code",
   "execution_count": 60,
   "id": "47f9cab8",
   "metadata": {},
   "outputs": [
    {
     "name": "stdout",
     "output_type": "stream",
     "text": [
      "<class 'pandas.core.frame.DataFrame'>\n",
      "RangeIndex: 45 entries, 0 to 44\n",
      "Data columns (total 24 columns):\n",
      " #   Column                       Non-Null Count  Dtype         \n",
      "---  ------                       --------------  -----         \n",
      " 0   Date                         45 non-null     datetime64[ns]\n",
      " 1   Global Revenue               45 non-null     int64         \n",
      " 2   UACN Revenue                 45 non-null     float64       \n",
      " 3   EMEA Revenue                 45 non-null     float64       \n",
      " 4   LATM Revenue                 45 non-null     float64       \n",
      " 5   APAC Revenue                 45 non-null     float64       \n",
      " 6   UACN Members                 45 non-null     float64       \n",
      " 7   EMEA  Members                45 non-null     float64       \n",
      " 8   LATM Members                 45 non-null     float64       \n",
      " 9   APAC Members                 45 non-null     float64       \n",
      " 10  UACN RPU                     45 non-null     float64       \n",
      " 11  EMEA RPU                     45 non-null     float64       \n",
      " 12  LATM  RPU                    45 non-null     float64       \n",
      " 13  APAC  RPU                    45 non-null     float64       \n",
      " 14  Domestic Members             45 non-null     float64       \n",
      " 15  Domestic Revenue             45 non-null     float64       \n",
      " 16  International Members        45 non-null     float64       \n",
      " 17  International Revenue        45 non-null     float64       \n",
      " 18  Domestic Free Trialers       45 non-null     float64       \n",
      " 19  Interntaional Free Trialers  45 non-null     float64       \n",
      " 20  Netflix Global Users         45 non-null     int64         \n",
      " 21  day                          45 non-null     int64         \n",
      " 22  month                        45 non-null     int64         \n",
      " 23  year                         45 non-null     int64         \n",
      "dtypes: datetime64[ns](1), float64(18), int64(5)\n",
      "memory usage: 8.6 KB\n"
     ]
    }
   ],
   "source": [
    "df.info()"
   ]
  },
  {
   "cell_type": "code",
   "execution_count": 59,
   "id": "634429bc",
   "metadata": {},
   "outputs": [],
   "source": [
    "df['Netflix Global Users']=pd.to_numeric(df['Netflix Global Users'])"
   ]
  },
  {
   "cell_type": "code",
   "execution_count": 34,
   "id": "717b72d9",
   "metadata": {},
   "outputs": [],
   "source": [
    "a=['Domestic Free Trialers','Interntaional Free Trialers']\n",
    "for i in a:\n",
    "    df[i].fillna(df[i].mode()[0],inplace=True)"
   ]
  },
  {
   "cell_type": "code",
   "execution_count": 37,
   "id": "b2705bb0",
   "metadata": {},
   "outputs": [
    {
     "data": {
      "text/plain": [
       "Date                           0\n",
       "Global Revenue                 0\n",
       "UACN Revenue                   0\n",
       "EMEA Revenue                   0\n",
       "LATM Revenue                   0\n",
       "APAC Revenue                   0\n",
       "UACN Members                   0\n",
       "EMEA  Members                  0\n",
       "LATM Members                   0\n",
       "APAC Members                   0\n",
       "UACN RPU                       0\n",
       "EMEA RPU                       0\n",
       "LATM  RPU                      0\n",
       "APAC  RPU                      0\n",
       "Domestic Members               0\n",
       "Domestic Revenue               0\n",
       "International Members          0\n",
       "International Revenue          0\n",
       "Domestic Free Trialers         0\n",
       "Interntaional Free Trialers    0\n",
       "Netflix Global Users           0\n",
       "day                            0\n",
       "month                          0\n",
       "year                           0\n",
       "dtype: int64"
      ]
     },
     "execution_count": 37,
     "metadata": {},
     "output_type": "execute_result"
    }
   ],
   "source": [
    "df.isnull().sum()"
   ]
  },
  {
   "cell_type": "code",
   "execution_count": null,
   "id": "a0cf3ef9",
   "metadata": {},
   "outputs": [],
   "source": [
    "d"
   ]
  },
  {
   "cell_type": "code",
   "execution_count": 61,
   "id": "aa6d6c96",
   "metadata": {},
   "outputs": [],
   "source": [
    "X=df.drop(['Global Revenue','Date'],axis=1)\n",
    "y=df['Global Revenue']"
   ]
  },
  {
   "cell_type": "code",
   "execution_count": 62,
   "id": "f32b31e9",
   "metadata": {},
   "outputs": [],
   "source": [
    "from sklearn.model_selection import train_test_split\n",
    "X_train,X_test,y_train,y_test=train_test_split(X,y,test_size=0.25)"
   ]
  },
  {
   "cell_type": "code",
   "execution_count": 63,
   "id": "1e414bef",
   "metadata": {},
   "outputs": [],
   "source": [
    "#Creating Samples\n",
    "from sklearn.model_selection import KFold\n",
    "fold=KFold(n_splits=10,random_state=7,shuffle=True)\n"
   ]
  },
  {
   "cell_type": "code",
   "execution_count": 64,
   "id": "2be3de80",
   "metadata": {},
   "outputs": [],
   "source": [
    "from sklearn.tree import DecisionTreeRegressor\n",
    "submodel=DecisionTreeRegressor()"
   ]
  },
  {
   "cell_type": "code",
   "execution_count": 65,
   "id": "d4c5fc61",
   "metadata": {},
   "outputs": [],
   "source": [
    "from sklearn.ensemble import BaggingRegressor\n",
    "model=BaggingRegressor(base_estimator=submodel,n_estimators=100,random_state=7)"
   ]
  },
  {
   "cell_type": "code",
   "execution_count": 67,
   "id": "c8c0d3ef",
   "metadata": {},
   "outputs": [
    {
     "name": "stderr",
     "output_type": "stream",
     "text": [
      "E:\\BROCAMP\\DS\\dsvenv\\lib\\site-packages\\sklearn\\ensemble\\_base.py:166: FutureWarning: `base_estimator` was renamed to `estimator` in version 1.2 and will be removed in 1.4.\n",
      "  warnings.warn(\n",
      "E:\\BROCAMP\\DS\\dsvenv\\lib\\site-packages\\sklearn\\ensemble\\_base.py:166: FutureWarning: `base_estimator` was renamed to `estimator` in version 1.2 and will be removed in 1.4.\n",
      "  warnings.warn(\n",
      "E:\\BROCAMP\\DS\\dsvenv\\lib\\site-packages\\sklearn\\ensemble\\_base.py:166: FutureWarning: `base_estimator` was renamed to `estimator` in version 1.2 and will be removed in 1.4.\n",
      "  warnings.warn(\n",
      "E:\\BROCAMP\\DS\\dsvenv\\lib\\site-packages\\sklearn\\ensemble\\_base.py:166: FutureWarning: `base_estimator` was renamed to `estimator` in version 1.2 and will be removed in 1.4.\n",
      "  warnings.warn(\n",
      "E:\\BROCAMP\\DS\\dsvenv\\lib\\site-packages\\sklearn\\ensemble\\_base.py:166: FutureWarning: `base_estimator` was renamed to `estimator` in version 1.2 and will be removed in 1.4.\n",
      "  warnings.warn(\n",
      "E:\\BROCAMP\\DS\\dsvenv\\lib\\site-packages\\sklearn\\ensemble\\_base.py:166: FutureWarning: `base_estimator` was renamed to `estimator` in version 1.2 and will be removed in 1.4.\n",
      "  warnings.warn(\n",
      "E:\\BROCAMP\\DS\\dsvenv\\lib\\site-packages\\sklearn\\ensemble\\_base.py:166: FutureWarning: `base_estimator` was renamed to `estimator` in version 1.2 and will be removed in 1.4.\n",
      "  warnings.warn(\n",
      "E:\\BROCAMP\\DS\\dsvenv\\lib\\site-packages\\sklearn\\ensemble\\_base.py:166: FutureWarning: `base_estimator` was renamed to `estimator` in version 1.2 and will be removed in 1.4.\n",
      "  warnings.warn(\n",
      "E:\\BROCAMP\\DS\\dsvenv\\lib\\site-packages\\sklearn\\ensemble\\_base.py:166: FutureWarning: `base_estimator` was renamed to `estimator` in version 1.2 and will be removed in 1.4.\n",
      "  warnings.warn(\n",
      "E:\\BROCAMP\\DS\\dsvenv\\lib\\site-packages\\sklearn\\ensemble\\_base.py:166: FutureWarning: `base_estimator` was renamed to `estimator` in version 1.2 and will be removed in 1.4.\n",
      "  warnings.warn(\n"
     ]
    },
    {
     "name": "stdout",
     "output_type": "stream",
     "text": [
      "model: 0 accuracy: 0.9088283534435133\n",
      "model: 1 accuracy: 0.9143754735031397\n",
      "model: 2 accuracy: -0.3606768774674418\n",
      "model: 3 accuracy: 0.9971881252060698\n",
      "model: 4 accuracy: 0.993992453185247\n",
      "model: 5 accuracy: 0.9994921328251081\n",
      "model: 6 accuracy: 0.9984373303954712\n",
      "model: 7 accuracy: 0.9500382863532063\n",
      "model: 8 accuracy: 0.9990771766541955\n",
      "model: 9 accuracy: 0.9982277120447395\n"
     ]
    }
   ],
   "source": [
    "from sklearn.model_selection import cross_val_score\n",
    "bagging_model=cross_val_score(model,X_train,y_train,cv=fold)\n",
    "for i in range(len(bagging_model)):\n",
    "    print('model:',i,'accuracy:',bagging_model[i])"
   ]
  },
  {
   "cell_type": "code",
   "execution_count": 68,
   "id": "67ce01db",
   "metadata": {},
   "outputs": [
    {
     "name": "stderr",
     "output_type": "stream",
     "text": [
      "E:\\BROCAMP\\DS\\dsvenv\\lib\\site-packages\\sklearn\\ensemble\\_base.py:166: FutureWarning: `base_estimator` was renamed to `estimator` in version 1.2 and will be removed in 1.4.\n",
      "  warnings.warn(\n"
     ]
    },
    {
     "data": {
      "text/html": [
       "<style>#sk-container-id-1 {color: black;background-color: white;}#sk-container-id-1 pre{padding: 0;}#sk-container-id-1 div.sk-toggleable {background-color: white;}#sk-container-id-1 label.sk-toggleable__label {cursor: pointer;display: block;width: 100%;margin-bottom: 0;padding: 0.3em;box-sizing: border-box;text-align: center;}#sk-container-id-1 label.sk-toggleable__label-arrow:before {content: \"▸\";float: left;margin-right: 0.25em;color: #696969;}#sk-container-id-1 label.sk-toggleable__label-arrow:hover:before {color: black;}#sk-container-id-1 div.sk-estimator:hover label.sk-toggleable__label-arrow:before {color: black;}#sk-container-id-1 div.sk-toggleable__content {max-height: 0;max-width: 0;overflow: hidden;text-align: left;background-color: #f0f8ff;}#sk-container-id-1 div.sk-toggleable__content pre {margin: 0.2em;color: black;border-radius: 0.25em;background-color: #f0f8ff;}#sk-container-id-1 input.sk-toggleable__control:checked~div.sk-toggleable__content {max-height: 200px;max-width: 100%;overflow: auto;}#sk-container-id-1 input.sk-toggleable__control:checked~label.sk-toggleable__label-arrow:before {content: \"▾\";}#sk-container-id-1 div.sk-estimator input.sk-toggleable__control:checked~label.sk-toggleable__label {background-color: #d4ebff;}#sk-container-id-1 div.sk-label input.sk-toggleable__control:checked~label.sk-toggleable__label {background-color: #d4ebff;}#sk-container-id-1 input.sk-hidden--visually {border: 0;clip: rect(1px 1px 1px 1px);clip: rect(1px, 1px, 1px, 1px);height: 1px;margin: -1px;overflow: hidden;padding: 0;position: absolute;width: 1px;}#sk-container-id-1 div.sk-estimator {font-family: monospace;background-color: #f0f8ff;border: 1px dotted black;border-radius: 0.25em;box-sizing: border-box;margin-bottom: 0.5em;}#sk-container-id-1 div.sk-estimator:hover {background-color: #d4ebff;}#sk-container-id-1 div.sk-parallel-item::after {content: \"\";width: 100%;border-bottom: 1px solid gray;flex-grow: 1;}#sk-container-id-1 div.sk-label:hover label.sk-toggleable__label {background-color: #d4ebff;}#sk-container-id-1 div.sk-serial::before {content: \"\";position: absolute;border-left: 1px solid gray;box-sizing: border-box;top: 0;bottom: 0;left: 50%;z-index: 0;}#sk-container-id-1 div.sk-serial {display: flex;flex-direction: column;align-items: center;background-color: white;padding-right: 0.2em;padding-left: 0.2em;position: relative;}#sk-container-id-1 div.sk-item {position: relative;z-index: 1;}#sk-container-id-1 div.sk-parallel {display: flex;align-items: stretch;justify-content: center;background-color: white;position: relative;}#sk-container-id-1 div.sk-item::before, #sk-container-id-1 div.sk-parallel-item::before {content: \"\";position: absolute;border-left: 1px solid gray;box-sizing: border-box;top: 0;bottom: 0;left: 50%;z-index: -1;}#sk-container-id-1 div.sk-parallel-item {display: flex;flex-direction: column;z-index: 1;position: relative;background-color: white;}#sk-container-id-1 div.sk-parallel-item:first-child::after {align-self: flex-end;width: 50%;}#sk-container-id-1 div.sk-parallel-item:last-child::after {align-self: flex-start;width: 50%;}#sk-container-id-1 div.sk-parallel-item:only-child::after {width: 0;}#sk-container-id-1 div.sk-dashed-wrapped {border: 1px dashed gray;margin: 0 0.4em 0.5em 0.4em;box-sizing: border-box;padding-bottom: 0.4em;background-color: white;}#sk-container-id-1 div.sk-label label {font-family: monospace;font-weight: bold;display: inline-block;line-height: 1.2em;}#sk-container-id-1 div.sk-label-container {text-align: center;}#sk-container-id-1 div.sk-container {/* jupyter's `normalize.less` sets `[hidden] { display: none; }` but bootstrap.min.css set `[hidden] { display: none !important; }` so we also need the `!important` here to be able to override the default hidden behavior on the sphinx rendered scikit-learn.org. See: https://github.com/scikit-learn/scikit-learn/issues/21755 */display: inline-block !important;position: relative;}#sk-container-id-1 div.sk-text-repr-fallback {display: none;}</style><div id=\"sk-container-id-1\" class=\"sk-top-container\"><div class=\"sk-text-repr-fallback\"><pre>BaggingRegressor(base_estimator=DecisionTreeRegressor(), n_estimators=100,\n",
       "                 random_state=7)</pre><b>In a Jupyter environment, please rerun this cell to show the HTML representation or trust the notebook. <br />On GitHub, the HTML representation is unable to render, please try loading this page with nbviewer.org.</b></div><div class=\"sk-container\" hidden><div class=\"sk-item sk-dashed-wrapped\"><div class=\"sk-label-container\"><div class=\"sk-label sk-toggleable\"><input class=\"sk-toggleable__control sk-hidden--visually\" id=\"sk-estimator-id-1\" type=\"checkbox\" ><label for=\"sk-estimator-id-1\" class=\"sk-toggleable__label sk-toggleable__label-arrow\">BaggingRegressor</label><div class=\"sk-toggleable__content\"><pre>BaggingRegressor(base_estimator=DecisionTreeRegressor(), n_estimators=100,\n",
       "                 random_state=7)</pre></div></div></div><div class=\"sk-parallel\"><div class=\"sk-parallel-item\"><div class=\"sk-item\"><div class=\"sk-label-container\"><div class=\"sk-label sk-toggleable\"><input class=\"sk-toggleable__control sk-hidden--visually\" id=\"sk-estimator-id-2\" type=\"checkbox\" ><label for=\"sk-estimator-id-2\" class=\"sk-toggleable__label sk-toggleable__label-arrow\">base_estimator: DecisionTreeRegressor</label><div class=\"sk-toggleable__content\"><pre>DecisionTreeRegressor()</pre></div></div></div><div class=\"sk-serial\"><div class=\"sk-item\"><div class=\"sk-estimator sk-toggleable\"><input class=\"sk-toggleable__control sk-hidden--visually\" id=\"sk-estimator-id-3\" type=\"checkbox\" ><label for=\"sk-estimator-id-3\" class=\"sk-toggleable__label sk-toggleable__label-arrow\">DecisionTreeRegressor</label><div class=\"sk-toggleable__content\"><pre>DecisionTreeRegressor()</pre></div></div></div></div></div></div></div></div></div></div>"
      ],
      "text/plain": [
       "BaggingRegressor(base_estimator=DecisionTreeRegressor(), n_estimators=100,\n",
       "                 random_state=7)"
      ]
     },
     "execution_count": 68,
     "metadata": {},
     "output_type": "execute_result"
    }
   ],
   "source": [
    "model.fit(X_train,y_train)"
   ]
  },
  {
   "cell_type": "code",
   "execution_count": 72,
   "id": "fc93b467",
   "metadata": {},
   "outputs": [
    {
     "name": "stdout",
     "output_type": "stream",
     "text": [
      "1.922024952114618e+17\n",
      "0.9746333159962596\n"
     ]
    }
   ],
   "source": [
    "from sklearn.metrics import mean_squared_error,r2_score\n",
    "y_pred=model.predict(X_test)\n",
    "print(mean_squared_error(y_test,y_pred))\n",
    "print(r2_score(y_test,y_pred))"
   ]
  },
  {
   "cell_type": "markdown",
   "id": "a4d36f88",
   "metadata": {},
   "source": [
    "# BoostClassifier"
   ]
  },
  {
   "cell_type": "code",
   "execution_count": 2,
   "id": "3dbbb5bb",
   "metadata": {},
   "outputs": [
    {
     "data": {
      "text/html": [
       "<div>\n",
       "<style scoped>\n",
       "    .dataframe tbody tr th:only-of-type {\n",
       "        vertical-align: middle;\n",
       "    }\n",
       "\n",
       "    .dataframe tbody tr th {\n",
       "        vertical-align: top;\n",
       "    }\n",
       "\n",
       "    .dataframe thead th {\n",
       "        text-align: right;\n",
       "    }\n",
       "</style>\n",
       "<table border=\"1\" class=\"dataframe\">\n",
       "  <thead>\n",
       "    <tr style=\"text-align: right;\">\n",
       "      <th></th>\n",
       "      <th>battery_power</th>\n",
       "      <th>blue</th>\n",
       "      <th>clock_speed</th>\n",
       "      <th>dual_sim</th>\n",
       "      <th>fc</th>\n",
       "      <th>four_g</th>\n",
       "      <th>int_memory</th>\n",
       "      <th>m_dep</th>\n",
       "      <th>mobile_wt</th>\n",
       "      <th>n_cores</th>\n",
       "      <th>...</th>\n",
       "      <th>px_height</th>\n",
       "      <th>px_width</th>\n",
       "      <th>ram</th>\n",
       "      <th>sc_h</th>\n",
       "      <th>sc_w</th>\n",
       "      <th>talk_time</th>\n",
       "      <th>three_g</th>\n",
       "      <th>touch_screen</th>\n",
       "      <th>wifi</th>\n",
       "      <th>price_range</th>\n",
       "    </tr>\n",
       "  </thead>\n",
       "  <tbody>\n",
       "    <tr>\n",
       "      <th>0</th>\n",
       "      <td>842</td>\n",
       "      <td>0</td>\n",
       "      <td>2.2</td>\n",
       "      <td>0</td>\n",
       "      <td>1</td>\n",
       "      <td>0</td>\n",
       "      <td>7</td>\n",
       "      <td>0.6</td>\n",
       "      <td>188</td>\n",
       "      <td>2</td>\n",
       "      <td>...</td>\n",
       "      <td>20</td>\n",
       "      <td>756</td>\n",
       "      <td>2549</td>\n",
       "      <td>9</td>\n",
       "      <td>7</td>\n",
       "      <td>19</td>\n",
       "      <td>0</td>\n",
       "      <td>0</td>\n",
       "      <td>1</td>\n",
       "      <td>1.0</td>\n",
       "    </tr>\n",
       "    <tr>\n",
       "      <th>1</th>\n",
       "      <td>1021</td>\n",
       "      <td>1</td>\n",
       "      <td>0.5</td>\n",
       "      <td>1</td>\n",
       "      <td>0</td>\n",
       "      <td>1</td>\n",
       "      <td>53</td>\n",
       "      <td>0.7</td>\n",
       "      <td>136</td>\n",
       "      <td>3</td>\n",
       "      <td>...</td>\n",
       "      <td>905</td>\n",
       "      <td>1988</td>\n",
       "      <td>2631</td>\n",
       "      <td>17</td>\n",
       "      <td>3</td>\n",
       "      <td>7</td>\n",
       "      <td>1</td>\n",
       "      <td>1</td>\n",
       "      <td>0</td>\n",
       "      <td>2.0</td>\n",
       "    </tr>\n",
       "    <tr>\n",
       "      <th>2</th>\n",
       "      <td>563</td>\n",
       "      <td>1</td>\n",
       "      <td>0.5</td>\n",
       "      <td>1</td>\n",
       "      <td>2</td>\n",
       "      <td>1</td>\n",
       "      <td>41</td>\n",
       "      <td>0.9</td>\n",
       "      <td>145</td>\n",
       "      <td>5</td>\n",
       "      <td>...</td>\n",
       "      <td>1263</td>\n",
       "      <td>1716</td>\n",
       "      <td>2603</td>\n",
       "      <td>11</td>\n",
       "      <td>2</td>\n",
       "      <td>9</td>\n",
       "      <td>1</td>\n",
       "      <td>1</td>\n",
       "      <td>0</td>\n",
       "      <td>2.0</td>\n",
       "    </tr>\n",
       "    <tr>\n",
       "      <th>3</th>\n",
       "      <td>615</td>\n",
       "      <td>1</td>\n",
       "      <td>2.5</td>\n",
       "      <td>0</td>\n",
       "      <td>0</td>\n",
       "      <td>0</td>\n",
       "      <td>10</td>\n",
       "      <td>0.8</td>\n",
       "      <td>131</td>\n",
       "      <td>6</td>\n",
       "      <td>...</td>\n",
       "      <td>1216</td>\n",
       "      <td>1786</td>\n",
       "      <td>2769</td>\n",
       "      <td>16</td>\n",
       "      <td>8</td>\n",
       "      <td>11</td>\n",
       "      <td>1</td>\n",
       "      <td>0</td>\n",
       "      <td>0</td>\n",
       "      <td>2.0</td>\n",
       "    </tr>\n",
       "    <tr>\n",
       "      <th>4</th>\n",
       "      <td>1821</td>\n",
       "      <td>1</td>\n",
       "      <td>1.2</td>\n",
       "      <td>0</td>\n",
       "      <td>13</td>\n",
       "      <td>1</td>\n",
       "      <td>44</td>\n",
       "      <td>0.6</td>\n",
       "      <td>141</td>\n",
       "      <td>2</td>\n",
       "      <td>...</td>\n",
       "      <td>1208</td>\n",
       "      <td>1212</td>\n",
       "      <td>1411</td>\n",
       "      <td>8</td>\n",
       "      <td>2</td>\n",
       "      <td>15</td>\n",
       "      <td>1</td>\n",
       "      <td>1</td>\n",
       "      <td>0</td>\n",
       "      <td>1.0</td>\n",
       "    </tr>\n",
       "  </tbody>\n",
       "</table>\n",
       "<p>5 rows × 21 columns</p>\n",
       "</div>"
      ],
      "text/plain": [
       "   battery_power  blue  clock_speed  dual_sim  fc  four_g  int_memory  m_dep   \n",
       "0            842     0          2.2         0   1       0           7    0.6  \\\n",
       "1           1021     1          0.5         1   0       1          53    0.7   \n",
       "2            563     1          0.5         1   2       1          41    0.9   \n",
       "3            615     1          2.5         0   0       0          10    0.8   \n",
       "4           1821     1          1.2         0  13       1          44    0.6   \n",
       "\n",
       "   mobile_wt  n_cores  ...  px_height  px_width   ram  sc_h  sc_w  talk_time   \n",
       "0        188        2  ...         20       756  2549     9     7         19  \\\n",
       "1        136        3  ...        905      1988  2631    17     3          7   \n",
       "2        145        5  ...       1263      1716  2603    11     2          9   \n",
       "3        131        6  ...       1216      1786  2769    16     8         11   \n",
       "4        141        2  ...       1208      1212  1411     8     2         15   \n",
       "\n",
       "   three_g  touch_screen  wifi  price_range  \n",
       "0        0             0     1          1.0  \n",
       "1        1             1     0          2.0  \n",
       "2        1             1     0          2.0  \n",
       "3        1             0     0          2.0  \n",
       "4        1             1     0          1.0  \n",
       "\n",
       "[5 rows x 21 columns]"
      ]
     },
     "execution_count": 2,
     "metadata": {},
     "output_type": "execute_result"
    }
   ],
   "source": [
    "df=pd.read_csv('mobile.csv')\n",
    "df.head()"
   ]
  },
  {
   "cell_type": "code",
   "execution_count": 3,
   "id": "895543d5",
   "metadata": {},
   "outputs": [
    {
     "name": "stdout",
     "output_type": "stream",
     "text": [
      "<class 'pandas.core.frame.DataFrame'>\n",
      "RangeIndex: 3000 entries, 0 to 2999\n",
      "Data columns (total 21 columns):\n",
      " #   Column         Non-Null Count  Dtype  \n",
      "---  ------         --------------  -----  \n",
      " 0   battery_power  3000 non-null   int64  \n",
      " 1   blue           3000 non-null   int64  \n",
      " 2   clock_speed    3000 non-null   float64\n",
      " 3   dual_sim       3000 non-null   int64  \n",
      " 4   fc             3000 non-null   int64  \n",
      " 5   four_g         3000 non-null   int64  \n",
      " 6   int_memory     3000 non-null   int64  \n",
      " 7   m_dep          3000 non-null   float64\n",
      " 8   mobile_wt      3000 non-null   int64  \n",
      " 9   n_cores        3000 non-null   int64  \n",
      " 10  pc             3000 non-null   int64  \n",
      " 11  px_height      3000 non-null   int64  \n",
      " 12  px_width       3000 non-null   int64  \n",
      " 13  ram            3000 non-null   int64  \n",
      " 14  sc_h           3000 non-null   int64  \n",
      " 15  sc_w           3000 non-null   int64  \n",
      " 16  talk_time      3000 non-null   int64  \n",
      " 17  three_g        3000 non-null   int64  \n",
      " 18  touch_screen   3000 non-null   int64  \n",
      " 19  wifi           3000 non-null   int64  \n",
      " 20  price_range    2000 non-null   float64\n",
      "dtypes: float64(3), int64(18)\n",
      "memory usage: 492.3 KB\n"
     ]
    }
   ],
   "source": [
    "df.info()"
   ]
  },
  {
   "cell_type": "code",
   "execution_count": 5,
   "id": "6d4914a8",
   "metadata": {},
   "outputs": [],
   "source": [
    "df.dropna(subset='price_range',inplace=True)"
   ]
  },
  {
   "cell_type": "code",
   "execution_count": 6,
   "id": "bdc00c12",
   "metadata": {
    "scrolled": true
   },
   "outputs": [
    {
     "name": "stdout",
     "output_type": "stream",
     "text": [
      "<class 'pandas.core.frame.DataFrame'>\n",
      "Index: 2000 entries, 0 to 1999\n",
      "Data columns (total 21 columns):\n",
      " #   Column         Non-Null Count  Dtype  \n",
      "---  ------         --------------  -----  \n",
      " 0   battery_power  2000 non-null   int64  \n",
      " 1   blue           2000 non-null   int64  \n",
      " 2   clock_speed    2000 non-null   float64\n",
      " 3   dual_sim       2000 non-null   int64  \n",
      " 4   fc             2000 non-null   int64  \n",
      " 5   four_g         2000 non-null   int64  \n",
      " 6   int_memory     2000 non-null   int64  \n",
      " 7   m_dep          2000 non-null   float64\n",
      " 8   mobile_wt      2000 non-null   int64  \n",
      " 9   n_cores        2000 non-null   int64  \n",
      " 10  pc             2000 non-null   int64  \n",
      " 11  px_height      2000 non-null   int64  \n",
      " 12  px_width       2000 non-null   int64  \n",
      " 13  ram            2000 non-null   int64  \n",
      " 14  sc_h           2000 non-null   int64  \n",
      " 15  sc_w           2000 non-null   int64  \n",
      " 16  talk_time      2000 non-null   int64  \n",
      " 17  three_g        2000 non-null   int64  \n",
      " 18  touch_screen   2000 non-null   int64  \n",
      " 19  wifi           2000 non-null   int64  \n",
      " 20  price_range    2000 non-null   float64\n",
      "dtypes: float64(3), int64(18)\n",
      "memory usage: 343.8 KB\n"
     ]
    }
   ],
   "source": [
    "df.info()"
   ]
  },
  {
   "cell_type": "code",
   "execution_count": 8,
   "id": "f4881133",
   "metadata": {},
   "outputs": [],
   "source": [
    "X=df.drop('price_range',axis=1)\n",
    "y=df['price_range']"
   ]
  },
  {
   "cell_type": "code",
   "execution_count": 9,
   "id": "f05e26d3",
   "metadata": {},
   "outputs": [],
   "source": [
    "from sklearn.model_selection import train_test_split\n",
    "X_train,X_test,y_train,y_test=train_test_split(X,y,test_size=0.25)\n"
   ]
  },
  {
   "cell_type": "code",
   "execution_count": 11,
   "id": "77fda2e8",
   "metadata": {},
   "outputs": [],
   "source": [
    "from sklearn.model_selection import KFold\n",
    "fold=KFold(n_splits=10,random_state=7,shuffle=True)"
   ]
  },
  {
   "cell_type": "code",
   "execution_count": 12,
   "id": "80a62490",
   "metadata": {},
   "outputs": [],
   "source": [
    "from sklearn.ensemble import RandomForestClassifier\n",
    "model=RandomForestClassifier()"
   ]
  },
  {
   "cell_type": "code",
   "execution_count": 14,
   "id": "4f340ab4",
   "metadata": {},
   "outputs": [],
   "source": [
    "from sklearn.ensemble import BaggingClassifier\n",
    "final_model=BaggingClassifier(base_estimator=model,n_estimators=10,random_state=7)"
   ]
  },
  {
   "cell_type": "code",
   "execution_count": 15,
   "id": "2974bd14",
   "metadata": {},
   "outputs": [
    {
     "name": "stderr",
     "output_type": "stream",
     "text": [
      "E:\\BROCAMP\\DS\\dsvenv\\lib\\site-packages\\sklearn\\ensemble\\_base.py:166: FutureWarning: `base_estimator` was renamed to `estimator` in version 1.2 and will be removed in 1.4.\n",
      "  warnings.warn(\n",
      "E:\\BROCAMP\\DS\\dsvenv\\lib\\site-packages\\sklearn\\ensemble\\_base.py:166: FutureWarning: `base_estimator` was renamed to `estimator` in version 1.2 and will be removed in 1.4.\n",
      "  warnings.warn(\n",
      "E:\\BROCAMP\\DS\\dsvenv\\lib\\site-packages\\sklearn\\ensemble\\_base.py:166: FutureWarning: `base_estimator` was renamed to `estimator` in version 1.2 and will be removed in 1.4.\n",
      "  warnings.warn(\n",
      "E:\\BROCAMP\\DS\\dsvenv\\lib\\site-packages\\sklearn\\ensemble\\_base.py:166: FutureWarning: `base_estimator` was renamed to `estimator` in version 1.2 and will be removed in 1.4.\n",
      "  warnings.warn(\n",
      "E:\\BROCAMP\\DS\\dsvenv\\lib\\site-packages\\sklearn\\ensemble\\_base.py:166: FutureWarning: `base_estimator` was renamed to `estimator` in version 1.2 and will be removed in 1.4.\n",
      "  warnings.warn(\n",
      "E:\\BROCAMP\\DS\\dsvenv\\lib\\site-packages\\sklearn\\ensemble\\_base.py:166: FutureWarning: `base_estimator` was renamed to `estimator` in version 1.2 and will be removed in 1.4.\n",
      "  warnings.warn(\n",
      "E:\\BROCAMP\\DS\\dsvenv\\lib\\site-packages\\sklearn\\ensemble\\_base.py:166: FutureWarning: `base_estimator` was renamed to `estimator` in version 1.2 and will be removed in 1.4.\n",
      "  warnings.warn(\n",
      "E:\\BROCAMP\\DS\\dsvenv\\lib\\site-packages\\sklearn\\ensemble\\_base.py:166: FutureWarning: `base_estimator` was renamed to `estimator` in version 1.2 and will be removed in 1.4.\n",
      "  warnings.warn(\n",
      "E:\\BROCAMP\\DS\\dsvenv\\lib\\site-packages\\sklearn\\ensemble\\_base.py:166: FutureWarning: `base_estimator` was renamed to `estimator` in version 1.2 and will be removed in 1.4.\n",
      "  warnings.warn(\n",
      "E:\\BROCAMP\\DS\\dsvenv\\lib\\site-packages\\sklearn\\ensemble\\_base.py:166: FutureWarning: `base_estimator` was renamed to `estimator` in version 1.2 and will be removed in 1.4.\n",
      "  warnings.warn(\n"
     ]
    },
    {
     "name": "stdout",
     "output_type": "stream",
     "text": [
      "model: 0 accuracy: 0.8333333333333334\n",
      "model: 1 accuracy: 0.88\n",
      "model: 2 accuracy: 0.9333333333333333\n",
      "model: 3 accuracy: 0.9066666666666666\n",
      "model: 4 accuracy: 0.8933333333333333\n",
      "model: 5 accuracy: 0.84\n",
      "model: 6 accuracy: 0.8666666666666667\n",
      "model: 7 accuracy: 0.8733333333333333\n",
      "model: 8 accuracy: 0.84\n",
      "model: 9 accuracy: 0.9\n"
     ]
    }
   ],
   "source": [
    "from sklearn.model_selection import cross_val_score\n",
    "cv=cross_val_score(final_model,X_train,y_train,cv=fold)\n",
    "for i in range(len(cv)):\n",
    "    print('model:',i,'accuracy:',cv[i])"
   ]
  },
  {
   "cell_type": "code",
   "execution_count": 16,
   "id": "403a30c0",
   "metadata": {},
   "outputs": [
    {
     "name": "stderr",
     "output_type": "stream",
     "text": [
      "E:\\BROCAMP\\DS\\dsvenv\\lib\\site-packages\\sklearn\\ensemble\\_base.py:166: FutureWarning: `base_estimator` was renamed to `estimator` in version 1.2 and will be removed in 1.4.\n",
      "  warnings.warn(\n"
     ]
    },
    {
     "name": "stdout",
     "output_type": "stream",
     "text": [
      "              precision    recall  f1-score   support\n",
      "\n",
      "         0.0       0.96      0.96      0.96       125\n",
      "         1.0       0.83      0.85      0.84       125\n",
      "         2.0       0.83      0.74      0.79       133\n",
      "         3.0       0.86      0.95      0.90       117\n",
      "\n",
      "    accuracy                           0.87       500\n",
      "   macro avg       0.87      0.88      0.87       500\n",
      "weighted avg       0.87      0.87      0.87       500\n",
      "\n"
     ]
    }
   ],
   "source": [
    "from sklearn.metrics import classification_report\n",
    "final_model.fit(X_train,y_train)\n",
    "y_pred=final_model.predict(X_test)\n",
    "print(classification_report(y_test,y_pred))"
   ]
  },
  {
   "cell_type": "code",
   "execution_count": 17,
   "id": "d099deaf",
   "metadata": {},
   "outputs": [],
   "source": [
    "from sklearn.tree import DecisionTreeClassifier\n",
    "model1=DecisionTreeClassifier()\n"
   ]
  },
  {
   "cell_type": "code",
   "execution_count": 18,
   "id": "9933f26e",
   "metadata": {},
   "outputs": [],
   "source": [
    "final_model1=BaggingClassifier(base_estimator=model1,n_estimators=100,random_state=7)"
   ]
  },
  {
   "cell_type": "code",
   "execution_count": 20,
   "id": "9cd523a5",
   "metadata": {},
   "outputs": [
    {
     "name": "stderr",
     "output_type": "stream",
     "text": [
      "E:\\BROCAMP\\DS\\dsvenv\\lib\\site-packages\\sklearn\\ensemble\\_base.py:166: FutureWarning: `base_estimator` was renamed to `estimator` in version 1.2 and will be removed in 1.4.\n",
      "  warnings.warn(\n",
      "E:\\BROCAMP\\DS\\dsvenv\\lib\\site-packages\\sklearn\\ensemble\\_base.py:166: FutureWarning: `base_estimator` was renamed to `estimator` in version 1.2 and will be removed in 1.4.\n",
      "  warnings.warn(\n",
      "E:\\BROCAMP\\DS\\dsvenv\\lib\\site-packages\\sklearn\\ensemble\\_base.py:166: FutureWarning: `base_estimator` was renamed to `estimator` in version 1.2 and will be removed in 1.4.\n",
      "  warnings.warn(\n",
      "E:\\BROCAMP\\DS\\dsvenv\\lib\\site-packages\\sklearn\\ensemble\\_base.py:166: FutureWarning: `base_estimator` was renamed to `estimator` in version 1.2 and will be removed in 1.4.\n",
      "  warnings.warn(\n",
      "E:\\BROCAMP\\DS\\dsvenv\\lib\\site-packages\\sklearn\\ensemble\\_base.py:166: FutureWarning: `base_estimator` was renamed to `estimator` in version 1.2 and will be removed in 1.4.\n",
      "  warnings.warn(\n",
      "E:\\BROCAMP\\DS\\dsvenv\\lib\\site-packages\\sklearn\\ensemble\\_base.py:166: FutureWarning: `base_estimator` was renamed to `estimator` in version 1.2 and will be removed in 1.4.\n",
      "  warnings.warn(\n",
      "E:\\BROCAMP\\DS\\dsvenv\\lib\\site-packages\\sklearn\\ensemble\\_base.py:166: FutureWarning: `base_estimator` was renamed to `estimator` in version 1.2 and will be removed in 1.4.\n",
      "  warnings.warn(\n",
      "E:\\BROCAMP\\DS\\dsvenv\\lib\\site-packages\\sklearn\\ensemble\\_base.py:166: FutureWarning: `base_estimator` was renamed to `estimator` in version 1.2 and will be removed in 1.4.\n",
      "  warnings.warn(\n",
      "E:\\BROCAMP\\DS\\dsvenv\\lib\\site-packages\\sklearn\\ensemble\\_base.py:166: FutureWarning: `base_estimator` was renamed to `estimator` in version 1.2 and will be removed in 1.4.\n",
      "  warnings.warn(\n",
      "E:\\BROCAMP\\DS\\dsvenv\\lib\\site-packages\\sklearn\\ensemble\\_base.py:166: FutureWarning: `base_estimator` was renamed to `estimator` in version 1.2 and will be removed in 1.4.\n",
      "  warnings.warn(\n"
     ]
    },
    {
     "name": "stdout",
     "output_type": "stream",
     "text": [
      "model: 0 accuracy: 0.8666666666666667\n",
      "model: 1 accuracy: 0.8933333333333333\n",
      "model: 2 accuracy: 0.9133333333333333\n",
      "model: 3 accuracy: 0.9\n",
      "model: 4 accuracy: 0.8933333333333333\n",
      "model: 5 accuracy: 0.8466666666666667\n",
      "model: 6 accuracy: 0.86\n",
      "model: 7 accuracy: 0.86\n",
      "model: 8 accuracy: 0.8666666666666667\n",
      "model: 9 accuracy: 0.8866666666666667\n"
     ]
    }
   ],
   "source": [
    "cv1=cross_val_score(final_model1,X_train,y_train,cv=fold)\n",
    "for i in range(len(cv1)):\n",
    "    print('model:',i,'accuracy:',cv1[i])"
   ]
  },
  {
   "cell_type": "code",
   "execution_count": 22,
   "id": "1d8126b2",
   "metadata": {},
   "outputs": [
    {
     "name": "stderr",
     "output_type": "stream",
     "text": [
      "E:\\BROCAMP\\DS\\dsvenv\\lib\\site-packages\\sklearn\\ensemble\\_base.py:166: FutureWarning: `base_estimator` was renamed to `estimator` in version 1.2 and will be removed in 1.4.\n",
      "  warnings.warn(\n"
     ]
    },
    {
     "name": "stdout",
     "output_type": "stream",
     "text": [
      "              precision    recall  f1-score   support\n",
      "\n",
      "         0.0       0.97      0.87      0.92       125\n",
      "         1.0       0.82      0.93      0.87       125\n",
      "         2.0       0.88      0.86      0.87       133\n",
      "         3.0       0.92      0.92      0.92       117\n",
      "\n",
      "    accuracy                           0.90       500\n",
      "   macro avg       0.90      0.90      0.90       500\n",
      "weighted avg       0.90      0.90      0.90       500\n",
      "\n"
     ]
    }
   ],
   "source": [
    "final_model1.fit(X_train,y_train)\n",
    "y_pred1=final_model1.predict(X_test)\n",
    "print(classification_report(y_test,y_pred1))"
   ]
  },
  {
   "cell_type": "code",
   "execution_count": null,
   "id": "620b39a1",
   "metadata": {},
   "outputs": [],
   "source": []
  }
 ],
 "metadata": {
  "kernelspec": {
   "display_name": "dsvenv",
   "language": "python",
   "name": "dsvenv"
  },
  "language_info": {
   "codemirror_mode": {
    "name": "ipython",
    "version": 3
   },
   "file_extension": ".py",
   "mimetype": "text/x-python",
   "name": "python",
   "nbconvert_exporter": "python",
   "pygments_lexer": "ipython3",
   "version": "3.10.11"
  },
  "varInspector": {
   "cols": {
    "lenName": 16,
    "lenType": 16,
    "lenVar": 40
   },
   "kernels_config": {
    "python": {
     "delete_cmd_postfix": "",
     "delete_cmd_prefix": "del ",
     "library": "var_list.py",
     "varRefreshCmd": "print(var_dic_list())"
    },
    "r": {
     "delete_cmd_postfix": ") ",
     "delete_cmd_prefix": "rm(",
     "library": "var_list.r",
     "varRefreshCmd": "cat(var_dic_list()) "
    }
   },
   "types_to_exclude": [
    "module",
    "function",
    "builtin_function_or_method",
    "instance",
    "_Feature"
   ],
   "window_display": false
  }
 },
 "nbformat": 4,
 "nbformat_minor": 5
}
